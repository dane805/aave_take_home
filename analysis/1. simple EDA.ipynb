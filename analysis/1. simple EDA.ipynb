{
 "cells": [
  {
   "cell_type": "markdown",
   "id": "d671d58e",
   "metadata": {},
   "source": [
    "- 간단하게 파일 한 번씩 열어봤으나 크게 정리되지는 않음"
   ]
  },
  {
   "cell_type": "code",
   "execution_count": 30,
   "id": "fa41de04",
   "metadata": {},
   "outputs": [],
   "source": [
    "from glob import glob\n",
    "\n",
    "import pandas as pd\n",
    "import numpy as np\n",
    "import matplotlib.pyplot as plt"
   ]
  },
  {
   "cell_type": "code",
   "execution_count": 6,
   "id": "a7d1dbef",
   "metadata": {},
   "outputs": [],
   "source": [
    "data_path = \"../take-home-interview/\""
   ]
  },
  {
   "cell_type": "code",
   "execution_count": 8,
   "id": "f7fb9e5d",
   "metadata": {},
   "outputs": [
    {
     "data": {
      "text/plain": [
       "['../take-home-interview/defi_credits.csv',\n",
       " '../take-home-interview/aave_loan_balance.csv',\n",
       " '../take-home-interview/installments_payments.csv',\n",
       " '../take-home-interview/defi_credits_balance.csv',\n",
       " '../take-home-interview/application_previous.csv',\n",
       " '../take-home-interview/loan_application.csv']"
      ]
     },
     "execution_count": 8,
     "metadata": {},
     "output_type": "execute_result"
    }
   ],
   "source": [
    "file_list = glob(data_path+\"*\")\n",
    "file_list"
   ]
  },
  {
   "cell_type": "markdown",
   "id": "7d3abb08",
   "metadata": {},
   "source": [
    "## loan_application"
   ]
  },
  {
   "cell_type": "code",
   "execution_count": 116,
   "id": "8d123cd9",
   "metadata": {},
   "outputs": [],
   "source": [
    "app = pd.read_csv(data_path + \"loan_application.csv\")"
   ]
  },
  {
   "cell_type": "code",
   "execution_count": 175,
   "id": "4f5e0702",
   "metadata": {},
   "outputs": [
    {
     "data": {
      "text/html": [
       "<div>\n",
       "<style scoped>\n",
       "    .dataframe tbody tr th:only-of-type {\n",
       "        vertical-align: middle;\n",
       "    }\n",
       "\n",
       "    .dataframe tbody tr th {\n",
       "        vertical-align: top;\n",
       "    }\n",
       "\n",
       "    .dataframe thead th {\n",
       "        text-align: right;\n",
       "    }\n",
       "</style>\n",
       "<table border=\"1\" class=\"dataframe\">\n",
       "  <thead>\n",
       "    <tr style=\"text-align: right;\">\n",
       "      <th></th>\n",
       "      <th>application_id_current</th>\n",
       "      <th>target</th>\n",
       "      <th>col_2</th>\n",
       "      <th>col_3</th>\n",
       "      <th>col_4</th>\n",
       "      <th>col_5</th>\n",
       "      <th>col_6</th>\n",
       "      <th>col_7</th>\n",
       "      <th>col_8</th>\n",
       "      <th>col_9</th>\n",
       "      <th>...</th>\n",
       "      <th>col_113</th>\n",
       "      <th>col_114</th>\n",
       "      <th>col_115</th>\n",
       "      <th>col_116</th>\n",
       "      <th>col_117</th>\n",
       "      <th>col_118</th>\n",
       "      <th>col_119</th>\n",
       "      <th>col_120</th>\n",
       "      <th>col_121</th>\n",
       "      <th>type</th>\n",
       "    </tr>\n",
       "  </thead>\n",
       "  <tbody>\n",
       "    <tr>\n",
       "      <th>0</th>\n",
       "      <td>100002</td>\n",
       "      <td>1.0</td>\n",
       "      <td>0</td>\n",
       "      <td>202500.0</td>\n",
       "      <td>406597.5</td>\n",
       "      <td>24700.5</td>\n",
       "      <td>351000.0</td>\n",
       "      <td>0.018801</td>\n",
       "      <td>-9461</td>\n",
       "      <td>-637</td>\n",
       "      <td>...</td>\n",
       "      <td>3</td>\n",
       "      <td>1</td>\n",
       "      <td>8</td>\n",
       "      <td>6</td>\n",
       "      <td>5</td>\n",
       "      <td>2</td>\n",
       "      <td>0</td>\n",
       "      <td>5</td>\n",
       "      <td>0</td>\n",
       "      <td>train</td>\n",
       "    </tr>\n",
       "    <tr>\n",
       "      <th>1</th>\n",
       "      <td>100003</td>\n",
       "      <td>0.0</td>\n",
       "      <td>0</td>\n",
       "      <td>270000.0</td>\n",
       "      <td>1293502.5</td>\n",
       "      <td>35698.5</td>\n",
       "      <td>1129500.0</td>\n",
       "      <td>0.003541</td>\n",
       "      <td>-16765</td>\n",
       "      <td>-1188</td>\n",
       "      <td>...</td>\n",
       "      <td>1</td>\n",
       "      <td>1</td>\n",
       "      <td>3</td>\n",
       "      <td>1</td>\n",
       "      <td>39</td>\n",
       "      <td>2</td>\n",
       "      <td>0</td>\n",
       "      <td>0</td>\n",
       "      <td>0</td>\n",
       "      <td>train</td>\n",
       "    </tr>\n",
       "    <tr>\n",
       "      <th>2</th>\n",
       "      <td>100004</td>\n",
       "      <td>0.0</td>\n",
       "      <td>0</td>\n",
       "      <td>67500.0</td>\n",
       "      <td>135000.0</td>\n",
       "      <td>6750.0</td>\n",
       "      <td>135000.0</td>\n",
       "      <td>0.010032</td>\n",
       "      <td>-19046</td>\n",
       "      <td>-225</td>\n",
       "      <td>...</td>\n",
       "      <td>3</td>\n",
       "      <td>1</td>\n",
       "      <td>8</td>\n",
       "      <td>1</td>\n",
       "      <td>11</td>\n",
       "      <td>4</td>\n",
       "      <td>3</td>\n",
       "      <td>7</td>\n",
       "      <td>2</td>\n",
       "      <td>train</td>\n",
       "    </tr>\n",
       "    <tr>\n",
       "      <th>3</th>\n",
       "      <td>100006</td>\n",
       "      <td>0.0</td>\n",
       "      <td>0</td>\n",
       "      <td>135000.0</td>\n",
       "      <td>312682.5</td>\n",
       "      <td>29686.5</td>\n",
       "      <td>297000.0</td>\n",
       "      <td>0.008019</td>\n",
       "      <td>-19005</td>\n",
       "      <td>-3039</td>\n",
       "      <td>...</td>\n",
       "      <td>0</td>\n",
       "      <td>1</td>\n",
       "      <td>8</td>\n",
       "      <td>6</td>\n",
       "      <td>5</td>\n",
       "      <td>4</td>\n",
       "      <td>3</td>\n",
       "      <td>7</td>\n",
       "      <td>2</td>\n",
       "      <td>train</td>\n",
       "    </tr>\n",
       "    <tr>\n",
       "      <th>4</th>\n",
       "      <td>100007</td>\n",
       "      <td>0.0</td>\n",
       "      <td>0</td>\n",
       "      <td>121500.0</td>\n",
       "      <td>513000.0</td>\n",
       "      <td>21865.5</td>\n",
       "      <td>513000.0</td>\n",
       "      <td>0.028663</td>\n",
       "      <td>-19932</td>\n",
       "      <td>-3038</td>\n",
       "      <td>...</td>\n",
       "      <td>3</td>\n",
       "      <td>1</td>\n",
       "      <td>3</td>\n",
       "      <td>4</td>\n",
       "      <td>37</td>\n",
       "      <td>4</td>\n",
       "      <td>3</td>\n",
       "      <td>7</td>\n",
       "      <td>2</td>\n",
       "      <td>train</td>\n",
       "    </tr>\n",
       "  </tbody>\n",
       "</table>\n",
       "<p>5 rows × 123 columns</p>\n",
       "</div>"
      ],
      "text/plain": [
       "   application_id_current  target  col_2     col_3      col_4    col_5  \\\n",
       "0                  100002     1.0      0  202500.0   406597.5  24700.5   \n",
       "1                  100003     0.0      0  270000.0  1293502.5  35698.5   \n",
       "2                  100004     0.0      0   67500.0   135000.0   6750.0   \n",
       "3                  100006     0.0      0  135000.0   312682.5  29686.5   \n",
       "4                  100007     0.0      0  121500.0   513000.0  21865.5   \n",
       "\n",
       "       col_6     col_7  col_8  col_9  ...  col_113  col_114  col_115  col_116  \\\n",
       "0   351000.0  0.018801  -9461   -637  ...        3        1        8        6   \n",
       "1  1129500.0  0.003541 -16765  -1188  ...        1        1        3        1   \n",
       "2   135000.0  0.010032 -19046   -225  ...        3        1        8        1   \n",
       "3   297000.0  0.008019 -19005  -3039  ...        0        1        8        6   \n",
       "4   513000.0  0.028663 -19932  -3038  ...        3        1        3        4   \n",
       "\n",
       "   col_117  col_118  col_119  col_120  col_121   type  \n",
       "0        5        2        0        5        0  train  \n",
       "1       39        2        0        0        0  train  \n",
       "2       11        4        3        7        2  train  \n",
       "3        5        4        3        7        2  train  \n",
       "4       37        4        3        7        2  train  \n",
       "\n",
       "[5 rows x 123 columns]"
      ]
     },
     "execution_count": 175,
     "metadata": {},
     "output_type": "execute_result"
    }
   ],
   "source": [
    "app.head()"
   ]
  },
  {
   "cell_type": "code",
   "execution_count": 176,
   "id": "32ea0e33",
   "metadata": {},
   "outputs": [
    {
     "name": "stdout",
     "output_type": "stream",
     "text": [
      "총 데이터 수: 356255\n",
      "application_id_current 중복 수: 0\n"
     ]
    }
   ],
   "source": [
    "print(f\"총 데이터 수: {len(app)}\")\n",
    "\n",
    "print(f\"application_id_current 중복 수: {app.application_id_current.duplicated().sum()}\")"
   ]
  },
  {
   "cell_type": "code",
   "execution_count": 177,
   "id": "ad4b2d27",
   "metadata": {},
   "outputs": [
    {
     "data": {
      "text/plain": [
       "0.0    282686\n",
       "1.0     24825\n",
       "Name: target, dtype: int64"
      ]
     },
     "metadata": {},
     "output_type": "display_data"
    }
   ],
   "source": [
    "## 약 11:1로 언밸런스 함\n",
    "display(app.target.value_counts())"
   ]
  },
  {
   "cell_type": "code",
   "execution_count": 119,
   "id": "3143c5bf",
   "metadata": {},
   "outputs": [
    {
     "data": {
      "text/plain": [
       "0.13682334283027606"
      ]
     },
     "execution_count": 119,
     "metadata": {},
     "output_type": "execute_result"
    }
   ],
   "source": [
    "## 결측은 test: 약 13.7%\n",
    "app.target.isna().mean()"
   ]
  },
  {
   "cell_type": "code",
   "execution_count": 172,
   "id": "cafd93fc",
   "metadata": {},
   "outputs": [
    {
     "data": {
      "image/png": "[encoded data removed]",
      "text/plain": [
       "<Figure size 432x288 with 1 Axes>"
      ]
     },
     "metadata": {
      "needs_background": "light"
     },
     "output_type": "display_data"
    }
   ],
   "source": [
    "## col2의 분포 예시\n",
    "## 차이 있음이 확인\n",
    "legend = []\n",
    "for target, group in app.groupby(\"target\"):\n",
    "    color = 'skyblue' if target == 0 else 'pink'\n",
    "    group.col_2.value_counts(normalize=True).plot.bar(alpha=0.5, color=color)\n",
    "    legend.append(target)\n",
    "    \n",
    "plt.legend(legend)\n",
    "plt.show()"
   ]
  },
  {
   "cell_type": "code",
   "execution_count": null,
   "id": "24531c5f",
   "metadata": {},
   "outputs": [],
   "source": [
    "feature_cols = [col for col in app.columns if col.startswith(\"col\")]"
   ]
  },
  {
   "cell_type": "markdown",
   "id": "2d07ab1b",
   "metadata": {},
   "source": [
    "**칼럼별 결측값**"
   ]
  },
  {
   "cell_type": "code",
   "execution_count": 217,
   "id": "436f5ec8",
   "metadata": {},
   "outputs": [],
   "source": [
    "missings = app.isna()\n",
    "missing_df = pd.DataFrame({'missing_count':missings.sum(), 'missing_ratio':missings.mean()})"
   ]
  },
  {
   "cell_type": "code",
   "execution_count": 220,
   "id": "d9cff205",
   "metadata": {},
   "outputs": [
    {
     "name": "stdout",
     "output_type": "stream",
     "text": [
      "결측 없는 피쳐 수: 61(49.59%)\n"
     ]
    }
   ],
   "source": [
    "no_missing_column_count = (missing_df.missing_count == 0).sum()\n",
    "no_missing_column_ratio = (missing_df.missing_count == 0).mean()\n",
    "print(f\"결측 없는 피쳐 수: {no_missing_column_count}({no_missing_column_ratio*100:.2f}%)\")"
   ]
  },
  {
   "cell_type": "code",
   "execution_count": 219,
   "id": "d6d62c7f",
   "metadata": {},
   "outputs": [
    {
     "data": {
      "text/html": [
       "<div>\n",
       "<style scoped>\n",
       "    .dataframe tbody tr th:only-of-type {\n",
       "        vertical-align: middle;\n",
       "    }\n",
       "\n",
       "    .dataframe tbody tr th {\n",
       "        vertical-align: top;\n",
       "    }\n",
       "\n",
       "    .dataframe thead th {\n",
       "        text-align: right;\n",
       "    }\n",
       "</style>\n",
       "<table border=\"1\" class=\"dataframe\">\n",
       "  <thead>\n",
       "    <tr style=\"text-align: right;\">\n",
       "      <th></th>\n",
       "      <th>missing_count</th>\n",
       "      <th>missing_ratio</th>\n",
       "    </tr>\n",
       "  </thead>\n",
       "  <tbody>\n",
       "    <tr>\n",
       "      <th>col_50</th>\n",
       "      <td>248360</td>\n",
       "      <td>0.697141</td>\n",
       "    </tr>\n",
       "    <tr>\n",
       "      <th>col_64</th>\n",
       "      <td>248360</td>\n",
       "      <td>0.697141</td>\n",
       "    </tr>\n",
       "    <tr>\n",
       "      <th>col_36</th>\n",
       "      <td>248360</td>\n",
       "      <td>0.697141</td>\n",
       "    </tr>\n",
       "    <tr>\n",
       "      <th>col_44</th>\n",
       "      <td>246861</td>\n",
       "      <td>0.692933</td>\n",
       "    </tr>\n",
       "    <tr>\n",
       "      <th>col_72</th>\n",
       "      <td>246861</td>\n",
       "      <td>0.692933</td>\n",
       "    </tr>\n",
       "    <tr>\n",
       "      <th>...</th>\n",
       "      <td>...</td>\n",
       "      <td>...</td>\n",
       "    </tr>\n",
       "    <tr>\n",
       "      <th>col_30</th>\n",
       "      <td>668</td>\n",
       "      <td>0.001875</td>\n",
       "    </tr>\n",
       "    <tr>\n",
       "      <th>col_6</th>\n",
       "      <td>278</td>\n",
       "      <td>0.000780</td>\n",
       "    </tr>\n",
       "    <tr>\n",
       "      <th>col_5</th>\n",
       "      <td>36</td>\n",
       "      <td>0.000101</td>\n",
       "    </tr>\n",
       "    <tr>\n",
       "      <th>col_19</th>\n",
       "      <td>2</td>\n",
       "      <td>0.000006</td>\n",
       "    </tr>\n",
       "    <tr>\n",
       "      <th>col_79</th>\n",
       "      <td>1</td>\n",
       "      <td>0.000003</td>\n",
       "    </tr>\n",
       "  </tbody>\n",
       "</table>\n",
       "<p>62 rows × 2 columns</p>\n",
       "</div>"
      ],
      "text/plain": [
       "        missing_count  missing_ratio\n",
       "col_50         248360       0.697141\n",
       "col_64         248360       0.697141\n",
       "col_36         248360       0.697141\n",
       "col_44         246861       0.692933\n",
       "col_72         246861       0.692933\n",
       "...               ...            ...\n",
       "col_30            668       0.001875\n",
       "col_6             278       0.000780\n",
       "col_5              36       0.000101\n",
       "col_19              2       0.000006\n",
       "col_79              1       0.000003\n",
       "\n",
       "[62 rows x 2 columns]"
      ]
     },
     "execution_count": 219,
     "metadata": {},
     "output_type": "execute_result"
    }
   ],
   "source": [
    "missing_df[missing_df.missing_ratio>0].sort_values('missing_ratio', ascending=False)"
   ]
  },
  {
   "cell_type": "code",
   "execution_count": 212,
   "id": "cccc44f3",
   "metadata": {},
   "outputs": [],
   "source": [
    "for col in feature_cols:\n",
    "    break"
   ]
  },
  {
   "cell_type": "code",
   "execution_count": 213,
   "id": "32353e76",
   "metadata": {},
   "outputs": [
    {
     "data": {
      "text/plain": [
       "0        0\n",
       "1        0\n",
       "2        0\n",
       "3        0\n",
       "4        0\n",
       "        ..\n",
       "48739    0\n",
       "48740    2\n",
       "48741    1\n",
       "48742    0\n",
       "48743    0\n",
       "Name: col_2, Length: 356255, dtype: int64"
      ]
     },
     "execution_count": 213,
     "metadata": {},
     "output_type": "execute_result"
    }
   ],
   "source": [
    "app[col]."
   ]
  },
  {
   "cell_type": "code",
   "execution_count": null,
   "id": "c4092499",
   "metadata": {},
   "outputs": [],
   "source": []
  },
  {
   "cell_type": "code",
   "execution_count": null,
   "id": "6b6b6dea",
   "metadata": {},
   "outputs": [],
   "source": []
  },
  {
   "cell_type": "code",
   "execution_count": null,
   "id": "dd70e6e0",
   "metadata": {},
   "outputs": [],
   "source": []
  },
  {
   "cell_type": "code",
   "execution_count": 138,
   "id": "b08ece9b",
   "metadata": {},
   "outputs": [],
   "source": [
    "mean_dic = {col:{} for col in feature_cols}\n",
    "median_dic = {col:{} for col in feature_cols}"
   ]
  },
  {
   "cell_type": "code",
   "execution_count": 139,
   "id": "63ec04b4",
   "metadata": {},
   "outputs": [],
   "source": [
    "for target, group in app.groupby('target'):\n",
    "    for col in feature_cols:\n",
    "        mean_dic[col][target] = group[col].mean()\n",
    "        median_dic[col][target] = group[col].median()"
   ]
  },
  {
   "cell_type": "code",
   "execution_count": 143,
   "id": "827f9332",
   "metadata": {},
   "outputs": [],
   "source": [
    "mean_df = pd.DataFrame(mean_dic).T\n",
    "median_df = pd.DataFrame(median_dic).T"
   ]
  },
  {
   "cell_type": "code",
   "execution_count": 150,
   "id": "1532a007",
   "metadata": {},
   "outputs": [
    {
     "data": {
      "text/plain": [
       "0.0   -16138.176397\n",
       "1.0   -14884.828077\n",
       "dtype: float64"
      ]
     },
     "execution_count": 150,
     "metadata": {},
     "output_type": "execute_result"
    }
   ],
   "source": [
    "mean_df.min()"
   ]
  },
  {
   "cell_type": "code",
   "execution_count": 156,
   "id": "a63e554c",
   "metadata": {},
   "outputs": [
    {
     "data": {
      "image/png": "[encoded data removed]",
      "text/plain": [
       "<Figure size 432x288 with 1 Axes>"
      ]
     },
     "metadata": {
      "needs_background": "light"
     },
     "output_type": "display_data"
    }
   ],
   "source": [
    "plt.scatter(mean_df[0.0], mean_df[1.0])\n",
    "plt.plot(range(0,10), range(0,10), color='red')\n",
    "plt.ylim(0, 6)\n",
    "plt.xlim(0, 6)\n",
    "plt.xlabel('False')\n",
    "plt.ylabel(\"True\")\n",
    "plt.show()"
   ]
  },
  {
   "cell_type": "code",
   "execution_count": 158,
   "id": "afccb327",
   "metadata": {},
   "outputs": [
    {
     "data": {
      "image/png": "[encoded data removed]",
      "text/plain": [
       "<Figure size 432x288 with 1 Axes>"
      ]
     },
     "metadata": {
      "needs_background": "light"
     },
     "output_type": "display_data"
    }
   ],
   "source": [
    "plt.scatter(median_df[0.0], median_df[1.0])\n",
    "plt.plot(range(0,10), range(0,10), color='red')\n",
    "plt.ylim(0, 6)\n",
    "plt.xlim(0, 6)\n",
    "plt.xlabel('False')\n",
    "plt.ylabel(\"True\")\n",
    "plt.show()"
   ]
  },
  {
   "cell_type": "code",
   "execution_count": 147,
   "id": "c23cecba",
   "metadata": {},
   "outputs": [
    {
     "data": {
      "image/png": "[encoded data removed]",
      "text/plain": [
       "<Figure size 432x288 with 1 Axes>"
      ]
     },
     "metadata": {
      "needs_background": "light"
     },
     "output_type": "display_data"
    }
   ],
   "source": [
    "plt.scatter(mean_df[0.0], mean_df[1.0])\n",
    "plt.xscale('log')\n",
    "plt.yscale('log')\n",
    "plt.show()"
   ]
  },
  {
   "cell_type": "code",
   "execution_count": 194,
   "id": "88c96fb4",
   "metadata": {},
   "outputs": [],
   "source": [
    "train_app_id_set = set(app.loc[app['type'] == 'train', 'application_id_current'])\n",
    "test_app_id_set = set(app.loc[app['type'] == 'test', 'application_id_current'])"
   ]
  },
  {
   "cell_type": "code",
   "execution_count": 196,
   "id": "af862541",
   "metadata": {},
   "outputs": [
    {
     "name": "stdout",
     "output_type": "stream",
     "text": [
      "train set의 id 수: 307,511\n",
      "test set의 id 수: 48,744\n"
     ]
    }
   ],
   "source": [
    "print(f\"train set의 id 수: {len(train_app_id_set):,}\")\n",
    "print(f\"test set의 id 수: {len(test_app_id_set):,}\")"
   ]
  },
  {
   "cell_type": "markdown",
   "id": "e6e9e1c7",
   "metadata": {},
   "source": [
    "### Bereau"
   ]
  },
  {
   "cell_type": "code",
   "execution_count": null,
   "id": "18f89455",
   "metadata": {},
   "outputs": [],
   "source": []
  },
  {
   "cell_type": "code",
   "execution_count": null,
   "id": "656a4363",
   "metadata": {},
   "outputs": [],
   "source": []
  },
  {
   "cell_type": "markdown",
   "id": "9197146d",
   "metadata": {},
   "source": [
    "## Balance"
   ]
  },
  {
   "cell_type": "code",
   "execution_count": 159,
   "id": "0bdf6579",
   "metadata": {},
   "outputs": [],
   "source": [
    "balance = pd.read_csv(data_path + \"aave_loan_balance.csv\")"
   ]
  },
  {
   "cell_type": "code",
   "execution_count": 179,
   "id": "22771d1c",
   "metadata": {},
   "outputs": [
    {
     "data": {
      "text/html": [
       "<div>\n",
       "<style scoped>\n",
       "    .dataframe tbody tr th:only-of-type {\n",
       "        vertical-align: middle;\n",
       "    }\n",
       "\n",
       "    .dataframe tbody tr th {\n",
       "        vertical-align: top;\n",
       "    }\n",
       "\n",
       "    .dataframe thead th {\n",
       "        text-align: right;\n",
       "    }\n",
       "</style>\n",
       "<table border=\"1\" class=\"dataframe\">\n",
       "  <thead>\n",
       "    <tr style=\"text-align: right;\">\n",
       "      <th></th>\n",
       "      <th>application_id_previous</th>\n",
       "      <th>application_id_current</th>\n",
       "      <th>months_balance</th>\n",
       "      <th>amt_balance</th>\n",
       "      <th>amt_credit_limit_actual</th>\n",
       "      <th>amt_drawings_atm_current</th>\n",
       "      <th>amt_drawings_current</th>\n",
       "      <th>amt_drawings_other_current</th>\n",
       "      <th>amt_drawings_pos_current</th>\n",
       "      <th>amt_inst_min_regularity</th>\n",
       "      <th>...</th>\n",
       "      <th>amt_recivable</th>\n",
       "      <th>amt_total_receivable</th>\n",
       "      <th>cnt_drawings_atm_current</th>\n",
       "      <th>cnt_drawings_current</th>\n",
       "      <th>cnt_drawings_other_current</th>\n",
       "      <th>cnt_drawings_pos_current</th>\n",
       "      <th>cnt_instalment_mature_cum</th>\n",
       "      <th>name_contract_status</th>\n",
       "      <th>sk_dpd</th>\n",
       "      <th>sk_dpd_def</th>\n",
       "    </tr>\n",
       "  </thead>\n",
       "  <tbody>\n",
       "    <tr>\n",
       "      <th>0</th>\n",
       "      <td>2562384</td>\n",
       "      <td>378907</td>\n",
       "      <td>-6</td>\n",
       "      <td>56.970</td>\n",
       "      <td>135000</td>\n",
       "      <td>0.0</td>\n",
       "      <td>877.5</td>\n",
       "      <td>0.0</td>\n",
       "      <td>877.5</td>\n",
       "      <td>1700.325</td>\n",
       "      <td>...</td>\n",
       "      <td>0.000</td>\n",
       "      <td>0.000</td>\n",
       "      <td>0.0</td>\n",
       "      <td>1</td>\n",
       "      <td>0.0</td>\n",
       "      <td>1.0</td>\n",
       "      <td>35.0</td>\n",
       "      <td>Active</td>\n",
       "      <td>0</td>\n",
       "      <td>0</td>\n",
       "    </tr>\n",
       "    <tr>\n",
       "      <th>1</th>\n",
       "      <td>2582071</td>\n",
       "      <td>363914</td>\n",
       "      <td>-1</td>\n",
       "      <td>63975.555</td>\n",
       "      <td>45000</td>\n",
       "      <td>2250.0</td>\n",
       "      <td>2250.0</td>\n",
       "      <td>0.0</td>\n",
       "      <td>0.0</td>\n",
       "      <td>2250.000</td>\n",
       "      <td>...</td>\n",
       "      <td>64875.555</td>\n",
       "      <td>64875.555</td>\n",
       "      <td>1.0</td>\n",
       "      <td>1</td>\n",
       "      <td>0.0</td>\n",
       "      <td>0.0</td>\n",
       "      <td>69.0</td>\n",
       "      <td>Active</td>\n",
       "      <td>0</td>\n",
       "      <td>0</td>\n",
       "    </tr>\n",
       "    <tr>\n",
       "      <th>2</th>\n",
       "      <td>1740877</td>\n",
       "      <td>371185</td>\n",
       "      <td>-7</td>\n",
       "      <td>31815.225</td>\n",
       "      <td>450000</td>\n",
       "      <td>0.0</td>\n",
       "      <td>0.0</td>\n",
       "      <td>0.0</td>\n",
       "      <td>0.0</td>\n",
       "      <td>2250.000</td>\n",
       "      <td>...</td>\n",
       "      <td>31460.085</td>\n",
       "      <td>31460.085</td>\n",
       "      <td>0.0</td>\n",
       "      <td>0</td>\n",
       "      <td>0.0</td>\n",
       "      <td>0.0</td>\n",
       "      <td>30.0</td>\n",
       "      <td>Active</td>\n",
       "      <td>0</td>\n",
       "      <td>0</td>\n",
       "    </tr>\n",
       "    <tr>\n",
       "      <th>3</th>\n",
       "      <td>1389973</td>\n",
       "      <td>337855</td>\n",
       "      <td>-4</td>\n",
       "      <td>236572.110</td>\n",
       "      <td>225000</td>\n",
       "      <td>2250.0</td>\n",
       "      <td>2250.0</td>\n",
       "      <td>0.0</td>\n",
       "      <td>0.0</td>\n",
       "      <td>11795.760</td>\n",
       "      <td>...</td>\n",
       "      <td>233048.970</td>\n",
       "      <td>233048.970</td>\n",
       "      <td>1.0</td>\n",
       "      <td>1</td>\n",
       "      <td>0.0</td>\n",
       "      <td>0.0</td>\n",
       "      <td>10.0</td>\n",
       "      <td>Active</td>\n",
       "      <td>0</td>\n",
       "      <td>0</td>\n",
       "    </tr>\n",
       "    <tr>\n",
       "      <th>4</th>\n",
       "      <td>1891521</td>\n",
       "      <td>126868</td>\n",
       "      <td>-1</td>\n",
       "      <td>453919.455</td>\n",
       "      <td>450000</td>\n",
       "      <td>0.0</td>\n",
       "      <td>11547.0</td>\n",
       "      <td>0.0</td>\n",
       "      <td>11547.0</td>\n",
       "      <td>22924.890</td>\n",
       "      <td>...</td>\n",
       "      <td>453919.455</td>\n",
       "      <td>453919.455</td>\n",
       "      <td>0.0</td>\n",
       "      <td>1</td>\n",
       "      <td>0.0</td>\n",
       "      <td>1.0</td>\n",
       "      <td>101.0</td>\n",
       "      <td>Active</td>\n",
       "      <td>0</td>\n",
       "      <td>0</td>\n",
       "    </tr>\n",
       "  </tbody>\n",
       "</table>\n",
       "<p>5 rows × 23 columns</p>\n",
       "</div>"
      ],
      "text/plain": [
       "   application_id_previous  application_id_current  months_balance  \\\n",
       "0                  2562384                  378907              -6   \n",
       "1                  2582071                  363914              -1   \n",
       "2                  1740877                  371185              -7   \n",
       "3                  1389973                  337855              -4   \n",
       "4                  1891521                  126868              -1   \n",
       "\n",
       "   amt_balance  amt_credit_limit_actual  amt_drawings_atm_current  \\\n",
       "0       56.970                   135000                       0.0   \n",
       "1    63975.555                    45000                    2250.0   \n",
       "2    31815.225                   450000                       0.0   \n",
       "3   236572.110                   225000                    2250.0   \n",
       "4   453919.455                   450000                       0.0   \n",
       "\n",
       "   amt_drawings_current  amt_drawings_other_current  amt_drawings_pos_current  \\\n",
       "0                 877.5                         0.0                     877.5   \n",
       "1                2250.0                         0.0                       0.0   \n",
       "2                   0.0                         0.0                       0.0   \n",
       "3                2250.0                         0.0                       0.0   \n",
       "4               11547.0                         0.0                   11547.0   \n",
       "\n",
       "   amt_inst_min_regularity  ...  amt_recivable  amt_total_receivable  \\\n",
       "0                 1700.325  ...          0.000                 0.000   \n",
       "1                 2250.000  ...      64875.555             64875.555   \n",
       "2                 2250.000  ...      31460.085             31460.085   \n",
       "3                11795.760  ...     233048.970            233048.970   \n",
       "4                22924.890  ...     453919.455            453919.455   \n",
       "\n",
       "   cnt_drawings_atm_current  cnt_drawings_current  cnt_drawings_other_current  \\\n",
       "0                       0.0                     1                         0.0   \n",
       "1                       1.0                     1                         0.0   \n",
       "2                       0.0                     0                         0.0   \n",
       "3                       1.0                     1                         0.0   \n",
       "4                       0.0                     1                         0.0   \n",
       "\n",
       "   cnt_drawings_pos_current  cnt_instalment_mature_cum  name_contract_status  \\\n",
       "0                       1.0                       35.0                Active   \n",
       "1                       0.0                       69.0                Active   \n",
       "2                       0.0                       30.0                Active   \n",
       "3                       0.0                       10.0                Active   \n",
       "4                       1.0                      101.0                Active   \n",
       "\n",
       "   sk_dpd  sk_dpd_def  \n",
       "0       0           0  \n",
       "1       0           0  \n",
       "2       0           0  \n",
       "3       0           0  \n",
       "4       0           0  \n",
       "\n",
       "[5 rows x 23 columns]"
      ]
     },
     "execution_count": 179,
     "metadata": {},
     "output_type": "execute_result"
    }
   ],
   "source": [
    "balance.head()"
   ]
  },
  {
   "cell_type": "code",
   "execution_count": 181,
   "id": "a26921de",
   "metadata": {},
   "outputs": [
    {
     "data": {
      "text/plain": [
       "(3840312, 23)"
      ]
     },
     "execution_count": 181,
     "metadata": {},
     "output_type": "execute_result"
    }
   ],
   "source": [
    "balance.shape"
   ]
  },
  {
   "cell_type": "code",
   "execution_count": 202,
   "id": "9bd7677c",
   "metadata": {},
   "outputs": [],
   "source": [
    "cur_app_set = set(balance.application_id_current)\n",
    "prev_app_set = set(balance.application_id_previous)"
   ]
  },
  {
   "cell_type": "code",
   "execution_count": 201,
   "id": "5b889ae1",
   "metadata": {},
   "outputs": [
    {
     "name": "stdout",
     "output_type": "stream",
     "text": [
      "train과 교집합: 86,905(28.26%)\n",
      "train과 교집합: 16,653(34.16%)\n"
     ]
    }
   ],
   "source": [
    "train_inter_count = len(train_app_id_set & cur_app_set)\n",
    "print(f\"train과 교집합: {train_inter_count:,}({100*train_inter_count/len(train_app_id_set):.2f}%)\")\n",
    "\n",
    "test_inter_count = len(test_app_id_set & cur_app_set)\n",
    "print(f\"train과 교집합: {test_inter_count:,}({100*test_inter_count/len(test_app_id_set):.2f}%)\")"
   ]
  },
  {
   "cell_type": "code",
   "execution_count": 207,
   "id": "93315a64",
   "metadata": {},
   "outputs": [
    {
     "data": {
      "image/png": "[encoded data removed]",
      "text/plain": [
       "<Figure size 432x288 with 1 Axes>"
      ]
     },
     "metadata": {
      "needs_background": "light"
     },
     "output_type": "display_data"
    }
   ],
   "source": [
    "balance.months_balance.hist(color='skyblue')\n",
    "plt.title(\"months balance\")\n",
    "plt.show()"
   ]
  },
  {
   "cell_type": "markdown",
   "id": "972f14b3",
   "metadata": {},
   "source": [
    "## installments_payments"
   ]
  },
  {
   "cell_type": "code",
   "execution_count": 208,
   "id": "c1792be5",
   "metadata": {},
   "outputs": [],
   "source": [
    "payments = pd.read_csv(data_path + \"installments_payments.csv\")"
   ]
  },
  {
   "cell_type": "code",
   "execution_count": 209,
   "id": "4113d00b",
   "metadata": {},
   "outputs": [
    {
     "data": {
      "text/html": [
       "<div>\n",
       "<style scoped>\n",
       "    .dataframe tbody tr th:only-of-type {\n",
       "        vertical-align: middle;\n",
       "    }\n",
       "\n",
       "    .dataframe tbody tr th {\n",
       "        vertical-align: top;\n",
       "    }\n",
       "\n",
       "    .dataframe thead th {\n",
       "        text-align: right;\n",
       "    }\n",
       "</style>\n",
       "<table border=\"1\" class=\"dataframe\">\n",
       "  <thead>\n",
       "    <tr style=\"text-align: right;\">\n",
       "      <th></th>\n",
       "      <th>application_id_previous</th>\n",
       "      <th>application_id_current</th>\n",
       "      <th>num_instalment_version</th>\n",
       "      <th>num_instalment_number</th>\n",
       "      <th>days_instalment</th>\n",
       "      <th>days_entry_payment</th>\n",
       "      <th>amt_instalment</th>\n",
       "      <th>amt_payment</th>\n",
       "    </tr>\n",
       "  </thead>\n",
       "  <tbody>\n",
       "    <tr>\n",
       "      <th>0</th>\n",
       "      <td>1054186</td>\n",
       "      <td>161674</td>\n",
       "      <td>1.0</td>\n",
       "      <td>6</td>\n",
       "      <td>-1180.0</td>\n",
       "      <td>-1187.0</td>\n",
       "      <td>6948.360</td>\n",
       "      <td>6948.360</td>\n",
       "    </tr>\n",
       "    <tr>\n",
       "      <th>1</th>\n",
       "      <td>1330831</td>\n",
       "      <td>151639</td>\n",
       "      <td>0.0</td>\n",
       "      <td>34</td>\n",
       "      <td>-2156.0</td>\n",
       "      <td>-2156.0</td>\n",
       "      <td>1716.525</td>\n",
       "      <td>1716.525</td>\n",
       "    </tr>\n",
       "    <tr>\n",
       "      <th>2</th>\n",
       "      <td>2085231</td>\n",
       "      <td>193053</td>\n",
       "      <td>2.0</td>\n",
       "      <td>1</td>\n",
       "      <td>-63.0</td>\n",
       "      <td>-63.0</td>\n",
       "      <td>25425.000</td>\n",
       "      <td>25425.000</td>\n",
       "    </tr>\n",
       "    <tr>\n",
       "      <th>3</th>\n",
       "      <td>2452527</td>\n",
       "      <td>199697</td>\n",
       "      <td>1.0</td>\n",
       "      <td>3</td>\n",
       "      <td>-2418.0</td>\n",
       "      <td>-2426.0</td>\n",
       "      <td>24350.130</td>\n",
       "      <td>24350.130</td>\n",
       "    </tr>\n",
       "    <tr>\n",
       "      <th>4</th>\n",
       "      <td>2714724</td>\n",
       "      <td>167756</td>\n",
       "      <td>1.0</td>\n",
       "      <td>2</td>\n",
       "      <td>-1383.0</td>\n",
       "      <td>-1366.0</td>\n",
       "      <td>2165.040</td>\n",
       "      <td>2160.585</td>\n",
       "    </tr>\n",
       "  </tbody>\n",
       "</table>\n",
       "</div>"
      ],
      "text/plain": [
       "   application_id_previous  application_id_current  num_instalment_version  \\\n",
       "0                  1054186                  161674                     1.0   \n",
       "1                  1330831                  151639                     0.0   \n",
       "2                  2085231                  193053                     2.0   \n",
       "3                  2452527                  199697                     1.0   \n",
       "4                  2714724                  167756                     1.0   \n",
       "\n",
       "   num_instalment_number  days_instalment  days_entry_payment  amt_instalment  \\\n",
       "0                      6          -1180.0             -1187.0        6948.360   \n",
       "1                     34          -2156.0             -2156.0        1716.525   \n",
       "2                      1            -63.0               -63.0       25425.000   \n",
       "3                      3          -2418.0             -2426.0       24350.130   \n",
       "4                      2          -1383.0             -1366.0        2165.040   \n",
       "\n",
       "   amt_payment  \n",
       "0     6948.360  \n",
       "1     1716.525  \n",
       "2    25425.000  \n",
       "3    24350.130  \n",
       "4     2160.585  "
      ]
     },
     "execution_count": 209,
     "metadata": {},
     "output_type": "execute_result"
    }
   ],
   "source": [
    "payments.head()"
   ]
  },
  {
   "cell_type": "code",
   "execution_count": 210,
   "id": "fae0389b",
   "metadata": {},
   "outputs": [
    {
     "data": {
      "text/plain": [
       "13605401"
      ]
     },
     "execution_count": 210,
     "metadata": {},
     "output_type": "execute_result"
    }
   ],
   "source": [
    "len(payments)"
   ]
  },
  {
   "cell_type": "markdown",
   "id": "28171ce7",
   "metadata": {},
   "source": [
    "### Defi_credits"
   ]
  },
  {
   "cell_type": "code",
   "execution_count": 9,
   "id": "c163d3b6",
   "metadata": {},
   "outputs": [],
   "source": [
    "defi_credits = pd.read_csv(data_path + \"defi_credits.csv\")"
   ]
  },
  {
   "cell_type": "code",
   "execution_count": 10,
   "id": "da1a7087",
   "metadata": {},
   "outputs": [
    {
     "data": {
      "text/html": [
       "<div>\n",
       "<style scoped>\n",
       "    .dataframe tbody tr th:only-of-type {\n",
       "        vertical-align: middle;\n",
       "    }\n",
       "\n",
       "    .dataframe tbody tr th {\n",
       "        vertical-align: top;\n",
       "    }\n",
       "\n",
       "    .dataframe thead th {\n",
       "        text-align: right;\n",
       "    }\n",
       "</style>\n",
       "<table border=\"1\" class=\"dataframe\">\n",
       "  <thead>\n",
       "    <tr style=\"text-align: right;\">\n",
       "      <th></th>\n",
       "      <th>application_id_current</th>\n",
       "      <th>defi_id</th>\n",
       "      <th>credit_active</th>\n",
       "      <th>credit_currency</th>\n",
       "      <th>days_credit</th>\n",
       "      <th>credit_day_overdue</th>\n",
       "      <th>days_credit_enddate</th>\n",
       "      <th>days_enddate_fact</th>\n",
       "      <th>amt_credit_max_overdue</th>\n",
       "      <th>cnt_credit_prolong</th>\n",
       "      <th>amt_credit_sum</th>\n",
       "      <th>amt_credit_sum_debt</th>\n",
       "      <th>amt_credit_sum_limit</th>\n",
       "      <th>amt_credit_sum_overdue</th>\n",
       "      <th>days_credit_update</th>\n",
       "      <th>amt_annuity</th>\n",
       "    </tr>\n",
       "  </thead>\n",
       "  <tbody>\n",
       "    <tr>\n",
       "      <th>0</th>\n",
       "      <td>215354</td>\n",
       "      <td>5714462</td>\n",
       "      <td>Closed</td>\n",
       "      <td>currency 1</td>\n",
       "      <td>-497</td>\n",
       "      <td>0</td>\n",
       "      <td>-153.0</td>\n",
       "      <td>-153.0</td>\n",
       "      <td>NaN</td>\n",
       "      <td>0</td>\n",
       "      <td>91323.00</td>\n",
       "      <td>0.0</td>\n",
       "      <td>NaN</td>\n",
       "      <td>0.0</td>\n",
       "      <td>-131</td>\n",
       "      <td>NaN</td>\n",
       "    </tr>\n",
       "    <tr>\n",
       "      <th>1</th>\n",
       "      <td>215354</td>\n",
       "      <td>5714463</td>\n",
       "      <td>Active</td>\n",
       "      <td>currency 1</td>\n",
       "      <td>-208</td>\n",
       "      <td>0</td>\n",
       "      <td>1075.0</td>\n",
       "      <td>NaN</td>\n",
       "      <td>NaN</td>\n",
       "      <td>0</td>\n",
       "      <td>225000.00</td>\n",
       "      <td>171342.0</td>\n",
       "      <td>NaN</td>\n",
       "      <td>0.0</td>\n",
       "      <td>-20</td>\n",
       "      <td>NaN</td>\n",
       "    </tr>\n",
       "    <tr>\n",
       "      <th>2</th>\n",
       "      <td>215354</td>\n",
       "      <td>5714464</td>\n",
       "      <td>Active</td>\n",
       "      <td>currency 1</td>\n",
       "      <td>-203</td>\n",
       "      <td>0</td>\n",
       "      <td>528.0</td>\n",
       "      <td>NaN</td>\n",
       "      <td>NaN</td>\n",
       "      <td>0</td>\n",
       "      <td>464323.50</td>\n",
       "      <td>NaN</td>\n",
       "      <td>NaN</td>\n",
       "      <td>0.0</td>\n",
       "      <td>-16</td>\n",
       "      <td>NaN</td>\n",
       "    </tr>\n",
       "    <tr>\n",
       "      <th>3</th>\n",
       "      <td>215354</td>\n",
       "      <td>5714465</td>\n",
       "      <td>Active</td>\n",
       "      <td>currency 1</td>\n",
       "      <td>-203</td>\n",
       "      <td>0</td>\n",
       "      <td>NaN</td>\n",
       "      <td>NaN</td>\n",
       "      <td>NaN</td>\n",
       "      <td>0</td>\n",
       "      <td>90000.00</td>\n",
       "      <td>NaN</td>\n",
       "      <td>NaN</td>\n",
       "      <td>0.0</td>\n",
       "      <td>-16</td>\n",
       "      <td>NaN</td>\n",
       "    </tr>\n",
       "    <tr>\n",
       "      <th>4</th>\n",
       "      <td>215354</td>\n",
       "      <td>5714466</td>\n",
       "      <td>Active</td>\n",
       "      <td>currency 1</td>\n",
       "      <td>-629</td>\n",
       "      <td>0</td>\n",
       "      <td>1197.0</td>\n",
       "      <td>NaN</td>\n",
       "      <td>77674.5</td>\n",
       "      <td>0</td>\n",
       "      <td>2700000.00</td>\n",
       "      <td>NaN</td>\n",
       "      <td>NaN</td>\n",
       "      <td>0.0</td>\n",
       "      <td>-21</td>\n",
       "      <td>NaN</td>\n",
       "    </tr>\n",
       "    <tr>\n",
       "      <th>...</th>\n",
       "      <td>...</td>\n",
       "      <td>...</td>\n",
       "      <td>...</td>\n",
       "      <td>...</td>\n",
       "      <td>...</td>\n",
       "      <td>...</td>\n",
       "      <td>...</td>\n",
       "      <td>...</td>\n",
       "      <td>...</td>\n",
       "      <td>...</td>\n",
       "      <td>...</td>\n",
       "      <td>...</td>\n",
       "      <td>...</td>\n",
       "      <td>...</td>\n",
       "      <td>...</td>\n",
       "      <td>...</td>\n",
       "    </tr>\n",
       "    <tr>\n",
       "      <th>1716423</th>\n",
       "      <td>259355</td>\n",
       "      <td>5057750</td>\n",
       "      <td>Active</td>\n",
       "      <td>currency 1</td>\n",
       "      <td>-44</td>\n",
       "      <td>0</td>\n",
       "      <td>-30.0</td>\n",
       "      <td>NaN</td>\n",
       "      <td>0.0</td>\n",
       "      <td>0</td>\n",
       "      <td>11250.00</td>\n",
       "      <td>11250.0</td>\n",
       "      <td>0.0</td>\n",
       "      <td>0.0</td>\n",
       "      <td>-19</td>\n",
       "      <td>NaN</td>\n",
       "    </tr>\n",
       "    <tr>\n",
       "      <th>1716424</th>\n",
       "      <td>100044</td>\n",
       "      <td>5057754</td>\n",
       "      <td>Closed</td>\n",
       "      <td>currency 1</td>\n",
       "      <td>-2648</td>\n",
       "      <td>0</td>\n",
       "      <td>-2433.0</td>\n",
       "      <td>-2493.0</td>\n",
       "      <td>5476.5</td>\n",
       "      <td>0</td>\n",
       "      <td>38130.84</td>\n",
       "      <td>0.0</td>\n",
       "      <td>0.0</td>\n",
       "      <td>0.0</td>\n",
       "      <td>-2493</td>\n",
       "      <td>NaN</td>\n",
       "    </tr>\n",
       "    <tr>\n",
       "      <th>1716425</th>\n",
       "      <td>100044</td>\n",
       "      <td>5057762</td>\n",
       "      <td>Closed</td>\n",
       "      <td>currency 1</td>\n",
       "      <td>-1809</td>\n",
       "      <td>0</td>\n",
       "      <td>-1628.0</td>\n",
       "      <td>-970.0</td>\n",
       "      <td>NaN</td>\n",
       "      <td>0</td>\n",
       "      <td>15570.00</td>\n",
       "      <td>NaN</td>\n",
       "      <td>NaN</td>\n",
       "      <td>0.0</td>\n",
       "      <td>-967</td>\n",
       "      <td>NaN</td>\n",
       "    </tr>\n",
       "    <tr>\n",
       "      <th>1716426</th>\n",
       "      <td>246829</td>\n",
       "      <td>5057770</td>\n",
       "      <td>Closed</td>\n",
       "      <td>currency 1</td>\n",
       "      <td>-1878</td>\n",
       "      <td>0</td>\n",
       "      <td>-1513.0</td>\n",
       "      <td>-1513.0</td>\n",
       "      <td>NaN</td>\n",
       "      <td>0</td>\n",
       "      <td>36000.00</td>\n",
       "      <td>0.0</td>\n",
       "      <td>0.0</td>\n",
       "      <td>0.0</td>\n",
       "      <td>-1508</td>\n",
       "      <td>NaN</td>\n",
       "    </tr>\n",
       "    <tr>\n",
       "      <th>1716427</th>\n",
       "      <td>246829</td>\n",
       "      <td>5057778</td>\n",
       "      <td>Closed</td>\n",
       "      <td>currency 1</td>\n",
       "      <td>-463</td>\n",
       "      <td>0</td>\n",
       "      <td>NaN</td>\n",
       "      <td>-387.0</td>\n",
       "      <td>NaN</td>\n",
       "      <td>0</td>\n",
       "      <td>22500.00</td>\n",
       "      <td>0.0</td>\n",
       "      <td>NaN</td>\n",
       "      <td>0.0</td>\n",
       "      <td>-387</td>\n",
       "      <td>NaN</td>\n",
       "    </tr>\n",
       "  </tbody>\n",
       "</table>\n",
       "<p>1716428 rows × 16 columns</p>\n",
       "</div>"
      ],
      "text/plain": [
       "         application_id_current  defi_id credit_active credit_currency  \\\n",
       "0                        215354  5714462        Closed      currency 1   \n",
       "1                        215354  5714463        Active      currency 1   \n",
       "2                        215354  5714464        Active      currency 1   \n",
       "3                        215354  5714465        Active      currency 1   \n",
       "4                        215354  5714466        Active      currency 1   \n",
       "...                         ...      ...           ...             ...   \n",
       "1716423                  259355  5057750        Active      currency 1   \n",
       "1716424                  100044  5057754        Closed      currency 1   \n",
       "1716425                  100044  5057762        Closed      currency 1   \n",
       "1716426                  246829  5057770        Closed      currency 1   \n",
       "1716427                  246829  5057778        Closed      currency 1   \n",
       "\n",
       "         days_credit  credit_day_overdue  days_credit_enddate  \\\n",
       "0               -497                   0               -153.0   \n",
       "1               -208                   0               1075.0   \n",
       "2               -203                   0                528.0   \n",
       "3               -203                   0                  NaN   \n",
       "4               -629                   0               1197.0   \n",
       "...              ...                 ...                  ...   \n",
       "1716423          -44                   0                -30.0   \n",
       "1716424        -2648                   0              -2433.0   \n",
       "1716425        -1809                   0              -1628.0   \n",
       "1716426        -1878                   0              -1513.0   \n",
       "1716427         -463                   0                  NaN   \n",
       "\n",
       "         days_enddate_fact  amt_credit_max_overdue  cnt_credit_prolong  \\\n",
       "0                   -153.0                     NaN                   0   \n",
       "1                      NaN                     NaN                   0   \n",
       "2                      NaN                     NaN                   0   \n",
       "3                      NaN                     NaN                   0   \n",
       "4                      NaN                 77674.5                   0   \n",
       "...                    ...                     ...                 ...   \n",
       "1716423                NaN                     0.0                   0   \n",
       "1716424            -2493.0                  5476.5                   0   \n",
       "1716425             -970.0                     NaN                   0   \n",
       "1716426            -1513.0                     NaN                   0   \n",
       "1716427             -387.0                     NaN                   0   \n",
       "\n",
       "         amt_credit_sum  amt_credit_sum_debt  amt_credit_sum_limit  \\\n",
       "0              91323.00                  0.0                   NaN   \n",
       "1             225000.00             171342.0                   NaN   \n",
       "2             464323.50                  NaN                   NaN   \n",
       "3              90000.00                  NaN                   NaN   \n",
       "4            2700000.00                  NaN                   NaN   \n",
       "...                 ...                  ...                   ...   \n",
       "1716423        11250.00              11250.0                   0.0   \n",
       "1716424        38130.84                  0.0                   0.0   \n",
       "1716425        15570.00                  NaN                   NaN   \n",
       "1716426        36000.00                  0.0                   0.0   \n",
       "1716427        22500.00                  0.0                   NaN   \n",
       "\n",
       "         amt_credit_sum_overdue  days_credit_update  amt_annuity  \n",
       "0                           0.0                -131          NaN  \n",
       "1                           0.0                 -20          NaN  \n",
       "2                           0.0                 -16          NaN  \n",
       "3                           0.0                 -16          NaN  \n",
       "4                           0.0                 -21          NaN  \n",
       "...                         ...                 ...          ...  \n",
       "1716423                     0.0                 -19          NaN  \n",
       "1716424                     0.0               -2493          NaN  \n",
       "1716425                     0.0                -967          NaN  \n",
       "1716426                     0.0               -1508          NaN  \n",
       "1716427                     0.0                -387          NaN  \n",
       "\n",
       "[1716428 rows x 16 columns]"
      ]
     },
     "execution_count": 10,
     "metadata": {},
     "output_type": "execute_result"
    }
   ],
   "source": [
    "defi_credits"
   ]
  },
  {
   "cell_type": "markdown",
   "id": "8c3bf355",
   "metadata": {},
   "source": [
    "### 하나 예시로 살펴보기"
   ]
  },
  {
   "cell_type": "markdown",
   "id": "1cc84831",
   "metadata": {},
   "source": [
    "- 다른 Defi 서비스 사용 자적으로부터 추출된 모든 유저들의 신용 기록입니다.\n",
    "- 모든 대출 건에 대해서, 대출 지원 날짜 전의 신용 기록에 대한 수만큼 행이 존재합니다."
   ]
  },
  {
   "cell_type": "code",
   "execution_count": 61,
   "id": "928cfae3",
   "metadata": {},
   "outputs": [
    {
     "data": {
      "text/html": [
       "<div>\n",
       "<style scoped>\n",
       "    .dataframe tbody tr th:only-of-type {\n",
       "        vertical-align: middle;\n",
       "    }\n",
       "\n",
       "    .dataframe tbody tr th {\n",
       "        vertical-align: top;\n",
       "    }\n",
       "\n",
       "    .dataframe thead th {\n",
       "        text-align: right;\n",
       "    }\n",
       "</style>\n",
       "<table border=\"1\" class=\"dataframe\">\n",
       "  <thead>\n",
       "    <tr style=\"text-align: right;\">\n",
       "      <th></th>\n",
       "      <th>application_id_current</th>\n",
       "      <th>defi_id</th>\n",
       "      <th>credit_active</th>\n",
       "      <th>credit_currency</th>\n",
       "      <th>days_credit</th>\n",
       "      <th>credit_day_overdue</th>\n",
       "      <th>days_credit_enddate</th>\n",
       "      <th>days_enddate_fact</th>\n",
       "      <th>amt_credit_max_overdue</th>\n",
       "      <th>cnt_credit_prolong</th>\n",
       "      <th>amt_credit_sum</th>\n",
       "      <th>amt_credit_sum_debt</th>\n",
       "      <th>amt_credit_sum_limit</th>\n",
       "      <th>amt_credit_sum_overdue</th>\n",
       "      <th>days_credit_update</th>\n",
       "      <th>amt_annuity</th>\n",
       "    </tr>\n",
       "  </thead>\n",
       "  <tbody>\n",
       "    <tr>\n",
       "      <th>1064689</th>\n",
       "      <td>438173</td>\n",
       "      <td>6480224</td>\n",
       "      <td>Active</td>\n",
       "      <td>currency 1</td>\n",
       "      <td>-2578</td>\n",
       "      <td>0</td>\n",
       "      <td>-42056.0</td>\n",
       "      <td>NaN</td>\n",
       "      <td>132.795</td>\n",
       "      <td>0</td>\n",
       "      <td>427500.0</td>\n",
       "      <td>307160.865</td>\n",
       "      <td>120339.135</td>\n",
       "      <td>0.0</td>\n",
       "      <td>-13</td>\n",
       "      <td>15358.05</td>\n",
       "    </tr>\n",
       "    <tr>\n",
       "      <th>789514</th>\n",
       "      <td>137616</td>\n",
       "      <td>6500445</td>\n",
       "      <td>Active</td>\n",
       "      <td>currency 1</td>\n",
       "      <td>-337</td>\n",
       "      <td>0</td>\n",
       "      <td>-42042.0</td>\n",
       "      <td>NaN</td>\n",
       "      <td>0.000</td>\n",
       "      <td>0</td>\n",
       "      <td>90000.0</td>\n",
       "      <td>77269.500</td>\n",
       "      <td>12730.500</td>\n",
       "      <td>0.0</td>\n",
       "      <td>-12</td>\n",
       "      <td>NaN</td>\n",
       "    </tr>\n",
       "    <tr>\n",
       "      <th>535141</th>\n",
       "      <td>291169</td>\n",
       "      <td>5484492</td>\n",
       "      <td>Active</td>\n",
       "      <td>currency 1</td>\n",
       "      <td>-526</td>\n",
       "      <td>0</td>\n",
       "      <td>-41910.0</td>\n",
       "      <td>NaN</td>\n",
       "      <td>0.000</td>\n",
       "      <td>0</td>\n",
       "      <td>71252.1</td>\n",
       "      <td>0.000</td>\n",
       "      <td>0.000</td>\n",
       "      <td>0.0</td>\n",
       "      <td>-438</td>\n",
       "      <td>NaN</td>\n",
       "    </tr>\n",
       "    <tr>\n",
       "      <th>820648</th>\n",
       "      <td>259214</td>\n",
       "      <td>6795024</td>\n",
       "      <td>Active</td>\n",
       "      <td>currency 1</td>\n",
       "      <td>-2739</td>\n",
       "      <td>0</td>\n",
       "      <td>-41875.0</td>\n",
       "      <td>NaN</td>\n",
       "      <td>0.000</td>\n",
       "      <td>0</td>\n",
       "      <td>315000.0</td>\n",
       "      <td>307131.120</td>\n",
       "      <td>7868.880</td>\n",
       "      <td>0.0</td>\n",
       "      <td>-231</td>\n",
       "      <td>NaN</td>\n",
       "    </tr>\n",
       "    <tr>\n",
       "      <th>1053259</th>\n",
       "      <td>218700</td>\n",
       "      <td>6750658</td>\n",
       "      <td>Active</td>\n",
       "      <td>currency 1</td>\n",
       "      <td>-791</td>\n",
       "      <td>0</td>\n",
       "      <td>-41874.0</td>\n",
       "      <td>NaN</td>\n",
       "      <td>4883.985</td>\n",
       "      <td>0</td>\n",
       "      <td>135000.0</td>\n",
       "      <td>47760.390</td>\n",
       "      <td>87239.610</td>\n",
       "      <td>0.0</td>\n",
       "      <td>-360</td>\n",
       "      <td>NaN</td>\n",
       "    </tr>\n",
       "    <tr>\n",
       "      <th>...</th>\n",
       "      <td>...</td>\n",
       "      <td>...</td>\n",
       "      <td>...</td>\n",
       "      <td>...</td>\n",
       "      <td>...</td>\n",
       "      <td>...</td>\n",
       "      <td>...</td>\n",
       "      <td>...</td>\n",
       "      <td>...</td>\n",
       "      <td>...</td>\n",
       "      <td>...</td>\n",
       "      <td>...</td>\n",
       "      <td>...</td>\n",
       "      <td>...</td>\n",
       "      <td>...</td>\n",
       "      <td>...</td>\n",
       "    </tr>\n",
       "    <tr>\n",
       "      <th>1218196</th>\n",
       "      <td>422660</td>\n",
       "      <td>5646982</td>\n",
       "      <td>Active</td>\n",
       "      <td>currency 1</td>\n",
       "      <td>-2922</td>\n",
       "      <td>0</td>\n",
       "      <td>-2739.0</td>\n",
       "      <td>NaN</td>\n",
       "      <td>0.000</td>\n",
       "      <td>0</td>\n",
       "      <td>21150.0</td>\n",
       "      <td>0.000</td>\n",
       "      <td>0.000</td>\n",
       "      <td>0.0</td>\n",
       "      <td>-16</td>\n",
       "      <td>NaN</td>\n",
       "    </tr>\n",
       "    <tr>\n",
       "      <th>1594691</th>\n",
       "      <td>256014</td>\n",
       "      <td>5595151</td>\n",
       "      <td>Active</td>\n",
       "      <td>currency 1</td>\n",
       "      <td>-2920</td>\n",
       "      <td>0</td>\n",
       "      <td>-2739.0</td>\n",
       "      <td>NaN</td>\n",
       "      <td>NaN</td>\n",
       "      <td>0</td>\n",
       "      <td>36688.5</td>\n",
       "      <td>0.000</td>\n",
       "      <td>NaN</td>\n",
       "      <td>0.0</td>\n",
       "      <td>-497</td>\n",
       "      <td>NaN</td>\n",
       "    </tr>\n",
       "    <tr>\n",
       "      <th>84322</th>\n",
       "      <td>221028</td>\n",
       "      <td>5728780</td>\n",
       "      <td>Active</td>\n",
       "      <td>currency 1</td>\n",
       "      <td>-2913</td>\n",
       "      <td>0</td>\n",
       "      <td>-2738.0</td>\n",
       "      <td>NaN</td>\n",
       "      <td>NaN</td>\n",
       "      <td>0</td>\n",
       "      <td>135000.0</td>\n",
       "      <td>26730.000</td>\n",
       "      <td>0.000</td>\n",
       "      <td>0.0</td>\n",
       "      <td>-2742</td>\n",
       "      <td>NaN</td>\n",
       "    </tr>\n",
       "    <tr>\n",
       "      <th>166738</th>\n",
       "      <td>267044</td>\n",
       "      <td>6365983</td>\n",
       "      <td>Active</td>\n",
       "      <td>currency 1</td>\n",
       "      <td>-2922</td>\n",
       "      <td>0</td>\n",
       "      <td>-2738.0</td>\n",
       "      <td>NaN</td>\n",
       "      <td>NaN</td>\n",
       "      <td>0</td>\n",
       "      <td>22792.5</td>\n",
       "      <td>0.000</td>\n",
       "      <td>0.000</td>\n",
       "      <td>0.0</td>\n",
       "      <td>-2704</td>\n",
       "      <td>NaN</td>\n",
       "    </tr>\n",
       "    <tr>\n",
       "      <th>1088702</th>\n",
       "      <td>198816</td>\n",
       "      <td>6200972</td>\n",
       "      <td>Active</td>\n",
       "      <td>currency 1</td>\n",
       "      <td>-2922</td>\n",
       "      <td>0</td>\n",
       "      <td>-2738.0</td>\n",
       "      <td>NaN</td>\n",
       "      <td>NaN</td>\n",
       "      <td>0</td>\n",
       "      <td>14454.0</td>\n",
       "      <td>0.000</td>\n",
       "      <td>0.000</td>\n",
       "      <td>0.0</td>\n",
       "      <td>-2691</td>\n",
       "      <td>NaN</td>\n",
       "    </tr>\n",
       "  </tbody>\n",
       "</table>\n",
       "<p>100 rows × 16 columns</p>\n",
       "</div>"
      ],
      "text/plain": [
       "         application_id_current  defi_id credit_active credit_currency  \\\n",
       "1064689                  438173  6480224        Active      currency 1   \n",
       "789514                   137616  6500445        Active      currency 1   \n",
       "535141                   291169  5484492        Active      currency 1   \n",
       "820648                   259214  6795024        Active      currency 1   \n",
       "1053259                  218700  6750658        Active      currency 1   \n",
       "...                         ...      ...           ...             ...   \n",
       "1218196                  422660  5646982        Active      currency 1   \n",
       "1594691                  256014  5595151        Active      currency 1   \n",
       "84322                    221028  5728780        Active      currency 1   \n",
       "166738                   267044  6365983        Active      currency 1   \n",
       "1088702                  198816  6200972        Active      currency 1   \n",
       "\n",
       "         days_credit  credit_day_overdue  days_credit_enddate  \\\n",
       "1064689        -2578                   0             -42056.0   \n",
       "789514          -337                   0             -42042.0   \n",
       "535141          -526                   0             -41910.0   \n",
       "820648         -2739                   0             -41875.0   \n",
       "1053259         -791                   0             -41874.0   \n",
       "...              ...                 ...                  ...   \n",
       "1218196        -2922                   0              -2739.0   \n",
       "1594691        -2920                   0              -2739.0   \n",
       "84322          -2913                   0              -2738.0   \n",
       "166738         -2922                   0              -2738.0   \n",
       "1088702        -2922                   0              -2738.0   \n",
       "\n",
       "         days_enddate_fact  amt_credit_max_overdue  cnt_credit_prolong  \\\n",
       "1064689                NaN                 132.795                   0   \n",
       "789514                 NaN                   0.000                   0   \n",
       "535141                 NaN                   0.000                   0   \n",
       "820648                 NaN                   0.000                   0   \n",
       "1053259                NaN                4883.985                   0   \n",
       "...                    ...                     ...                 ...   \n",
       "1218196                NaN                   0.000                   0   \n",
       "1594691                NaN                     NaN                   0   \n",
       "84322                  NaN                     NaN                   0   \n",
       "166738                 NaN                     NaN                   0   \n",
       "1088702                NaN                     NaN                   0   \n",
       "\n",
       "         amt_credit_sum  amt_credit_sum_debt  amt_credit_sum_limit  \\\n",
       "1064689        427500.0           307160.865            120339.135   \n",
       "789514          90000.0            77269.500             12730.500   \n",
       "535141          71252.1                0.000                 0.000   \n",
       "820648         315000.0           307131.120              7868.880   \n",
       "1053259        135000.0            47760.390             87239.610   \n",
       "...                 ...                  ...                   ...   \n",
       "1218196         21150.0                0.000                 0.000   \n",
       "1594691         36688.5                0.000                   NaN   \n",
       "84322          135000.0            26730.000                 0.000   \n",
       "166738          22792.5                0.000                 0.000   \n",
       "1088702         14454.0                0.000                 0.000   \n",
       "\n",
       "         amt_credit_sum_overdue  days_credit_update  amt_annuity  \n",
       "1064689                     0.0                 -13     15358.05  \n",
       "789514                      0.0                 -12          NaN  \n",
       "535141                      0.0                -438          NaN  \n",
       "820648                      0.0                -231          NaN  \n",
       "1053259                     0.0                -360          NaN  \n",
       "...                         ...                 ...          ...  \n",
       "1218196                     0.0                 -16          NaN  \n",
       "1594691                     0.0                -497          NaN  \n",
       "84322                       0.0               -2742          NaN  \n",
       "166738                      0.0               -2704          NaN  \n",
       "1088702                     0.0               -2691          NaN  \n",
       "\n",
       "[100 rows x 16 columns]"
      ]
     },
     "execution_count": 61,
     "metadata": {},
     "output_type": "execute_result"
    }
   ],
   "source": [
    "defi_credits.loc[defi_credits.credit_active == \"Active\"].nsmallest(100, 'days_credit_enddate')"
   ]
  },
  {
   "cell_type": "code",
   "execution_count": 63,
   "id": "9336a97d",
   "metadata": {},
   "outputs": [
    {
     "data": {
      "text/plain": [
       "0.0620527048032309"
      ]
     },
     "execution_count": 63,
     "metadata": {},
     "output_type": "execute_result"
    }
   ],
   "source": [
    "(defi_credits.amt_credit_sum == (defi_credits.amt_credit_sum_debt + defi_credits.amt_credit_sum_limit)).mean()"
   ]
  },
  {
   "cell_type": "code",
   "execution_count": 49,
   "id": "c2d7373f",
   "metadata": {},
   "outputs": [],
   "source": [
    "np.random.seed(85)"
   ]
  },
  {
   "cell_type": "code",
   "execution_count": 75,
   "id": "f37d21eb",
   "metadata": {},
   "outputs": [],
   "source": [
    "target_id = defi_credits.application_id_current.sample().values[0]\n",
    "target_df = defi_credits[defi_credits.application_id_current == target_id]"
   ]
  },
  {
   "cell_type": "code",
   "execution_count": 76,
   "id": "230ab189",
   "metadata": {},
   "outputs": [
    {
     "data": {
      "text/html": [
       "<div>\n",
       "<style scoped>\n",
       "    .dataframe tbody tr th:only-of-type {\n",
       "        vertical-align: middle;\n",
       "    }\n",
       "\n",
       "    .dataframe tbody tr th {\n",
       "        vertical-align: top;\n",
       "    }\n",
       "\n",
       "    .dataframe thead th {\n",
       "        text-align: right;\n",
       "    }\n",
       "</style>\n",
       "<table border=\"1\" class=\"dataframe\">\n",
       "  <thead>\n",
       "    <tr style=\"text-align: right;\">\n",
       "      <th></th>\n",
       "      <th>application_id_current</th>\n",
       "      <th>defi_id</th>\n",
       "      <th>credit_active</th>\n",
       "      <th>credit_currency</th>\n",
       "      <th>days_credit</th>\n",
       "      <th>credit_day_overdue</th>\n",
       "      <th>days_credit_enddate</th>\n",
       "      <th>days_enddate_fact</th>\n",
       "      <th>amt_credit_max_overdue</th>\n",
       "      <th>cnt_credit_prolong</th>\n",
       "      <th>amt_credit_sum</th>\n",
       "      <th>amt_credit_sum_debt</th>\n",
       "      <th>amt_credit_sum_limit</th>\n",
       "      <th>amt_credit_sum_overdue</th>\n",
       "      <th>days_credit_update</th>\n",
       "      <th>amt_annuity</th>\n",
       "    </tr>\n",
       "  </thead>\n",
       "  <tbody>\n",
       "    <tr>\n",
       "      <th>264581</th>\n",
       "      <td>161023</td>\n",
       "      <td>5924945</td>\n",
       "      <td>Closed</td>\n",
       "      <td>currency 1</td>\n",
       "      <td>-1494</td>\n",
       "      <td>0</td>\n",
       "      <td>-1127.0</td>\n",
       "      <td>-1127.0</td>\n",
       "      <td>NaN</td>\n",
       "      <td>0</td>\n",
       "      <td>76500.0</td>\n",
       "      <td>0.0</td>\n",
       "      <td>0.0</td>\n",
       "      <td>0.0</td>\n",
       "      <td>-1127</td>\n",
       "      <td>0.0</td>\n",
       "    </tr>\n",
       "    <tr>\n",
       "      <th>1023084</th>\n",
       "      <td>161023</td>\n",
       "      <td>5924944</td>\n",
       "      <td>Closed</td>\n",
       "      <td>currency 1</td>\n",
       "      <td>-1285</td>\n",
       "      <td>0</td>\n",
       "      <td>-980.0</td>\n",
       "      <td>-909.0</td>\n",
       "      <td>NaN</td>\n",
       "      <td>0</td>\n",
       "      <td>34087.5</td>\n",
       "      <td>0.0</td>\n",
       "      <td>0.0</td>\n",
       "      <td>0.0</td>\n",
       "      <td>-899</td>\n",
       "      <td>0.0</td>\n",
       "    </tr>\n",
       "    <tr>\n",
       "      <th>1023085</th>\n",
       "      <td>161023</td>\n",
       "      <td>5924946</td>\n",
       "      <td>Active</td>\n",
       "      <td>currency 1</td>\n",
       "      <td>-655</td>\n",
       "      <td>0</td>\n",
       "      <td>77.0</td>\n",
       "      <td>NaN</td>\n",
       "      <td>NaN</td>\n",
       "      <td>0</td>\n",
       "      <td>201771.0</td>\n",
       "      <td>30640.5</td>\n",
       "      <td>0.0</td>\n",
       "      <td>0.0</td>\n",
       "      <td>-15</td>\n",
       "      <td>0.0</td>\n",
       "    </tr>\n",
       "    <tr>\n",
       "      <th>1023086</th>\n",
       "      <td>161023</td>\n",
       "      <td>5924947</td>\n",
       "      <td>Active</td>\n",
       "      <td>currency 1</td>\n",
       "      <td>-787</td>\n",
       "      <td>0</td>\n",
       "      <td>-353.0</td>\n",
       "      <td>NaN</td>\n",
       "      <td>NaN</td>\n",
       "      <td>0</td>\n",
       "      <td>34573.5</td>\n",
       "      <td>3091.5</td>\n",
       "      <td>NaN</td>\n",
       "      <td>0.0</td>\n",
       "      <td>-370</td>\n",
       "      <td>3136.5</td>\n",
       "    </tr>\n",
       "    <tr>\n",
       "      <th>1023087</th>\n",
       "      <td>161023</td>\n",
       "      <td>5924948</td>\n",
       "      <td>Closed</td>\n",
       "      <td>currency 1</td>\n",
       "      <td>-787</td>\n",
       "      <td>0</td>\n",
       "      <td>-353.0</td>\n",
       "      <td>-350.0</td>\n",
       "      <td>NaN</td>\n",
       "      <td>0</td>\n",
       "      <td>34573.5</td>\n",
       "      <td>0.0</td>\n",
       "      <td>NaN</td>\n",
       "      <td>0.0</td>\n",
       "      <td>-15</td>\n",
       "      <td>0.0</td>\n",
       "    </tr>\n",
       "    <tr>\n",
       "      <th>1023088</th>\n",
       "      <td>161023</td>\n",
       "      <td>5924949</td>\n",
       "      <td>Active</td>\n",
       "      <td>currency 1</td>\n",
       "      <td>-1285</td>\n",
       "      <td>0</td>\n",
       "      <td>NaN</td>\n",
       "      <td>NaN</td>\n",
       "      <td>0.0</td>\n",
       "      <td>0</td>\n",
       "      <td>0.0</td>\n",
       "      <td>0.0</td>\n",
       "      <td>0.0</td>\n",
       "      <td>0.0</td>\n",
       "      <td>-39</td>\n",
       "      <td>0.0</td>\n",
       "    </tr>\n",
       "    <tr>\n",
       "      <th>1023089</th>\n",
       "      <td>161023</td>\n",
       "      <td>5924950</td>\n",
       "      <td>Closed</td>\n",
       "      <td>currency 1</td>\n",
       "      <td>-1162</td>\n",
       "      <td>0</td>\n",
       "      <td>-797.0</td>\n",
       "      <td>-797.0</td>\n",
       "      <td>0.0</td>\n",
       "      <td>0</td>\n",
       "      <td>67500.0</td>\n",
       "      <td>0.0</td>\n",
       "      <td>0.0</td>\n",
       "      <td>0.0</td>\n",
       "      <td>-790</td>\n",
       "      <td>NaN</td>\n",
       "    </tr>\n",
       "  </tbody>\n",
       "</table>\n",
       "</div>"
      ],
      "text/plain": [
       "         application_id_current  defi_id credit_active credit_currency  \\\n",
       "264581                   161023  5924945        Closed      currency 1   \n",
       "1023084                  161023  5924944        Closed      currency 1   \n",
       "1023085                  161023  5924946        Active      currency 1   \n",
       "1023086                  161023  5924947        Active      currency 1   \n",
       "1023087                  161023  5924948        Closed      currency 1   \n",
       "1023088                  161023  5924949        Active      currency 1   \n",
       "1023089                  161023  5924950        Closed      currency 1   \n",
       "\n",
       "         days_credit  credit_day_overdue  days_credit_enddate  \\\n",
       "264581         -1494                   0              -1127.0   \n",
       "1023084        -1285                   0               -980.0   \n",
       "1023085         -655                   0                 77.0   \n",
       "1023086         -787                   0               -353.0   \n",
       "1023087         -787                   0               -353.0   \n",
       "1023088        -1285                   0                  NaN   \n",
       "1023089        -1162                   0               -797.0   \n",
       "\n",
       "         days_enddate_fact  amt_credit_max_overdue  cnt_credit_prolong  \\\n",
       "264581             -1127.0                     NaN                   0   \n",
       "1023084             -909.0                     NaN                   0   \n",
       "1023085                NaN                     NaN                   0   \n",
       "1023086                NaN                     NaN                   0   \n",
       "1023087             -350.0                     NaN                   0   \n",
       "1023088                NaN                     0.0                   0   \n",
       "1023089             -797.0                     0.0                   0   \n",
       "\n",
       "         amt_credit_sum  amt_credit_sum_debt  amt_credit_sum_limit  \\\n",
       "264581          76500.0                  0.0                   0.0   \n",
       "1023084         34087.5                  0.0                   0.0   \n",
       "1023085        201771.0              30640.5                   0.0   \n",
       "1023086         34573.5               3091.5                   NaN   \n",
       "1023087         34573.5                  0.0                   NaN   \n",
       "1023088             0.0                  0.0                   0.0   \n",
       "1023089         67500.0                  0.0                   0.0   \n",
       "\n",
       "         amt_credit_sum_overdue  days_credit_update  amt_annuity  \n",
       "264581                      0.0               -1127          0.0  \n",
       "1023084                     0.0                -899          0.0  \n",
       "1023085                     0.0                 -15          0.0  \n",
       "1023086                     0.0                -370       3136.5  \n",
       "1023087                     0.0                 -15          0.0  \n",
       "1023088                     0.0                 -39          0.0  \n",
       "1023089                     0.0                -790          NaN  "
      ]
     },
     "execution_count": 76,
     "metadata": {},
     "output_type": "execute_result"
    }
   ],
   "source": [
    "target_df"
   ]
  },
  {
   "cell_type": "markdown",
   "id": "26de2785",
   "metadata": {},
   "source": [
    "**칼럼별 결측치 파악**"
   ]
  },
  {
   "cell_type": "code",
   "execution_count": 25,
   "id": "af9efca7",
   "metadata": {},
   "outputs": [
    {
     "name": "stdout",
     "output_type": "stream",
     "text": [
      "days_credit_enddate 결측수: 105553(6.15%)\n",
      "days_enddate_fact 결측수: 633653(36.92%)\n",
      "amt_credit_max_overdue 결측수: 1124488(65.51%)\n",
      "amt_credit_sum 결측수: 13(0.00%)\n",
      "amt_credit_sum_debt 결측수: 257669(15.01%)\n",
      "amt_credit_sum_limit 결측수: 591780(34.48%)\n",
      "amt_annuity 결측수: 1226791(71.47%)\n"
     ]
    }
   ],
   "source": [
    "for col in defi_credits:\n",
    "    col_na = defi_credits[col].isna()\n",
    "    if col_na.sum() > 0:\n",
    "        print(f\"{col} 결측수: {col_na.sum()}({col_na.mean()*100:.2f}%)\")"
   ]
  },
  {
   "cell_type": "markdown",
   "id": "5f71a27d",
   "metadata": {},
   "source": [
    "**칼럼별 기초적 통계량 확인**"
   ]
  },
  {
   "cell_type": "code",
   "execution_count": 26,
   "id": "8faf49f9",
   "metadata": {},
   "outputs": [
    {
     "name": "stdout",
     "output_type": "stream",
     "text": [
      "대출 건 수: 305,811\n"
     ]
    }
   ],
   "source": [
    "## application_id_current: 대출 식별자\n",
    "print(f\"대출 건 수: {defi_credits.application_id_current.nunique():,}\")"
   ]
  },
  {
   "cell_type": "code",
   "execution_count": 29,
   "id": "7da4fad7",
   "metadata": {},
   "outputs": [
    {
     "name": "stdout",
     "output_type": "stream",
     "text": [
      "defi_id 중복 수: 0\n"
     ]
    }
   ],
   "source": [
    "## prev 어쩌고가 잘못 나온 것 같은데 그냥 식별자로 이해하고 있음\n",
    "print(f\"defi_id 중복 수: {defi_credits.defi_id.duplicated().sum()}\")"
   ]
  },
  {
   "cell_type": "code",
   "execution_count": 13,
   "id": "6b657b1d",
   "metadata": {},
   "outputs": [
    {
     "data": {
      "text/plain": [
       "Closed      1079273\n",
       "Active       630607\n",
       "Sold           6527\n",
       "Bad debt         21\n",
       "Name: credit_active, dtype: int64"
      ]
     },
     "execution_count": 13,
     "metadata": {},
     "output_type": "execute_result"
    }
   ],
   "source": [
    "## credit_active: 대출 상태\n",
    "## Active: 진행 중, Closed: 상환 완료\n",
    "## Sold: ??, Bad debt: ??\n",
    "defi_credits.credit_active.value_counts()"
   ]
  },
  {
   "cell_type": "code",
   "execution_count": 14,
   "id": "9d01a22b",
   "metadata": {},
   "outputs": [
    {
     "data": {
      "text/plain": [
       "currency 1    1715020\n",
       "currency 2       1224\n",
       "currency 3        174\n",
       "currency 4         10\n",
       "Name: credit_currency, dtype: int64"
      ]
     },
     "execution_count": 14,
     "metadata": {},
     "output_type": "execute_result"
    }
   ],
   "source": [
    "## credit_currency: 통화 종류\n",
    "defi_credits.credit_currency.value_counts()"
   ]
  },
  {
   "cell_type": "code",
   "execution_count": 80,
   "id": "4ac2f600",
   "metadata": {},
   "outputs": [
    {
     "name": "stdout",
     "output_type": "stream",
     "text": [
      "days_credit 최댓값: 0\n"
     ]
    },
    {
     "data": {
      "image/png": "[encoded data removed]",
      "text/plain": [
       "<Figure size 432x288 with 1 Axes>"
      ]
     },
     "metadata": {
      "needs_background": "light"
     },
     "output_type": "display_data"
    }
   ],
   "source": [
    "## days_credit: 언제 대출이 발생했었는지. 이전 대출에 관한 것이므로 항상 음수.\n",
    "days_credit_max = defi_credits.days_credit.max()\n",
    "print(f\"days_credit 최댓값: {days_credit_max}\")\n",
    "assert days_credit_max <= 0\n",
    "\n",
    "defi_credits.days_credit.hist(bins=20, color='skyblue')\n",
    "plt.show()"
   ]
  },
  {
   "cell_type": "code",
   "execution_count": 92,
   "id": "19d4cfd6",
   "metadata": {},
   "outputs": [
    {
     "name": "stdout",
     "output_type": "stream",
     "text": [
      "만기 경과일 수가 0인 비율: 99.75%\n"
     ]
    },
    {
     "data": {
      "image/png": "[encoded data removed]",
      "text/plain": [
       "<Figure size 432x288 with 1 Axes>"
      ]
     },
     "metadata": {
      "needs_background": "light"
     },
     "output_type": "display_data"
    }
   ],
   "source": [
    "## credit_day_overdue: 만기경과일수\n",
    "print(f\"만기 경과일 수가 0인 비율: {(defi_credits.credit_day_overdue == 0).mean()*100:.2f}%\")\n",
    "defi_credits.loc[defi_credits.credit_day_overdue != 0, 'credit_day_overdue'].hist(color='skyblue')\n",
    "plt.show()"
   ]
  },
  {
   "cell_type": "code",
   "execution_count": 95,
   "id": "e6c25d82",
   "metadata": {},
   "outputs": [
    {
     "data": {
      "text/plain": [
       "<AxesSubplot:>"
      ]
     },
     "execution_count": 95,
     "metadata": {},
     "output_type": "execute_result"
    },
    {
     "data": {
      "image/png": "[encoded data removed]",
      "text/plain": [
       "<Figure size 432x288 with 1 Axes>"
      ]
     },
     "metadata": {
      "needs_background": "light"
     },
     "output_type": "display_data"
    }
   ],
   "source": [
    "## days_credit_enddate: 남은 상환 기간\n",
    "## closed면 다 음수여야 하는 거 아닌가?\n",
    "defi_credits.loc[defi_credits.credit_active == \"Closed\", 'days_credit_enddate'].hist()"
   ]
  },
  {
   "cell_type": "code",
   "execution_count": 104,
   "id": "69620947",
   "metadata": {},
   "outputs": [
    {
     "data": {
      "text/plain": [
       "0.11068283928162755"
      ]
     },
     "execution_count": 104,
     "metadata": {},
     "output_type": "execute_result"
    }
   ],
   "source": [
    "(defi_credits.loc[defi_credits.credit_active == \"Closed\", 'days_credit_enddate'] > 0).mean()"
   ]
  },
  {
   "cell_type": "code",
   "execution_count": 101,
   "id": "231c2d3e",
   "metadata": {},
   "outputs": [
    {
     "data": {
      "text/plain": [
       "<AxesSubplot:>"
      ]
     },
     "execution_count": 101,
     "metadata": {},
     "output_type": "execute_result"
    },
    {
     "data": {
      "image/png": "[encoded data removed]",
      "text/plain": [
       "<Figure size 432x288 with 1 Axes>"
      ]
     },
     "metadata": {
      "needs_background": "light"
     },
     "output_type": "display_data"
    }
   ],
   "source": [
    "## days_credit_enddate: 남은 상환 기간\n",
    "## active 다 양수여야 하는 거 아닌가?\n",
    "defi_credits.loc[defi_credits.credit_active == \"Active\", 'days_credit_enddate'].hist()"
   ]
  },
  {
   "cell_type": "code",
   "execution_count": 103,
   "id": "2497259a",
   "metadata": {},
   "outputs": [
    {
     "data": {
      "text/plain": [
       "0.12108809448674056"
      ]
     },
     "execution_count": 103,
     "metadata": {},
     "output_type": "execute_result"
    }
   ],
   "source": [
    "(defi_credits.loc[defi_credits.credit_active == \"Active\", 'days_credit_enddate'] < 0).mean()"
   ]
  },
  {
   "cell_type": "code",
   "execution_count": 106,
   "id": "30f1b2ed",
   "metadata": {},
   "outputs": [
    {
     "data": {
      "text/plain": [
       "<AxesSubplot:>"
      ]
     },
     "execution_count": 106,
     "metadata": {},
     "output_type": "execute_result"
    },
    {
     "data": {
      "image/png": "[encoded data removed]",
      "text/plain": [
       "<Figure size 432x288 with 1 Axes>"
      ]
     },
     "metadata": {
      "needs_background": "light"
     },
     "output_type": "display_data"
    }
   ],
   "source": [
    "## days_credit_enddate: 남은 상환 기간\n",
    "## Sold -> ??\n",
    "defi_credits.loc[defi_credits.credit_active == \"Bad debt\", 'days_credit_enddate'].hist()"
   ]
  },
  {
   "cell_type": "code",
   "execution_count": 107,
   "id": "c5664565",
   "metadata": {},
   "outputs": [
    {
     "data": {
      "text/plain": [
       "<AxesSubplot:>"
      ]
     },
     "execution_count": 107,
     "metadata": {},
     "output_type": "execute_result"
    },
    {
     "data": {
      "image/png": "[encoded data removed]",
      "text/plain": [
       "<Figure size 432x288 with 1 Axes>"
      ]
     },
     "metadata": {
      "needs_background": "light"
     },
     "output_type": "display_data"
    }
   ],
   "source": [
    "## days_credit_enddate: 남은 상환 기간\n",
    "## Sold -> ??\n",
    "defi_credits.loc[defi_credits.credit_active == \"Sold\", 'days_credit_enddate'].hist()"
   ]
  },
  {
   "cell_type": "code",
   "execution_count": 111,
   "id": "0af0cb9c",
   "metadata": {},
   "outputs": [
    {
     "data": {
      "text/plain": [
       "Closed      1079148\n",
       "Active         1969\n",
       "Sold           1648\n",
       "Bad debt         10\n",
       "Name: credit_active, dtype: int64"
      ]
     },
     "execution_count": 111,
     "metadata": {},
     "output_type": "execute_result"
    }
   ],
   "source": [
    "## days_enddate_fact\n",
    "defi_credits.loc[defi_credits.days_enddate_fact.notna(), 'credit_active'].value_counts()"
   ]
  },
  {
   "cell_type": "code",
   "execution_count": 112,
   "id": "144ce55b",
   "metadata": {},
   "outputs": [
    {
     "data": {
      "text/plain": [
       "Active      628638\n",
       "Sold          4879\n",
       "Closed         125\n",
       "Bad debt        11\n",
       "Name: credit_active, dtype: int64"
      ]
     },
     "execution_count": 112,
     "metadata": {},
     "output_type": "execute_result"
    }
   ],
   "source": [
    "## days_enddate_fact\n",
    "defi_credits.loc[defi_credits.days_enddate_fact.isna(), 'credit_active'].value_counts()"
   ]
  },
  {
   "cell_type": "code",
   "execution_count": 115,
   "id": "9f97384f",
   "metadata": {},
   "outputs": [
    {
     "data": {
      "image/png": "[encoded data removed]",
      "text/plain": [
       "<Figure size 432x288 with 1 Axes>"
      ]
     },
     "metadata": {
      "needs_background": "light"
     },
     "output_type": "display_data"
    },
    {
     "data": {
      "image/png": "[encoded data removed]",
      "text/plain": [
       "<Figure size 432x288 with 1 Axes>"
      ]
     },
     "metadata": {
      "needs_background": "light"
     },
     "output_type": "display_data"
    },
    {
     "data": {
      "image/png": "[encoded data removed]",
      "text/plain": [
       "<Figure size 432x288 with 1 Axes>"
      ]
     },
     "metadata": {
      "needs_background": "light"
     },
     "output_type": "display_data"
    },
    {
     "data": {
      "image/png": "[encoded data removed]",
      "text/plain": [
       "<Figure size 432x288 with 1 Axes>"
      ]
     },
     "metadata": {
      "needs_background": "light"
     },
     "output_type": "display_data"
    }
   ],
   "source": [
    "for active, group in defi_credits.groupby(\"credit_active\"):\n",
    "    group.days_enddate_fact.hist()\n",
    "    null_ratio = group.days_enddate_fact.isna().mean()\n",
    "    plt.title(f\"{active} (missing {null_ratio*100:.2f}%)\")\n",
    "    plt.show()"
   ]
  },
  {
   "cell_type": "code",
   "execution_count": null,
   "id": "4c846a8c",
   "metadata": {},
   "outputs": [],
   "source": []
  },
  {
   "cell_type": "code",
   "execution_count": 102,
   "id": "a6a49d47",
   "metadata": {},
   "outputs": [
    {
     "data": {
      "text/html": [
       "<div>\n",
       "<style scoped>\n",
       "    .dataframe tbody tr th:only-of-type {\n",
       "        vertical-align: middle;\n",
       "    }\n",
       "\n",
       "    .dataframe tbody tr th {\n",
       "        vertical-align: top;\n",
       "    }\n",
       "\n",
       "    .dataframe thead th {\n",
       "        text-align: right;\n",
       "    }\n",
       "</style>\n",
       "<table border=\"1\" class=\"dataframe\">\n",
       "  <thead>\n",
       "    <tr style=\"text-align: right;\">\n",
       "      <th></th>\n",
       "      <th>application_id_current</th>\n",
       "      <th>defi_id</th>\n",
       "      <th>credit_active</th>\n",
       "      <th>credit_currency</th>\n",
       "      <th>days_credit</th>\n",
       "      <th>credit_day_overdue</th>\n",
       "      <th>days_credit_enddate</th>\n",
       "      <th>days_enddate_fact</th>\n",
       "      <th>amt_credit_max_overdue</th>\n",
       "      <th>cnt_credit_prolong</th>\n",
       "      <th>amt_credit_sum</th>\n",
       "      <th>amt_credit_sum_debt</th>\n",
       "      <th>amt_credit_sum_limit</th>\n",
       "      <th>amt_credit_sum_overdue</th>\n",
       "      <th>days_credit_update</th>\n",
       "      <th>amt_annuity</th>\n",
       "    </tr>\n",
       "  </thead>\n",
       "  <tbody>\n",
       "    <tr>\n",
       "      <th>1064689</th>\n",
       "      <td>438173</td>\n",
       "      <td>6480224</td>\n",
       "      <td>Active</td>\n",
       "      <td>currency 1</td>\n",
       "      <td>-2578</td>\n",
       "      <td>0</td>\n",
       "      <td>-42056.0</td>\n",
       "      <td>NaN</td>\n",
       "      <td>132.795</td>\n",
       "      <td>0</td>\n",
       "      <td>427500.000</td>\n",
       "      <td>307160.865</td>\n",
       "      <td>120339.135</td>\n",
       "      <td>0.0</td>\n",
       "      <td>-13</td>\n",
       "      <td>15358.05</td>\n",
       "    </tr>\n",
       "    <tr>\n",
       "      <th>789514</th>\n",
       "      <td>137616</td>\n",
       "      <td>6500445</td>\n",
       "      <td>Active</td>\n",
       "      <td>currency 1</td>\n",
       "      <td>-337</td>\n",
       "      <td>0</td>\n",
       "      <td>-42042.0</td>\n",
       "      <td>NaN</td>\n",
       "      <td>0.000</td>\n",
       "      <td>0</td>\n",
       "      <td>90000.000</td>\n",
       "      <td>77269.500</td>\n",
       "      <td>12730.500</td>\n",
       "      <td>0.0</td>\n",
       "      <td>-12</td>\n",
       "      <td>NaN</td>\n",
       "    </tr>\n",
       "    <tr>\n",
       "      <th>535141</th>\n",
       "      <td>291169</td>\n",
       "      <td>5484492</td>\n",
       "      <td>Active</td>\n",
       "      <td>currency 1</td>\n",
       "      <td>-526</td>\n",
       "      <td>0</td>\n",
       "      <td>-41910.0</td>\n",
       "      <td>NaN</td>\n",
       "      <td>0.000</td>\n",
       "      <td>0</td>\n",
       "      <td>71252.100</td>\n",
       "      <td>0.000</td>\n",
       "      <td>0.000</td>\n",
       "      <td>0.0</td>\n",
       "      <td>-438</td>\n",
       "      <td>NaN</td>\n",
       "    </tr>\n",
       "    <tr>\n",
       "      <th>820648</th>\n",
       "      <td>259214</td>\n",
       "      <td>6795024</td>\n",
       "      <td>Active</td>\n",
       "      <td>currency 1</td>\n",
       "      <td>-2739</td>\n",
       "      <td>0</td>\n",
       "      <td>-41875.0</td>\n",
       "      <td>NaN</td>\n",
       "      <td>0.000</td>\n",
       "      <td>0</td>\n",
       "      <td>315000.000</td>\n",
       "      <td>307131.120</td>\n",
       "      <td>7868.880</td>\n",
       "      <td>0.0</td>\n",
       "      <td>-231</td>\n",
       "      <td>NaN</td>\n",
       "    </tr>\n",
       "    <tr>\n",
       "      <th>1053259</th>\n",
       "      <td>218700</td>\n",
       "      <td>6750658</td>\n",
       "      <td>Active</td>\n",
       "      <td>currency 1</td>\n",
       "      <td>-791</td>\n",
       "      <td>0</td>\n",
       "      <td>-41874.0</td>\n",
       "      <td>NaN</td>\n",
       "      <td>4883.985</td>\n",
       "      <td>0</td>\n",
       "      <td>135000.000</td>\n",
       "      <td>47760.390</td>\n",
       "      <td>87239.610</td>\n",
       "      <td>0.0</td>\n",
       "      <td>-360</td>\n",
       "      <td>NaN</td>\n",
       "    </tr>\n",
       "    <tr>\n",
       "      <th>1329218</th>\n",
       "      <td>250999</td>\n",
       "      <td>5281303</td>\n",
       "      <td>Active</td>\n",
       "      <td>currency 1</td>\n",
       "      <td>-693</td>\n",
       "      <td>0</td>\n",
       "      <td>-41872.0</td>\n",
       "      <td>NaN</td>\n",
       "      <td>0.000</td>\n",
       "      <td>0</td>\n",
       "      <td>225000.000</td>\n",
       "      <td>224273.970</td>\n",
       "      <td>726.030</td>\n",
       "      <td>0.0</td>\n",
       "      <td>-22</td>\n",
       "      <td>NaN</td>\n",
       "    </tr>\n",
       "    <tr>\n",
       "      <th>1329240</th>\n",
       "      <td>271085</td>\n",
       "      <td>5281329</td>\n",
       "      <td>Active</td>\n",
       "      <td>currency 1</td>\n",
       "      <td>-2688</td>\n",
       "      <td>0</td>\n",
       "      <td>-41872.0</td>\n",
       "      <td>NaN</td>\n",
       "      <td>0.000</td>\n",
       "      <td>0</td>\n",
       "      <td>2250000.000</td>\n",
       "      <td>50190.300</td>\n",
       "      <td>2199809.700</td>\n",
       "      <td>0.0</td>\n",
       "      <td>-224</td>\n",
       "      <td>NaN</td>\n",
       "    </tr>\n",
       "    <tr>\n",
       "      <th>1571665</th>\n",
       "      <td>176735</td>\n",
       "      <td>5755454</td>\n",
       "      <td>Active</td>\n",
       "      <td>currency 1</td>\n",
       "      <td>-2686</td>\n",
       "      <td>0</td>\n",
       "      <td>-41869.0</td>\n",
       "      <td>NaN</td>\n",
       "      <td>0.000</td>\n",
       "      <td>0</td>\n",
       "      <td>0.000</td>\n",
       "      <td>0.000</td>\n",
       "      <td>0.000</td>\n",
       "      <td>0.0</td>\n",
       "      <td>-232</td>\n",
       "      <td>NaN</td>\n",
       "    </tr>\n",
       "    <tr>\n",
       "      <th>651995</th>\n",
       "      <td>406781</td>\n",
       "      <td>6784739</td>\n",
       "      <td>Active</td>\n",
       "      <td>currency 1</td>\n",
       "      <td>-420</td>\n",
       "      <td>0</td>\n",
       "      <td>-41867.0</td>\n",
       "      <td>NaN</td>\n",
       "      <td>0.000</td>\n",
       "      <td>0</td>\n",
       "      <td>225000.000</td>\n",
       "      <td>0.000</td>\n",
       "      <td>225000.000</td>\n",
       "      <td>0.0</td>\n",
       "      <td>-129</td>\n",
       "      <td>NaN</td>\n",
       "    </tr>\n",
       "    <tr>\n",
       "      <th>1142631</th>\n",
       "      <td>410012</td>\n",
       "      <td>6756504</td>\n",
       "      <td>Active</td>\n",
       "      <td>currency 1</td>\n",
       "      <td>-2317</td>\n",
       "      <td>0</td>\n",
       "      <td>-41866.0</td>\n",
       "      <td>NaN</td>\n",
       "      <td>0.000</td>\n",
       "      <td>0</td>\n",
       "      <td>427500.000</td>\n",
       "      <td>426620.925</td>\n",
       "      <td>879.075</td>\n",
       "      <td>0.0</td>\n",
       "      <td>-13</td>\n",
       "      <td>NaN</td>\n",
       "    </tr>\n",
       "    <tr>\n",
       "      <th>1454938</th>\n",
       "      <td>210992</td>\n",
       "      <td>6330272</td>\n",
       "      <td>Active</td>\n",
       "      <td>currency 1</td>\n",
       "      <td>-2175</td>\n",
       "      <td>0</td>\n",
       "      <td>-41866.0</td>\n",
       "      <td>NaN</td>\n",
       "      <td>8536.140</td>\n",
       "      <td>0</td>\n",
       "      <td>89680.365</td>\n",
       "      <td>0.000</td>\n",
       "      <td>89680.365</td>\n",
       "      <td>0.0</td>\n",
       "      <td>-76</td>\n",
       "      <td>NaN</td>\n",
       "    </tr>\n",
       "    <tr>\n",
       "      <th>172849</th>\n",
       "      <td>402529</td>\n",
       "      <td>5594582</td>\n",
       "      <td>Active</td>\n",
       "      <td>currency 1</td>\n",
       "      <td>-407</td>\n",
       "      <td>0</td>\n",
       "      <td>-41865.0</td>\n",
       "      <td>NaN</td>\n",
       "      <td>0.000</td>\n",
       "      <td>0</td>\n",
       "      <td>225000.000</td>\n",
       "      <td>0.000</td>\n",
       "      <td>225000.000</td>\n",
       "      <td>0.0</td>\n",
       "      <td>-320</td>\n",
       "      <td>NaN</td>\n",
       "    </tr>\n",
       "    <tr>\n",
       "      <th>132479</th>\n",
       "      <td>149469</td>\n",
       "      <td>5225714</td>\n",
       "      <td>Active</td>\n",
       "      <td>currency 1</td>\n",
       "      <td>-2571</td>\n",
       "      <td>0</td>\n",
       "      <td>-41862.0</td>\n",
       "      <td>NaN</td>\n",
       "      <td>0.000</td>\n",
       "      <td>0</td>\n",
       "      <td>202500.000</td>\n",
       "      <td>172003.680</td>\n",
       "      <td>30496.320</td>\n",
       "      <td>0.0</td>\n",
       "      <td>-212</td>\n",
       "      <td>NaN</td>\n",
       "    </tr>\n",
       "    <tr>\n",
       "      <th>264534</th>\n",
       "      <td>377699</td>\n",
       "      <td>5912949</td>\n",
       "      <td>Active</td>\n",
       "      <td>currency 1</td>\n",
       "      <td>-2467</td>\n",
       "      <td>0</td>\n",
       "      <td>-41862.0</td>\n",
       "      <td>NaN</td>\n",
       "      <td>0.000</td>\n",
       "      <td>0</td>\n",
       "      <td>157500.000</td>\n",
       "      <td>134828.190</td>\n",
       "      <td>22671.810</td>\n",
       "      <td>0.0</td>\n",
       "      <td>-212</td>\n",
       "      <td>NaN</td>\n",
       "    </tr>\n",
       "    <tr>\n",
       "      <th>911223</th>\n",
       "      <td>283129</td>\n",
       "      <td>5675356</td>\n",
       "      <td>Active</td>\n",
       "      <td>currency 1</td>\n",
       "      <td>-2869</td>\n",
       "      <td>0</td>\n",
       "      <td>-41858.0</td>\n",
       "      <td>NaN</td>\n",
       "      <td>0.000</td>\n",
       "      <td>0</td>\n",
       "      <td>166500.000</td>\n",
       "      <td>164578.860</td>\n",
       "      <td>1921.140</td>\n",
       "      <td>0.0</td>\n",
       "      <td>-207</td>\n",
       "      <td>NaN</td>\n",
       "    </tr>\n",
       "    <tr>\n",
       "      <th>1334137</th>\n",
       "      <td>108166</td>\n",
       "      <td>6600597</td>\n",
       "      <td>Active</td>\n",
       "      <td>currency 1</td>\n",
       "      <td>-644</td>\n",
       "      <td>0</td>\n",
       "      <td>-41853.0</td>\n",
       "      <td>NaN</td>\n",
       "      <td>0.000</td>\n",
       "      <td>0</td>\n",
       "      <td>115650.000</td>\n",
       "      <td>105031.080</td>\n",
       "      <td>10618.920</td>\n",
       "      <td>0.0</td>\n",
       "      <td>-321</td>\n",
       "      <td>NaN</td>\n",
       "    </tr>\n",
       "    <tr>\n",
       "      <th>67507</th>\n",
       "      <td>147912</td>\n",
       "      <td>5007091</td>\n",
       "      <td>Active</td>\n",
       "      <td>currency 1</td>\n",
       "      <td>-388</td>\n",
       "      <td>0</td>\n",
       "      <td>-41847.0</td>\n",
       "      <td>NaN</td>\n",
       "      <td>0.000</td>\n",
       "      <td>0</td>\n",
       "      <td>225000.000</td>\n",
       "      <td>0.000</td>\n",
       "      <td>225000.000</td>\n",
       "      <td>0.0</td>\n",
       "      <td>-241</td>\n",
       "      <td>NaN</td>\n",
       "    </tr>\n",
       "    <tr>\n",
       "      <th>663692</th>\n",
       "      <td>183397</td>\n",
       "      <td>5015922</td>\n",
       "      <td>Active</td>\n",
       "      <td>currency 1</td>\n",
       "      <td>-145</td>\n",
       "      <td>0</td>\n",
       "      <td>-41844.0</td>\n",
       "      <td>NaN</td>\n",
       "      <td>0.000</td>\n",
       "      <td>0</td>\n",
       "      <td>76500.000</td>\n",
       "      <td>0.000</td>\n",
       "      <td>76500.000</td>\n",
       "      <td>0.0</td>\n",
       "      <td>-120</td>\n",
       "      <td>NaN</td>\n",
       "    </tr>\n",
       "    <tr>\n",
       "      <th>862422</th>\n",
       "      <td>198393</td>\n",
       "      <td>6044512</td>\n",
       "      <td>Active</td>\n",
       "      <td>currency 1</td>\n",
       "      <td>-782</td>\n",
       "      <td>0</td>\n",
       "      <td>-41843.0</td>\n",
       "      <td>NaN</td>\n",
       "      <td>0.000</td>\n",
       "      <td>0</td>\n",
       "      <td>0.000</td>\n",
       "      <td>0.000</td>\n",
       "      <td>0.000</td>\n",
       "      <td>0.0</td>\n",
       "      <td>-451</td>\n",
       "      <td>NaN</td>\n",
       "    </tr>\n",
       "    <tr>\n",
       "      <th>952215</th>\n",
       "      <td>178069</td>\n",
       "      <td>6393187</td>\n",
       "      <td>Active</td>\n",
       "      <td>currency 1</td>\n",
       "      <td>-2854</td>\n",
       "      <td>0</td>\n",
       "      <td>-41843.0</td>\n",
       "      <td>NaN</td>\n",
       "      <td>0.000</td>\n",
       "      <td>0</td>\n",
       "      <td>29250.000</td>\n",
       "      <td>29138.400</td>\n",
       "      <td>111.600</td>\n",
       "      <td>0.0</td>\n",
       "      <td>-203</td>\n",
       "      <td>NaN</td>\n",
       "    </tr>\n",
       "    <tr>\n",
       "      <th>327808</th>\n",
       "      <td>166910</td>\n",
       "      <td>5540024</td>\n",
       "      <td>Active</td>\n",
       "      <td>currency 1</td>\n",
       "      <td>-50</td>\n",
       "      <td>0</td>\n",
       "      <td>-41840.0</td>\n",
       "      <td>NaN</td>\n",
       "      <td>0.000</td>\n",
       "      <td>0</td>\n",
       "      <td>225000.000</td>\n",
       "      <td>220914.000</td>\n",
       "      <td>4086.000</td>\n",
       "      <td>0.0</td>\n",
       "      <td>-6</td>\n",
       "      <td>NaN</td>\n",
       "    </tr>\n",
       "    <tr>\n",
       "      <th>1108114</th>\n",
       "      <td>422994</td>\n",
       "      <td>6181107</td>\n",
       "      <td>Active</td>\n",
       "      <td>currency 1</td>\n",
       "      <td>-2792</td>\n",
       "      <td>0</td>\n",
       "      <td>-41839.0</td>\n",
       "      <td>NaN</td>\n",
       "      <td>0.000</td>\n",
       "      <td>0</td>\n",
       "      <td>29176.200</td>\n",
       "      <td>29176.200</td>\n",
       "      <td>0.000</td>\n",
       "      <td>0.0</td>\n",
       "      <td>-202</td>\n",
       "      <td>NaN</td>\n",
       "    </tr>\n",
       "    <tr>\n",
       "      <th>999129</th>\n",
       "      <td>115854</td>\n",
       "      <td>5450880</td>\n",
       "      <td>Active</td>\n",
       "      <td>currency 1</td>\n",
       "      <td>-620</td>\n",
       "      <td>0</td>\n",
       "      <td>-41834.0</td>\n",
       "      <td>NaN</td>\n",
       "      <td>0.000</td>\n",
       "      <td>0</td>\n",
       "      <td>225000.000</td>\n",
       "      <td>0.000</td>\n",
       "      <td>225000.000</td>\n",
       "      <td>0.0</td>\n",
       "      <td>-593</td>\n",
       "      <td>NaN</td>\n",
       "    </tr>\n",
       "    <tr>\n",
       "      <th>1381000</th>\n",
       "      <td>315836</td>\n",
       "      <td>5392241</td>\n",
       "      <td>Active</td>\n",
       "      <td>currency 1</td>\n",
       "      <td>-1866</td>\n",
       "      <td>0</td>\n",
       "      <td>-41834.0</td>\n",
       "      <td>NaN</td>\n",
       "      <td>0.000</td>\n",
       "      <td>0</td>\n",
       "      <td>45000.000</td>\n",
       "      <td>0.000</td>\n",
       "      <td>45000.000</td>\n",
       "      <td>0.0</td>\n",
       "      <td>-57</td>\n",
       "      <td>NaN</td>\n",
       "    </tr>\n",
       "    <tr>\n",
       "      <th>331562</th>\n",
       "      <td>362241</td>\n",
       "      <td>5063219</td>\n",
       "      <td>Active</td>\n",
       "      <td>currency 1</td>\n",
       "      <td>-2325</td>\n",
       "      <td>0</td>\n",
       "      <td>-41832.0</td>\n",
       "      <td>NaN</td>\n",
       "      <td>6853.950</td>\n",
       "      <td>0</td>\n",
       "      <td>135000.000</td>\n",
       "      <td>116840.295</td>\n",
       "      <td>18159.705</td>\n",
       "      <td>0.0</td>\n",
       "      <td>-14</td>\n",
       "      <td>NaN</td>\n",
       "    </tr>\n",
       "    <tr>\n",
       "      <th>587779</th>\n",
       "      <td>427940</td>\n",
       "      <td>6455464</td>\n",
       "      <td>Active</td>\n",
       "      <td>currency 1</td>\n",
       "      <td>-2631</td>\n",
       "      <td>0</td>\n",
       "      <td>-41832.0</td>\n",
       "      <td>NaN</td>\n",
       "      <td>0.000</td>\n",
       "      <td>0</td>\n",
       "      <td>65216.475</td>\n",
       "      <td>35992.440</td>\n",
       "      <td>29224.035</td>\n",
       "      <td>0.0</td>\n",
       "      <td>-183</td>\n",
       "      <td>NaN</td>\n",
       "    </tr>\n",
       "    <tr>\n",
       "      <th>860239</th>\n",
       "      <td>211202</td>\n",
       "      <td>6041751</td>\n",
       "      <td>Active</td>\n",
       "      <td>currency 1</td>\n",
       "      <td>-2843</td>\n",
       "      <td>0</td>\n",
       "      <td>-41832.0</td>\n",
       "      <td>NaN</td>\n",
       "      <td>0.000</td>\n",
       "      <td>0</td>\n",
       "      <td>45000.000</td>\n",
       "      <td>40725.450</td>\n",
       "      <td>4274.550</td>\n",
       "      <td>0.0</td>\n",
       "      <td>-184</td>\n",
       "      <td>NaN</td>\n",
       "    </tr>\n",
       "    <tr>\n",
       "      <th>366504</th>\n",
       "      <td>192694</td>\n",
       "      <td>6018202</td>\n",
       "      <td>Active</td>\n",
       "      <td>currency 1</td>\n",
       "      <td>-2521</td>\n",
       "      <td>0</td>\n",
       "      <td>-41830.0</td>\n",
       "      <td>NaN</td>\n",
       "      <td>0.000</td>\n",
       "      <td>0</td>\n",
       "      <td>427500.000</td>\n",
       "      <td>421823.925</td>\n",
       "      <td>5676.075</td>\n",
       "      <td>0.0</td>\n",
       "      <td>-186</td>\n",
       "      <td>NaN</td>\n",
       "    </tr>\n",
       "    <tr>\n",
       "      <th>1212058</th>\n",
       "      <td>300041</td>\n",
       "      <td>5639554</td>\n",
       "      <td>Active</td>\n",
       "      <td>currency 1</td>\n",
       "      <td>-151</td>\n",
       "      <td>0</td>\n",
       "      <td>-41822.0</td>\n",
       "      <td>NaN</td>\n",
       "      <td>0.000</td>\n",
       "      <td>0</td>\n",
       "      <td>225000.000</td>\n",
       "      <td>217573.515</td>\n",
       "      <td>7426.485</td>\n",
       "      <td>0.0</td>\n",
       "      <td>-35</td>\n",
       "      <td>NaN</td>\n",
       "    </tr>\n",
       "    <tr>\n",
       "      <th>920136</th>\n",
       "      <td>108536</td>\n",
       "      <td>5071221</td>\n",
       "      <td>Active</td>\n",
       "      <td>currency 1</td>\n",
       "      <td>-2238</td>\n",
       "      <td>0</td>\n",
       "      <td>-41821.0</td>\n",
       "      <td>NaN</td>\n",
       "      <td>7057.890</td>\n",
       "      <td>0</td>\n",
       "      <td>130950.000</td>\n",
       "      <td>126410.580</td>\n",
       "      <td>4539.420</td>\n",
       "      <td>0.0</td>\n",
       "      <td>-22</td>\n",
       "      <td>NaN</td>\n",
       "    </tr>\n",
       "  </tbody>\n",
       "</table>\n",
       "</div>"
      ],
      "text/plain": [
       "         application_id_current  defi_id credit_active credit_currency  \\\n",
       "1064689                  438173  6480224        Active      currency 1   \n",
       "789514                   137616  6500445        Active      currency 1   \n",
       "535141                   291169  5484492        Active      currency 1   \n",
       "820648                   259214  6795024        Active      currency 1   \n",
       "1053259                  218700  6750658        Active      currency 1   \n",
       "1329218                  250999  5281303        Active      currency 1   \n",
       "1329240                  271085  5281329        Active      currency 1   \n",
       "1571665                  176735  5755454        Active      currency 1   \n",
       "651995                   406781  6784739        Active      currency 1   \n",
       "1142631                  410012  6756504        Active      currency 1   \n",
       "1454938                  210992  6330272        Active      currency 1   \n",
       "172849                   402529  5594582        Active      currency 1   \n",
       "132479                   149469  5225714        Active      currency 1   \n",
       "264534                   377699  5912949        Active      currency 1   \n",
       "911223                   283129  5675356        Active      currency 1   \n",
       "1334137                  108166  6600597        Active      currency 1   \n",
       "67507                    147912  5007091        Active      currency 1   \n",
       "663692                   183397  5015922        Active      currency 1   \n",
       "862422                   198393  6044512        Active      currency 1   \n",
       "952215                   178069  6393187        Active      currency 1   \n",
       "327808                   166910  5540024        Active      currency 1   \n",
       "1108114                  422994  6181107        Active      currency 1   \n",
       "999129                   115854  5450880        Active      currency 1   \n",
       "1381000                  315836  5392241        Active      currency 1   \n",
       "331562                   362241  5063219        Active      currency 1   \n",
       "587779                   427940  6455464        Active      currency 1   \n",
       "860239                   211202  6041751        Active      currency 1   \n",
       "366504                   192694  6018202        Active      currency 1   \n",
       "1212058                  300041  5639554        Active      currency 1   \n",
       "920136                   108536  5071221        Active      currency 1   \n",
       "\n",
       "         days_credit  credit_day_overdue  days_credit_enddate  \\\n",
       "1064689        -2578                   0             -42056.0   \n",
       "789514          -337                   0             -42042.0   \n",
       "535141          -526                   0             -41910.0   \n",
       "820648         -2739                   0             -41875.0   \n",
       "1053259         -791                   0             -41874.0   \n",
       "1329218         -693                   0             -41872.0   \n",
       "1329240        -2688                   0             -41872.0   \n",
       "1571665        -2686                   0             -41869.0   \n",
       "651995          -420                   0             -41867.0   \n",
       "1142631        -2317                   0             -41866.0   \n",
       "1454938        -2175                   0             -41866.0   \n",
       "172849          -407                   0             -41865.0   \n",
       "132479         -2571                   0             -41862.0   \n",
       "264534         -2467                   0             -41862.0   \n",
       "911223         -2869                   0             -41858.0   \n",
       "1334137         -644                   0             -41853.0   \n",
       "67507           -388                   0             -41847.0   \n",
       "663692          -145                   0             -41844.0   \n",
       "862422          -782                   0             -41843.0   \n",
       "952215         -2854                   0             -41843.0   \n",
       "327808           -50                   0             -41840.0   \n",
       "1108114        -2792                   0             -41839.0   \n",
       "999129          -620                   0             -41834.0   \n",
       "1381000        -1866                   0             -41834.0   \n",
       "331562         -2325                   0             -41832.0   \n",
       "587779         -2631                   0             -41832.0   \n",
       "860239         -2843                   0             -41832.0   \n",
       "366504         -2521                   0             -41830.0   \n",
       "1212058         -151                   0             -41822.0   \n",
       "920136         -2238                   0             -41821.0   \n",
       "\n",
       "         days_enddate_fact  amt_credit_max_overdue  cnt_credit_prolong  \\\n",
       "1064689                NaN                 132.795                   0   \n",
       "789514                 NaN                   0.000                   0   \n",
       "535141                 NaN                   0.000                   0   \n",
       "820648                 NaN                   0.000                   0   \n",
       "1053259                NaN                4883.985                   0   \n",
       "1329218                NaN                   0.000                   0   \n",
       "1329240                NaN                   0.000                   0   \n",
       "1571665                NaN                   0.000                   0   \n",
       "651995                 NaN                   0.000                   0   \n",
       "1142631                NaN                   0.000                   0   \n",
       "1454938                NaN                8536.140                   0   \n",
       "172849                 NaN                   0.000                   0   \n",
       "132479                 NaN                   0.000                   0   \n",
       "264534                 NaN                   0.000                   0   \n",
       "911223                 NaN                   0.000                   0   \n",
       "1334137                NaN                   0.000                   0   \n",
       "67507                  NaN                   0.000                   0   \n",
       "663692                 NaN                   0.000                   0   \n",
       "862422                 NaN                   0.000                   0   \n",
       "952215                 NaN                   0.000                   0   \n",
       "327808                 NaN                   0.000                   0   \n",
       "1108114                NaN                   0.000                   0   \n",
       "999129                 NaN                   0.000                   0   \n",
       "1381000                NaN                   0.000                   0   \n",
       "331562                 NaN                6853.950                   0   \n",
       "587779                 NaN                   0.000                   0   \n",
       "860239                 NaN                   0.000                   0   \n",
       "366504                 NaN                   0.000                   0   \n",
       "1212058                NaN                   0.000                   0   \n",
       "920136                 NaN                7057.890                   0   \n",
       "\n",
       "         amt_credit_sum  amt_credit_sum_debt  amt_credit_sum_limit  \\\n",
       "1064689      427500.000           307160.865            120339.135   \n",
       "789514        90000.000            77269.500             12730.500   \n",
       "535141        71252.100                0.000                 0.000   \n",
       "820648       315000.000           307131.120              7868.880   \n",
       "1053259      135000.000            47760.390             87239.610   \n",
       "1329218      225000.000           224273.970               726.030   \n",
       "1329240     2250000.000            50190.300           2199809.700   \n",
       "1571665           0.000                0.000                 0.000   \n",
       "651995       225000.000                0.000            225000.000   \n",
       "1142631      427500.000           426620.925               879.075   \n",
       "1454938       89680.365                0.000             89680.365   \n",
       "172849       225000.000                0.000            225000.000   \n",
       "132479       202500.000           172003.680             30496.320   \n",
       "264534       157500.000           134828.190             22671.810   \n",
       "911223       166500.000           164578.860              1921.140   \n",
       "1334137      115650.000           105031.080             10618.920   \n",
       "67507        225000.000                0.000            225000.000   \n",
       "663692        76500.000                0.000             76500.000   \n",
       "862422            0.000                0.000                 0.000   \n",
       "952215        29250.000            29138.400               111.600   \n",
       "327808       225000.000           220914.000              4086.000   \n",
       "1108114       29176.200            29176.200                 0.000   \n",
       "999129       225000.000                0.000            225000.000   \n",
       "1381000       45000.000                0.000             45000.000   \n",
       "331562       135000.000           116840.295             18159.705   \n",
       "587779        65216.475            35992.440             29224.035   \n",
       "860239        45000.000            40725.450              4274.550   \n",
       "366504       427500.000           421823.925              5676.075   \n",
       "1212058      225000.000           217573.515              7426.485   \n",
       "920136       130950.000           126410.580              4539.420   \n",
       "\n",
       "         amt_credit_sum_overdue  days_credit_update  amt_annuity  \n",
       "1064689                     0.0                 -13     15358.05  \n",
       "789514                      0.0                 -12          NaN  \n",
       "535141                      0.0                -438          NaN  \n",
       "820648                      0.0                -231          NaN  \n",
       "1053259                     0.0                -360          NaN  \n",
       "1329218                     0.0                 -22          NaN  \n",
       "1329240                     0.0                -224          NaN  \n",
       "1571665                     0.0                -232          NaN  \n",
       "651995                      0.0                -129          NaN  \n",
       "1142631                     0.0                 -13          NaN  \n",
       "1454938                     0.0                 -76          NaN  \n",
       "172849                      0.0                -320          NaN  \n",
       "132479                      0.0                -212          NaN  \n",
       "264534                      0.0                -212          NaN  \n",
       "911223                      0.0                -207          NaN  \n",
       "1334137                     0.0                -321          NaN  \n",
       "67507                       0.0                -241          NaN  \n",
       "663692                      0.0                -120          NaN  \n",
       "862422                      0.0                -451          NaN  \n",
       "952215                      0.0                -203          NaN  \n",
       "327808                      0.0                  -6          NaN  \n",
       "1108114                     0.0                -202          NaN  \n",
       "999129                      0.0                -593          NaN  \n",
       "1381000                     0.0                 -57          NaN  \n",
       "331562                      0.0                 -14          NaN  \n",
       "587779                      0.0                -183          NaN  \n",
       "860239                      0.0                -184          NaN  \n",
       "366504                      0.0                -186          NaN  \n",
       "1212058                     0.0                 -35          NaN  \n",
       "920136                      0.0                 -22          NaN  "
      ]
     },
     "execution_count": 102,
     "metadata": {},
     "output_type": "execute_result"
    }
   ],
   "source": [
    "defi_credits.loc[defi_credits.credit_active == \"Active\"].nsmallest(30, 'days_credit_enddate')"
   ]
  },
  {
   "cell_type": "code",
   "execution_count": 94,
   "id": "5dc5cd15",
   "metadata": {},
   "outputs": [
    {
     "data": {
      "image/png": "[encoded data removed]",
      "text/plain": [
       "<Figure size 432x288 with 1 Axes>"
      ]
     },
     "metadata": {
      "needs_background": "light"
     },
     "output_type": "display_data"
    }
   ],
   "source": [
    "closed_enddate_fact = defi_credits.loc[defi_credits.credit_active == \"Closed\", 'days_enddate_fact']\n",
    "defi_credits.loc[defi_credits.credit_active == \"Closed\", 'days_enddate_fact'].hist()\n",
    "plt.show()"
   ]
  },
  {
   "cell_type": "code",
   "execution_count": 82,
   "id": "8e6d5b1f",
   "metadata": {},
   "outputs": [
    {
     "data": {
      "text/plain": [
       "1712211"
      ]
     },
     "execution_count": 82,
     "metadata": {},
     "output_type": "execute_result"
    }
   ],
   "source": [
    "(defi_credits.credit_day_overdue == 0).sum()"
   ]
  },
  {
   "cell_type": "code",
   "execution_count": 21,
   "id": "aca89291",
   "metadata": {},
   "outputs": [
    {
     "data": {
      "text/plain": [
       "0.997543153572419"
      ]
     },
     "execution_count": 21,
     "metadata": {},
     "output_type": "execute_result"
    }
   ],
   "source": [
    "(defi_credits.credit_day_overdue == 0).mean()"
   ]
  },
  {
   "cell_type": "code",
   "execution_count": null,
   "id": "f0b3c981",
   "metadata": {},
   "outputs": [],
   "source": [
    "days_credit_enddate"
   ]
  }
 ],
 "metadata": {
  "kernelspec": {
   "display_name": "Python 3",
   "language": "python",
   "name": "python3"
  },
  "language_info": {
   "codemirror_mode": {
    "name": "ipython",
    "version": 3
   },
   "file_extension": ".py",
   "mimetype": "text/x-python",
   "name": "python",
   "nbconvert_exporter": "python",
   "pygments_lexer": "ipython3",
   "version": "3.8.8"
  }
 },
 "nbformat": 4,
 "nbformat_minor": 5
}
