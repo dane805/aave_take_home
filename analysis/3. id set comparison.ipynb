{
 "cells": [
  {
   "cell_type": "markdown",
   "id": "2eecbe10",
   "metadata": {},
   "source": [
    "- id 구성과 join할 때 결측이 어떻게 될지 등을 미리 살펴봄\n",
    "- 채택한 lightgbm의 경우 결측을 자체적으로 처리해줄 수 있으므로 데이터 있는 경우만 처리할 예정"
   ]
  },
  {
   "cell_type": "code",
   "execution_count": 2,
   "id": "835bba17",
   "metadata": {},
   "outputs": [],
   "source": [
    "from glob import glob\n",
    "\n",
    "import pandas as pd\n",
    "import numpy as np\n",
    "import matplotlib.pyplot as plt"
   ]
  },
  {
   "cell_type": "code",
   "execution_count": 3,
   "id": "23fce416",
   "metadata": {},
   "outputs": [],
   "source": [
    "data_path = \"../take-home-interview/\""
   ]
  },
  {
   "cell_type": "code",
   "execution_count": 4,
   "id": "6ba7db0b",
   "metadata": {},
   "outputs": [],
   "source": [
    "app = pd.read_csv(data_path + \"loan_application.csv\")\n",
    "credits = pd.read_csv(data_path + \"defi_credits.csv\")\n",
    "credit_balance = pd.read_csv(data_path + \"defi_credits_balance.csv\")\n",
    "balance = pd.read_csv(data_path + \"aave_loan_balance.csv\")\n",
    "payments = pd.read_csv(data_path + \"installments_payments.csv\")\n",
    "app_prev = pd.read_csv(data_path + \"application_previous.csv\")"
   ]
  },
  {
   "cell_type": "code",
   "execution_count": 61,
   "id": "f5bdd2da",
   "metadata": {},
   "outputs": [
    {
     "data": {
      "text/html": [
       "<div>\n",
       "<style scoped>\n",
       "    .dataframe tbody tr th:only-of-type {\n",
       "        vertical-align: middle;\n",
       "    }\n",
       "\n",
       "    .dataframe tbody tr th {\n",
       "        vertical-align: top;\n",
       "    }\n",
       "\n",
       "    .dataframe thead th {\n",
       "        text-align: right;\n",
       "    }\n",
       "</style>\n",
       "<table border=\"1\" class=\"dataframe\">\n",
       "  <thead>\n",
       "    <tr style=\"text-align: right;\">\n",
       "      <th></th>\n",
       "      <th>application_id_previous</th>\n",
       "      <th>application_id_current</th>\n",
       "      <th>amt_annuity</th>\n",
       "      <th>amt_application</th>\n",
       "      <th>amt_credit</th>\n",
       "      <th>amt_down_payment</th>\n",
       "      <th>amt_goods_price</th>\n",
       "      <th>weekday_appr_process_start</th>\n",
       "      <th>hour_appr_process_start</th>\n",
       "      <th>flag_last_appl_per_contract</th>\n",
       "      <th>...</th>\n",
       "      <th>sellerplace_area</th>\n",
       "      <th>name_seller_industry</th>\n",
       "      <th>cnt_payment</th>\n",
       "      <th>name_yield_group</th>\n",
       "      <th>days_first_drawing</th>\n",
       "      <th>days_first_due</th>\n",
       "      <th>days_last_due_1st_version</th>\n",
       "      <th>days_last_due</th>\n",
       "      <th>days_termination</th>\n",
       "      <th>nflag_insured_on_approval</th>\n",
       "    </tr>\n",
       "  </thead>\n",
       "  <tbody>\n",
       "    <tr>\n",
       "      <th>1</th>\n",
       "      <td>2802425</td>\n",
       "      <td>108129</td>\n",
       "      <td>25188.615</td>\n",
       "      <td>607500.0</td>\n",
       "      <td>679671.0</td>\n",
       "      <td>NaN</td>\n",
       "      <td>607500.0</td>\n",
       "      <td>THURSDAY</td>\n",
       "      <td>11</td>\n",
       "      <td>Y</td>\n",
       "      <td>...</td>\n",
       "      <td>-1</td>\n",
       "      <td>XNA</td>\n",
       "      <td>36.0</td>\n",
       "      <td>low_action</td>\n",
       "      <td>365243.0</td>\n",
       "      <td>-134.0</td>\n",
       "      <td>916.0</td>\n",
       "      <td>365243.0</td>\n",
       "      <td>365243.0</td>\n",
       "      <td>1.0</td>\n",
       "    </tr>\n",
       "    <tr>\n",
       "      <th>335841</th>\n",
       "      <td>1536272</td>\n",
       "      <td>108129</td>\n",
       "      <td>21709.125</td>\n",
       "      <td>450000.0</td>\n",
       "      <td>512370.0</td>\n",
       "      <td>NaN</td>\n",
       "      <td>450000.0</td>\n",
       "      <td>WEDNESDAY</td>\n",
       "      <td>9</td>\n",
       "      <td>Y</td>\n",
       "      <td>...</td>\n",
       "      <td>6</td>\n",
       "      <td>XNA</td>\n",
       "      <td>36.0</td>\n",
       "      <td>low_normal</td>\n",
       "      <td>365243.0</td>\n",
       "      <td>-485.0</td>\n",
       "      <td>565.0</td>\n",
       "      <td>-155.0</td>\n",
       "      <td>-147.0</td>\n",
       "      <td>1.0</td>\n",
       "    </tr>\n",
       "    <tr>\n",
       "      <th>588441</th>\n",
       "      <td>2068863</td>\n",
       "      <td>108129</td>\n",
       "      <td>4830.930</td>\n",
       "      <td>47250.0</td>\n",
       "      <td>23688.0</td>\n",
       "      <td>24750.0</td>\n",
       "      <td>47250.0</td>\n",
       "      <td>THURSDAY</td>\n",
       "      <td>11</td>\n",
       "      <td>Y</td>\n",
       "      <td>...</td>\n",
       "      <td>110</td>\n",
       "      <td>Consumer electronics</td>\n",
       "      <td>6.0</td>\n",
       "      <td>high</td>\n",
       "      <td>365243.0</td>\n",
       "      <td>-588.0</td>\n",
       "      <td>-438.0</td>\n",
       "      <td>-588.0</td>\n",
       "      <td>-580.0</td>\n",
       "      <td>0.0</td>\n",
       "    </tr>\n",
       "    <tr>\n",
       "      <th>617224</th>\n",
       "      <td>2551979</td>\n",
       "      <td>108129</td>\n",
       "      <td>6664.275</td>\n",
       "      <td>71352.0</td>\n",
       "      <td>71352.0</td>\n",
       "      <td>0.0</td>\n",
       "      <td>71352.0</td>\n",
       "      <td>WEDNESDAY</td>\n",
       "      <td>9</td>\n",
       "      <td>Y</td>\n",
       "      <td>...</td>\n",
       "      <td>108</td>\n",
       "      <td>Furniture</td>\n",
       "      <td>12.0</td>\n",
       "      <td>low_normal</td>\n",
       "      <td>365243.0</td>\n",
       "      <td>-1176.0</td>\n",
       "      <td>-846.0</td>\n",
       "      <td>-846.0</td>\n",
       "      <td>-840.0</td>\n",
       "      <td>0.0</td>\n",
       "    </tr>\n",
       "    <tr>\n",
       "      <th>692217</th>\n",
       "      <td>2517198</td>\n",
       "      <td>108129</td>\n",
       "      <td>11250.000</td>\n",
       "      <td>0.0</td>\n",
       "      <td>225000.0</td>\n",
       "      <td>NaN</td>\n",
       "      <td>NaN</td>\n",
       "      <td>TUESDAY</td>\n",
       "      <td>13</td>\n",
       "      <td>Y</td>\n",
       "      <td>...</td>\n",
       "      <td>-1</td>\n",
       "      <td>XNA</td>\n",
       "      <td>0.0</td>\n",
       "      <td>XNA</td>\n",
       "      <td>-713.0</td>\n",
       "      <td>-673.0</td>\n",
       "      <td>365243.0</td>\n",
       "      <td>-461.0</td>\n",
       "      <td>-61.0</td>\n",
       "      <td>0.0</td>\n",
       "    </tr>\n",
       "    <tr>\n",
       "      <th>1380202</th>\n",
       "      <td>1760610</td>\n",
       "      <td>108129</td>\n",
       "      <td>8593.965</td>\n",
       "      <td>33052.5</td>\n",
       "      <td>33052.5</td>\n",
       "      <td>0.0</td>\n",
       "      <td>33052.5</td>\n",
       "      <td>SUNDAY</td>\n",
       "      <td>10</td>\n",
       "      <td>Y</td>\n",
       "      <td>...</td>\n",
       "      <td>108</td>\n",
       "      <td>Furniture</td>\n",
       "      <td>4.0</td>\n",
       "      <td>low_action</td>\n",
       "      <td>365243.0</td>\n",
       "      <td>-783.0</td>\n",
       "      <td>-693.0</td>\n",
       "      <td>-753.0</td>\n",
       "      <td>-748.0</td>\n",
       "      <td>0.0</td>\n",
       "    </tr>\n",
       "  </tbody>\n",
       "</table>\n",
       "<p>6 rows × 34 columns</p>\n",
       "</div>"
      ],
      "text/plain": [
       "         application_id_previous  application_id_current  amt_annuity  \\\n",
       "1                        2802425                  108129    25188.615   \n",
       "335841                   1536272                  108129    21709.125   \n",
       "588441                   2068863                  108129     4830.930   \n",
       "617224                   2551979                  108129     6664.275   \n",
       "692217                   2517198                  108129    11250.000   \n",
       "1380202                  1760610                  108129     8593.965   \n",
       "\n",
       "         amt_application  amt_credit  amt_down_payment  amt_goods_price  \\\n",
       "1               607500.0    679671.0               NaN         607500.0   \n",
       "335841          450000.0    512370.0               NaN         450000.0   \n",
       "588441           47250.0     23688.0           24750.0          47250.0   \n",
       "617224           71352.0     71352.0               0.0          71352.0   \n",
       "692217               0.0    225000.0               NaN              NaN   \n",
       "1380202          33052.5     33052.5               0.0          33052.5   \n",
       "\n",
       "        weekday_appr_process_start  hour_appr_process_start  \\\n",
       "1                         THURSDAY                       11   \n",
       "335841                   WEDNESDAY                        9   \n",
       "588441                    THURSDAY                       11   \n",
       "617224                   WEDNESDAY                        9   \n",
       "692217                     TUESDAY                       13   \n",
       "1380202                     SUNDAY                       10   \n",
       "\n",
       "        flag_last_appl_per_contract  ...  sellerplace_area  \\\n",
       "1                                 Y  ...                -1   \n",
       "335841                            Y  ...                 6   \n",
       "588441                            Y  ...               110   \n",
       "617224                            Y  ...               108   \n",
       "692217                            Y  ...                -1   \n",
       "1380202                           Y  ...               108   \n",
       "\n",
       "         name_seller_industry  cnt_payment  name_yield_group  \\\n",
       "1                         XNA         36.0        low_action   \n",
       "335841                    XNA         36.0        low_normal   \n",
       "588441   Consumer electronics          6.0              high   \n",
       "617224              Furniture         12.0        low_normal   \n",
       "692217                    XNA          0.0               XNA   \n",
       "1380202             Furniture          4.0        low_action   \n",
       "\n",
       "        days_first_drawing days_first_due  days_last_due_1st_version  \\\n",
       "1                 365243.0         -134.0                      916.0   \n",
       "335841            365243.0         -485.0                      565.0   \n",
       "588441            365243.0         -588.0                     -438.0   \n",
       "617224            365243.0        -1176.0                     -846.0   \n",
       "692217              -713.0         -673.0                   365243.0   \n",
       "1380202           365243.0         -783.0                     -693.0   \n",
       "\n",
       "        days_last_due days_termination nflag_insured_on_approval  \n",
       "1            365243.0         365243.0                       1.0  \n",
       "335841         -155.0           -147.0                       1.0  \n",
       "588441         -588.0           -580.0                       0.0  \n",
       "617224         -846.0           -840.0                       0.0  \n",
       "692217         -461.0            -61.0                       0.0  \n",
       "1380202        -753.0           -748.0                       0.0  \n",
       "\n",
       "[6 rows x 34 columns]"
      ]
     },
     "execution_count": 61,
     "metadata": {},
     "output_type": "execute_result"
    }
   ],
   "source": [
    "app_prev[app_prev.application_id_current == 108129]"
   ]
  },
  {
   "cell_type": "markdown",
   "id": "712ecb35",
   "metadata": {},
   "source": [
    "### make id set"
   ]
  },
  {
   "cell_type": "code",
   "execution_count": 6,
   "id": "8fd1acdc",
   "metadata": {},
   "outputs": [],
   "source": [
    "app_id_set = set(app.application_id_current)\n",
    "\n",
    "credit_app_id_set = set(credits.application_id_current)\n",
    "credit_defi_id_set = set(credits.defi_id)\n",
    "\n",
    "credit_balance_defi_id_set = set(credit_balance.defi_id)\n",
    "\n",
    "balance_app_id_set = set(balance.application_id_current)\n",
    "balance_app_prev_id_set = set(balance.application_id_previous)\n",
    "\n",
    "payments_app_id_set = set(payments.application_id_current)\n",
    "payments_app_prev_id_set = set(payments.application_id_previous)\n",
    "\n",
    "app_prev_app_id_set = set(app_prev.application_id_current)\n",
    "app_prev_app_prev_id_set = set(app_prev.application_id_previous)"
   ]
  },
  {
   "cell_type": "markdown",
   "id": "b5e5ae1c",
   "metadata": {},
   "source": [
    "**Understanding app id and prev app id**"
   ]
  },
  {
   "cell_type": "code",
   "execution_count": 48,
   "id": "28258863",
   "metadata": {},
   "outputs": [],
   "source": [
    "app_id_count = len(app_id_set)\n",
    "app_prev_id_count = len(app_prev_app_prev_id_set)\n",
    "\n",
    "app_prev_inter_count = len(app_prev_app_id_set & app_id_set)"
   ]
  },
  {
   "cell_type": "code",
   "execution_count": 50,
   "id": "19e7aa8f",
   "metadata": {},
   "outputs": [
    {
     "name": "stdout",
     "output_type": "stream",
     "text": [
      "app id count: 356,255\n",
      "app prev id count: 1,670,214\n",
      "app and app prev inter count: 338,857(95.12%)\n"
     ]
    }
   ],
   "source": [
    "## app prev에 다시 app이 들어가기도 한다\n",
    "print(f\"app id count: {app_id_count:,}\")\n",
    "print(f\"app prev id count: {app_prev_id_count:,}\")\n",
    "print(f\"app and app prev inter count: {app_prev_inter_count:,}({app_prev_inter_count/app_id_count*100:.2f}%)\")"
   ]
  },
  {
   "cell_type": "markdown",
   "id": "902baab8",
   "metadata": {},
   "source": [
    "### Intersection ratio"
   ]
  },
  {
   "cell_type": "markdown",
   "id": "9234603f",
   "metadata": {},
   "source": [
    "**app id**"
   ]
  },
  {
   "cell_type": "code",
   "execution_count": 57,
   "id": "c8bc831d",
   "metadata": {},
   "outputs": [
    {
     "name": "stdout",
     "output_type": "stream",
     "text": [
      "credits 교집합: 305,811(85.84%)\n",
      "balance 교집합: 103,558(29.07%)\n",
      "payments 교집합: 339,587(95.32%)\n",
      "app_prev 교집합: 338,857(95.12%)\n"
     ]
    }
   ],
   "source": [
    "credit_inter_count = len(app_id_set & credit_app_id_set)\n",
    "if len(credit_app_id_set - app_id_set) > 0:\n",
    "    print(\"credit에 추가적인 app id 존재\")\n",
    "\n",
    "print(f\"credits 교집합: {credit_inter_count:,}({credit_inter_count/app_id_count*100:.2f}%)\")\n",
    "\n",
    "balance_inter_count = len(app_id_set & balance_app_id_set)\n",
    "if len(balance_app_id_set - app_id_set) > 0:\n",
    "    print(\"balance에 추가적인 app id 존재\")\n",
    "\n",
    "print(f\"balance 교집합: {balance_inter_count:,}({balance_inter_count/app_id_count*100:.2f}%)\")\n",
    "\n",
    "payments_inter_count = len(app_id_set & payments_app_id_set)\n",
    "if len(payments_app_id_set - app_id_set) > 0:\n",
    "    print(\"payments에 추가적인 app id 존재\")\n",
    "\n",
    "print(f\"payments 교집합: {payments_inter_count:,}({payments_inter_count/app_id_count*100:.2f}%)\")\n",
    "\n",
    "app_prev_inter_count = len(app_id_set & app_prev_app_id_set)\n",
    "if len(app_prev_app_id_set - app_id_set) > 0:\n",
    "    print(\"app_prev에 추가적인 app id 존재\")\n",
    "\n",
    "print(f\"app_prev 교집합: {app_prev_inter_count:,}({app_prev_inter_count/app_id_count*100:.2f}%)\")"
   ]
  },
  {
   "cell_type": "markdown",
   "id": "a34d9b9b",
   "metadata": {},
   "source": [
    "**app id and prev**"
   ]
  },
  {
   "cell_type": "code",
   "execution_count": 56,
   "id": "28da256f",
   "metadata": {},
   "outputs": [
    {
     "name": "stdout",
     "output_type": "stream",
     "text": [
      "balance prev 교집합: 0(0.00%)\n",
      "payments prev 교집합: 0(0.00%)\n"
     ]
    }
   ],
   "source": [
    "## balance나 payments에 있는 prev에 현재 app이 들어가지는 않는다\n",
    "balance_prev_inter_count = len(app_id_set & balance_app_prev_id_set)\n",
    "print(f\"balance prev 교집합: {balance_prev_inter_count:,}({balance_prev_inter_count/app_id_count*100:.2f}%)\")\n",
    "\n",
    "payments_prev_inter_count = len(app_id_set & payments_app_prev_id_set)\n",
    "print(f\"payments prev 교집합: {payments_prev_inter_count:,}({payments_prev_inter_count/app_id_count*100:.2f}%)\")"
   ]
  },
  {
   "cell_type": "markdown",
   "id": "26692b1d",
   "metadata": {},
   "source": [
    "**prev id**"
   ]
  },
  {
   "cell_type": "code",
   "execution_count": 59,
   "id": "49d1f6bb",
   "metadata": {},
   "outputs": [
    {
     "data": {
      "text/plain": [
       "11372"
      ]
     },
     "execution_count": 59,
     "metadata": {},
     "output_type": "execute_result"
    }
   ],
   "source": [
    "len(balance_app_prev_id_set - app_prev_app_prev_id_set)"
   ]
  },
  {
   "cell_type": "code",
   "execution_count": 71,
   "id": "aede2acf",
   "metadata": {},
   "outputs": [
    {
     "name": "stdout",
     "output_type": "stream",
     "text": [
      "balance 추가적인 app prev id 존재: 11,372\n",
      "balance prev id 교집합: 92,935(5.56%)\n"
     ]
    }
   ],
   "source": [
    "balance_inter_count = len(app_prev_app_prev_id_set & balance_app_prev_id_set)\n",
    "balance_extra_prev_id_count = len(balance_app_prev_id_set - app_prev_app_prev_id_set)\n",
    "if balance_extra_prev_id_count > 0:\n",
    "    print(f\"balance 추가적인 app prev id 존재: {balance_extra_prev_id_count:,}\")\n",
    "\n",
    "print(f\"balance prev id 교집합: {balance_inter_count:,}({balance_inter_count/app_prev_id_count*100:.2f}%)\")"
   ]
  },
  {
   "cell_type": "code",
   "execution_count": 72,
   "id": "fb6846dc",
   "metadata": {},
   "outputs": [
    {
     "name": "stdout",
     "output_type": "stream",
     "text": [
      "payments 추가적인 app prev id 존재: 38,847\n",
      "payments prev id 교집합: 958,905(57.41%)\n"
     ]
    }
   ],
   "source": [
    "payments_inter_count = len(app_prev_app_prev_id_set & payments_app_prev_id_set)\n",
    "payments_extra_prev_id_count = len(payments_app_prev_id_set - app_prev_app_prev_id_set)\n",
    "if payments_extra_prev_id_count > 0:\n",
    "    print(f\"payments 추가적인 app prev id 존재: {payments_extra_prev_id_count:,}\")\n",
    "\n",
    "print(f\"payments prev id 교집합: {payments_inter_count:,}({payments_inter_count/app_prev_id_count*100:.2f}%)\")"
   ]
  },
  {
   "cell_type": "markdown",
   "id": "b3599c9e",
   "metadata": {},
   "source": [
    "**Defi**"
   ]
  },
  {
   "cell_type": "code",
   "execution_count": 77,
   "id": "252a91e7",
   "metadata": {},
   "outputs": [
    {
     "name": "stdout",
     "output_type": "stream",
     "text": [
      "credit의 defi id 수: 1,716,428\n",
      "defi balance 교집합: 774,354(45.11%)\n"
     ]
    }
   ],
   "source": [
    "## 둘 사이의 아귀가 맞지는 않는다\n",
    "defi_id_count = len(credit_defi_id_set)\n",
    "defi_inter_count = len(credit_balance_defi_id_set & credit_defi_id_set)\n",
    "print(f\"credit의 defi id 수: {defi_id_count:,}\")\n",
    "print(f\"defi balance 교집합: {defi_inter_count:,}({defi_inter_count/defi_id_count*100:.2f}%)\")"
   ]
  },
  {
   "cell_type": "code",
   "execution_count": 76,
   "id": "5dbe7b12",
   "metadata": {},
   "outputs": [
    {
     "name": "stdout",
     "output_type": "stream",
     "text": [
      "credit에만 있는 defi id 수: 942,074\n",
      "credit_balance에만 있는 defi id 수: 43,041\n"
     ]
    }
   ],
   "source": [
    "credit_extra_count = len(credit_defi_id_set - credit_balance_defi_id_set)\n",
    "balance_extra_count = len(credit_balance_defi_id_set - credit_defi_id_set)\n",
    "\n",
    "print(f\"credit에만 있는 defi id 수: {credit_extra_count:,}\")\n",
    "print(f\"credit_balance에만 있는 defi id 수: {balance_extra_count:,}\")"
   ]
  }
 ],
 "metadata": {
  "kernelspec": {
   "display_name": "Python 3",
   "language": "python",
   "name": "python3"
  },
  "language_info": {
   "codemirror_mode": {
    "name": "ipython",
    "version": 3
   },
   "file_extension": ".py",
   "mimetype": "text/x-python",
   "name": "python",
   "nbconvert_exporter": "python",
   "pygments_lexer": "ipython3",
   "version": "3.8.8"
  }
 },
 "nbformat": 4,
 "nbformat_minor": 5
}
