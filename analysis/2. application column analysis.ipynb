{
 "cells": [
  {
   "cell_type": "markdown",
   "id": "e58647fc",
   "metadata": {},
   "source": [
    "- 대출요청에 대해, 익명화되었지만 전처리 방향을 구상해봄\n",
    "- tree기반의 모형을 쓸 것이라 scaling은 고민하지 않음\n",
    "- 범주형이 모두 숫자로 인코딩 된 것으로 보임 -> 범주형을 감지해서 원핫을 시도\n",
    "- 변수 선택의 방법으로 Kolmogorov를 생각해봄"
   ]
  },
  {
   "cell_type": "code",
   "execution_count": 1,
   "id": "47a5647b",
   "metadata": {},
   "outputs": [],
   "source": [
    "from glob import glob\n",
    "\n",
    "import pandas as pd\n",
    "import numpy as np\n",
    "import matplotlib.pyplot as plt"
   ]
  },
  {
   "cell_type": "code",
   "execution_count": 2,
   "id": "b934468b",
   "metadata": {},
   "outputs": [],
   "source": [
    "data_path = \"../take-home-interview/\""
   ]
  },
  {
   "cell_type": "code",
   "execution_count": 3,
   "id": "9ade95bf",
   "metadata": {},
   "outputs": [],
   "source": [
    "app = pd.read_csv(data_path + \"loan_application.csv\")"
   ]
  },
  {
   "cell_type": "code",
   "execution_count": 4,
   "id": "296baa94",
   "metadata": {},
   "outputs": [],
   "source": [
    "df = app[app.target.notna()]\n",
    "df_test = app[app.target.isna()].drop('target', axis=1)\n",
    "\n",
    "# del app"
   ]
  },
  {
   "cell_type": "markdown",
   "id": "b0f57bdd",
   "metadata": {},
   "source": [
    "### 범주형 자료"
   ]
  },
  {
   "cell_type": "code",
   "execution_count": 5,
   "id": "ece96a77",
   "metadata": {},
   "outputs": [],
   "source": [
    "feature_cols = [col for col in df.columns if col.startswith(\"col\")]"
   ]
  },
  {
   "cell_type": "code",
   "execution_count": 6,
   "id": "9abcd074",
   "metadata": {},
   "outputs": [
    {
     "name": "stdout",
     "output_type": "stream",
     "text": [
      "현재 피쳐 수: 120\n"
     ]
    }
   ],
   "source": [
    "print(f\"현재 피쳐 수: {len(feature_cols)}\")"
   ]
  },
  {
   "cell_type": "code",
   "execution_count": 7,
   "id": "81328fb1",
   "metadata": {},
   "outputs": [],
   "source": [
    "## 테스트에서 범주가 1가지밖에 없는 케이스는 다 제거\n",
    "unique_value_count_test = pd.Series({col:df_test[col].nunique() for col in feature_cols}).sort_values()\n",
    "\n",
    "unique_columns = unique_value_count_test[unique_value_count_test == 1].index\n",
    "\n",
    "feature_cols = [col for col in feature_cols if col not in set(unique_columns)]\n",
    "\n",
    "df = df.drop(unique_columns, axis=1)\n",
    "df_test = df_test.drop(unique_columns, axis=1)"
   ]
  },
  {
   "cell_type": "code",
   "execution_count": 8,
   "id": "a88fc5fd",
   "metadata": {},
   "outputs": [],
   "source": [
    "## 유니크한 값의 수가 적은 케이스는 범주로 보임 -> 원핫 인코딩이 필요한지에 대해 고민\n",
    "unique_value_count_test = pd.Series({col:df_test[col].nunique() for col in feature_cols}).sort_values()"
   ]
  },
  {
   "cell_type": "code",
   "execution_count": 9,
   "id": "7c4b9887",
   "metadata": {},
   "outputs": [
    {
     "name": "stdout",
     "output_type": "stream",
     "text": [
      "현재 피쳐 수: 109\n"
     ]
    }
   ],
   "source": [
    "print(f\"현재 피쳐 수: {len(feature_cols)}\")"
   ]
  },
  {
   "cell_type": "code",
   "execution_count": 10,
   "id": "84a92491",
   "metadata": {},
   "outputs": [
    {
     "data": {
      "text/plain": [
       "<AxesSubplot:>"
      ]
     },
     "execution_count": 10,
     "metadata": {},
     "output_type": "execute_result"
    },
    {
     "data": {
      "image/png": "[encoded data removed]",
      "text/plain": [
       "<Figure size 432x288 with 1 Axes>"
      ]
     },
     "metadata": {
      "needs_background": "light"
     },
     "output_type": "display_data"
    }
   ],
   "source": [
    "unique_value_count_test[unique_value_count_test < 500].hist(bins=20)"
   ]
  },
  {
   "cell_type": "code",
   "execution_count": 11,
   "id": "e044eff5",
   "metadata": {},
   "outputs": [
    {
     "data": {
      "text/plain": [
       "<AxesSubplot:>"
      ]
     },
     "execution_count": 11,
     "metadata": {},
     "output_type": "execute_result"
    },
    {
     "data": {
      "image/png": "[encoded data removed]",
      "text/plain": [
       "<Figure size 1080x432 with 1 Axes>"
      ]
     },
     "metadata": {
      "needs_background": "light"
     },
     "output_type": "display_data"
    }
   ],
   "source": [
    "plt.figure(figsize=(15,6))\n",
    "unique_value_count_test.value_counts().sort_index().head(20).plot.bar()"
   ]
  },
  {
   "cell_type": "markdown",
   "id": "a0053e4b",
   "metadata": {},
   "source": [
    "**범주형 자료는 원핫을 해야할까**"
   ]
  },
  {
   "cell_type": "code",
   "execution_count": 12,
   "id": "a8ccb29e",
   "metadata": {},
   "outputs": [
    {
     "name": "stderr",
     "output_type": "stream",
     "text": [
      "/Users/dane.ahn/anaconda3/lib/python3.8/site-packages/scipy/stats/stats.py:4594: RuntimeWarning: overflow encountered in long_scalars\n",
      "  (2 * xtie * ytie) / m + x0 * y0 / (9 * m * (size - 2)))\n",
      "/Users/dane.ahn/anaconda3/lib/python3.8/site-packages/scipy/stats/stats.py:4594: RuntimeWarning: overflow encountered in long_scalars\n",
      "  (2 * xtie * ytie) / m + x0 * y0 / (9 * m * (size - 2)))\n"
     ]
    },
    {
     "data": {
      "image/png": "[encoded data removed]",
      "text/plain": [
       "<Figure size 432x288 with 1 Axes>"
      ]
     },
     "metadata": {
      "needs_background": "light"
     },
     "output_type": "display_data"
    }
   ],
   "source": [
    "## 이거로는 파악이 잘 안되는 것 같다\n",
    "res = []\n",
    "for col in unique_value_count_test[(unique_value_count_test>2)&(unique_value_count_test<50)].index:\n",
    "#     print(f\"{col}: {df[[col, 'target']].corr().target.values[0]:.4f}\")\n",
    "    res.append([col, df[[col, 'target']].corr(method='kendall').target.values[0]])\n",
    "\n",
    "pd.DataFrame(res, columns=['col', 'corr'])['corr'].hist(density=True, alpha=0.5)\n",
    "\n",
    "res = []\n",
    "for col in unique_value_count_test[(unique_value_count_test>50)&(unique_value_count_test<np.inf)].index:\n",
    "#     print(f\"{col}: {df[[col, 'target']].corr().target.values[0]:.4f}\")\n",
    "    res.append([col, df[[col, 'target']].corr(method='kendall').target.values[0]])\n",
    "\n",
    "pd.DataFrame(res, columns=['col', 'corr'])['corr'].hist(density=True, alpha=0.5)\n",
    "\n",
    "plt.show()"
   ]
  },
  {
   "cell_type": "code",
   "execution_count": 106,
   "id": "cfcb17d2",
   "metadata": {},
   "outputs": [
    {
     "ename": "KeyError",
     "evalue": "\"['col_100'] not in index\"",
     "output_type": "error",
     "traceback": [
      "\u001b[0;31m---------------------------------------------------------------------------\u001b[0m",
      "\u001b[0;31mKeyError\u001b[0m                                  Traceback (most recent call last)",
      "\u001b[0;32m<ipython-input-106-447535105ef4>\u001b[0m in \u001b[0;36m<module>\u001b[0;34m\u001b[0m\n\u001b[1;32m      2\u001b[0m \u001b[0mres\u001b[0m \u001b[0;34m=\u001b[0m \u001b[0;34m[\u001b[0m\u001b[0;34m]\u001b[0m\u001b[0;34m\u001b[0m\u001b[0;34m\u001b[0m\u001b[0m\n\u001b[1;32m      3\u001b[0m \u001b[0;32mfor\u001b[0m \u001b[0mcol\u001b[0m \u001b[0;32min\u001b[0m \u001b[0munique_value_count_test\u001b[0m\u001b[0;34m[\u001b[0m\u001b[0munique_value_count_test\u001b[0m\u001b[0;34m>\u001b[0m\u001b[0;36m2\u001b[0m\u001b[0;34m]\u001b[0m\u001b[0;34m.\u001b[0m\u001b[0mindex\u001b[0m\u001b[0;34m:\u001b[0m\u001b[0;34m\u001b[0m\u001b[0;34m\u001b[0m\u001b[0m\n\u001b[0;32m----> 4\u001b[0;31m     \u001b[0mres\u001b[0m\u001b[0;34m.\u001b[0m\u001b[0mappend\u001b[0m\u001b[0;34m(\u001b[0m\u001b[0;34m[\u001b[0m\u001b[0mcol\u001b[0m\u001b[0;34m,\u001b[0m \u001b[0mdf\u001b[0m\u001b[0;34m[\u001b[0m\u001b[0;34m[\u001b[0m\u001b[0mcol\u001b[0m\u001b[0;34m,\u001b[0m \u001b[0;34m'target'\u001b[0m\u001b[0;34m]\u001b[0m\u001b[0;34m]\u001b[0m\u001b[0;34m.\u001b[0m\u001b[0mcorr\u001b[0m\u001b[0;34m(\u001b[0m\u001b[0mmethod\u001b[0m\u001b[0;34m=\u001b[0m\u001b[0;34m'kendall'\u001b[0m\u001b[0;34m)\u001b[0m\u001b[0;34m.\u001b[0m\u001b[0mtarget\u001b[0m\u001b[0;34m.\u001b[0m\u001b[0mvalues\u001b[0m\u001b[0;34m[\u001b[0m\u001b[0;36m0\u001b[0m\u001b[0;34m]\u001b[0m\u001b[0;34m,\u001b[0m \u001b[0mdf\u001b[0m\u001b[0;34m[\u001b[0m\u001b[0mcol\u001b[0m\u001b[0;34m]\u001b[0m\u001b[0;34m.\u001b[0m\u001b[0mnunique\u001b[0m\u001b[0;34m(\u001b[0m\u001b[0;34m)\u001b[0m\u001b[0;34m]\u001b[0m\u001b[0;34m)\u001b[0m\u001b[0;34m\u001b[0m\u001b[0;34m\u001b[0m\u001b[0m\n\u001b[0m\u001b[1;32m      5\u001b[0m \u001b[0;34m\u001b[0m\u001b[0m\n\u001b[1;32m      6\u001b[0m \u001b[0mcor_df\u001b[0m \u001b[0;34m=\u001b[0m \u001b[0mpd\u001b[0m\u001b[0;34m.\u001b[0m\u001b[0mDataFrame\u001b[0m\u001b[0;34m(\u001b[0m\u001b[0mres\u001b[0m\u001b[0;34m,\u001b[0m \u001b[0mcolumns\u001b[0m\u001b[0;34m=\u001b[0m\u001b[0;34m[\u001b[0m\u001b[0;34m'col'\u001b[0m\u001b[0;34m,\u001b[0m \u001b[0;34m'corr'\u001b[0m\u001b[0;34m,\u001b[0m \u001b[0;34m'nunique'\u001b[0m\u001b[0;34m]\u001b[0m\u001b[0;34m)\u001b[0m\u001b[0;34m\u001b[0m\u001b[0;34m\u001b[0m\u001b[0m\n",
      "\u001b[0;32m~/anaconda3/lib/python3.8/site-packages/pandas/core/frame.py\u001b[0m in \u001b[0;36m__getitem__\u001b[0;34m(self, key)\u001b[0m\n\u001b[1;32m   3028\u001b[0m             \u001b[0;32mif\u001b[0m \u001b[0mis_iterator\u001b[0m\u001b[0;34m(\u001b[0m\u001b[0mkey\u001b[0m\u001b[0;34m)\u001b[0m\u001b[0;34m:\u001b[0m\u001b[0;34m\u001b[0m\u001b[0;34m\u001b[0m\u001b[0m\n\u001b[1;32m   3029\u001b[0m                 \u001b[0mkey\u001b[0m \u001b[0;34m=\u001b[0m \u001b[0mlist\u001b[0m\u001b[0;34m(\u001b[0m\u001b[0mkey\u001b[0m\u001b[0;34m)\u001b[0m\u001b[0;34m\u001b[0m\u001b[0;34m\u001b[0m\u001b[0m\n\u001b[0;32m-> 3030\u001b[0;31m             \u001b[0mindexer\u001b[0m \u001b[0;34m=\u001b[0m \u001b[0mself\u001b[0m\u001b[0;34m.\u001b[0m\u001b[0mloc\u001b[0m\u001b[0;34m.\u001b[0m\u001b[0m_get_listlike_indexer\u001b[0m\u001b[0;34m(\u001b[0m\u001b[0mkey\u001b[0m\u001b[0;34m,\u001b[0m \u001b[0maxis\u001b[0m\u001b[0;34m=\u001b[0m\u001b[0;36m1\u001b[0m\u001b[0;34m,\u001b[0m \u001b[0mraise_missing\u001b[0m\u001b[0;34m=\u001b[0m\u001b[0;32mTrue\u001b[0m\u001b[0;34m)\u001b[0m\u001b[0;34m[\u001b[0m\u001b[0;36m1\u001b[0m\u001b[0;34m]\u001b[0m\u001b[0;34m\u001b[0m\u001b[0;34m\u001b[0m\u001b[0m\n\u001b[0m\u001b[1;32m   3031\u001b[0m \u001b[0;34m\u001b[0m\u001b[0m\n\u001b[1;32m   3032\u001b[0m         \u001b[0;31m# take() does not accept boolean indexers\u001b[0m\u001b[0;34m\u001b[0m\u001b[0;34m\u001b[0m\u001b[0;34m\u001b[0m\u001b[0m\n",
      "\u001b[0;32m~/anaconda3/lib/python3.8/site-packages/pandas/core/indexing.py\u001b[0m in \u001b[0;36m_get_listlike_indexer\u001b[0;34m(self, key, axis, raise_missing)\u001b[0m\n\u001b[1;32m   1264\u001b[0m             \u001b[0mkeyarr\u001b[0m\u001b[0;34m,\u001b[0m \u001b[0mindexer\u001b[0m\u001b[0;34m,\u001b[0m \u001b[0mnew_indexer\u001b[0m \u001b[0;34m=\u001b[0m \u001b[0max\u001b[0m\u001b[0;34m.\u001b[0m\u001b[0m_reindex_non_unique\u001b[0m\u001b[0;34m(\u001b[0m\u001b[0mkeyarr\u001b[0m\u001b[0;34m)\u001b[0m\u001b[0;34m\u001b[0m\u001b[0;34m\u001b[0m\u001b[0m\n\u001b[1;32m   1265\u001b[0m \u001b[0;34m\u001b[0m\u001b[0m\n\u001b[0;32m-> 1266\u001b[0;31m         \u001b[0mself\u001b[0m\u001b[0;34m.\u001b[0m\u001b[0m_validate_read_indexer\u001b[0m\u001b[0;34m(\u001b[0m\u001b[0mkeyarr\u001b[0m\u001b[0;34m,\u001b[0m \u001b[0mindexer\u001b[0m\u001b[0;34m,\u001b[0m \u001b[0maxis\u001b[0m\u001b[0;34m,\u001b[0m \u001b[0mraise_missing\u001b[0m\u001b[0;34m=\u001b[0m\u001b[0mraise_missing\u001b[0m\u001b[0;34m)\u001b[0m\u001b[0;34m\u001b[0m\u001b[0;34m\u001b[0m\u001b[0m\n\u001b[0m\u001b[1;32m   1267\u001b[0m         \u001b[0;32mreturn\u001b[0m \u001b[0mkeyarr\u001b[0m\u001b[0;34m,\u001b[0m \u001b[0mindexer\u001b[0m\u001b[0;34m\u001b[0m\u001b[0;34m\u001b[0m\u001b[0m\n\u001b[1;32m   1268\u001b[0m \u001b[0;34m\u001b[0m\u001b[0m\n",
      "\u001b[0;32m~/anaconda3/lib/python3.8/site-packages/pandas/core/indexing.py\u001b[0m in \u001b[0;36m_validate_read_indexer\u001b[0;34m(self, key, indexer, axis, raise_missing)\u001b[0m\n\u001b[1;32m   1314\u001b[0m             \u001b[0;32mif\u001b[0m \u001b[0mraise_missing\u001b[0m\u001b[0;34m:\u001b[0m\u001b[0;34m\u001b[0m\u001b[0;34m\u001b[0m\u001b[0m\n\u001b[1;32m   1315\u001b[0m                 \u001b[0mnot_found\u001b[0m \u001b[0;34m=\u001b[0m \u001b[0mlist\u001b[0m\u001b[0;34m(\u001b[0m\u001b[0mset\u001b[0m\u001b[0;34m(\u001b[0m\u001b[0mkey\u001b[0m\u001b[0;34m)\u001b[0m \u001b[0;34m-\u001b[0m \u001b[0mset\u001b[0m\u001b[0;34m(\u001b[0m\u001b[0max\u001b[0m\u001b[0;34m)\u001b[0m\u001b[0;34m)\u001b[0m\u001b[0;34m\u001b[0m\u001b[0;34m\u001b[0m\u001b[0m\n\u001b[0;32m-> 1316\u001b[0;31m                 \u001b[0;32mraise\u001b[0m \u001b[0mKeyError\u001b[0m\u001b[0;34m(\u001b[0m\u001b[0;34mf\"{not_found} not in index\"\u001b[0m\u001b[0;34m)\u001b[0m\u001b[0;34m\u001b[0m\u001b[0;34m\u001b[0m\u001b[0m\n\u001b[0m\u001b[1;32m   1317\u001b[0m \u001b[0;34m\u001b[0m\u001b[0m\n\u001b[1;32m   1318\u001b[0m             \u001b[0mnot_found\u001b[0m \u001b[0;34m=\u001b[0m \u001b[0mkey\u001b[0m\u001b[0;34m[\u001b[0m\u001b[0mmissing_mask\u001b[0m\u001b[0;34m]\u001b[0m\u001b[0;34m\u001b[0m\u001b[0;34m\u001b[0m\u001b[0m\n",
      "\u001b[0;31mKeyError\u001b[0m: \"['col_100'] not in index\""
     ]
    }
   ],
   "source": [
    "## 켄달\n",
    "res = []\n",
    "for col in unique_value_count_test[unique_value_count_test>2].index:\n",
    "    res.append([col, df[[col, 'target']].corr(method='kendall').target.values[0], df[col].nunique()])\n",
    "\n",
    "cor_df = pd.DataFrame(res, columns=['col', 'corr', 'nunique'])\n",
    "\n",
    "plt.scatter(cor_df['corr'], cor_df['nunique'])\n",
    "plt.yscale('log')\n",
    "plt.show()"
   ]
  },
  {
   "cell_type": "code",
   "execution_count": 17,
   "id": "850a0909",
   "metadata": {},
   "outputs": [],
   "source": [
    "## 1, 2, 3, .., k와 같은 형식의 칼럼은 더미 같다는 아이디어\n",
    "res = []\n",
    "for col in feature_cols:\n",
    "    col_unique_values = df[col].dropna().unique().tolist()\n",
    "    \n",
    "    if (len(col_unique_values) <= 2):\n",
    "        continue\n",
    "    \n",
    "    s1 = set(col_unique_values)\n",
    "    s2 = set(range(len(s1)))\n",
    "    s3 = set(range(1, len(s1)+1))\n",
    "    \n",
    "    test_only_value_count = len(set(df_test[col].dropna().unique()) - set(df[col].dropna().unique()))\n",
    "    res.append([\n",
    "        col, len(col_unique_values), (len(s1&s2) / len(s1|s2)), (len(s1&s3) / len(s1|s3)), test_only_value_count\n",
    "    ])\n",
    "\n",
    "\n",
    "col_is_cate = pd.DataFrame(res, columns=['col', 'nunique', 'jaccard_sim1', 'jaccard_sim2', \"test_only\"])"
   ]
  },
  {
   "cell_type": "code",
   "execution_count": 19,
   "id": "8bac6be9",
   "metadata": {},
   "outputs": [
    {
     "data": {
      "text/plain": [
       "<matplotlib.collections.PathCollection at 0x7f9c30736e20>"
      ]
     },
     "execution_count": 19,
     "metadata": {},
     "output_type": "execute_result"
    },
    {
     "data": {
      "image/png": "[encoded data removed]",
      "text/plain": [
       "<Figure size 432x288 with 1 Axes>"
      ]
     },
     "metadata": {
      "needs_background": "light"
     },
     "output_type": "display_data"
    }
   ],
   "source": [
    "plt.scatter(col_is_cate['nunique'], col_is_cate['jaccard_sim1'])"
   ]
  },
  {
   "cell_type": "code",
   "execution_count": 20,
   "id": "40204020",
   "metadata": {},
   "outputs": [
    {
     "data": {
      "text/plain": [
       "<matplotlib.collections.PathCollection at 0x7f9c824d2d00>"
      ]
     },
     "execution_count": 20,
     "metadata": {},
     "output_type": "execute_result"
    },
    {
     "data": {
      "image/png": "[encoded data removed]",
      "text/plain": [
       "<Figure size 432x288 with 1 Axes>"
      ]
     },
     "metadata": {
      "needs_background": "light"
     },
     "output_type": "display_data"
    }
   ],
   "source": [
    "plt.scatter(col_is_cate['nunique'], col_is_cate['jaccard_sim2'])"
   ]
  },
  {
   "cell_type": "code",
   "execution_count": 21,
   "id": "7445909f",
   "metadata": {},
   "outputs": [
    {
     "data": {
      "text/html": [
       "<div>\n",
       "<style scoped>\n",
       "    .dataframe tbody tr th:only-of-type {\n",
       "        vertical-align: middle;\n",
       "    }\n",
       "\n",
       "    .dataframe tbody tr th {\n",
       "        vertical-align: top;\n",
       "    }\n",
       "\n",
       "    .dataframe thead th {\n",
       "        text-align: right;\n",
       "    }\n",
       "</style>\n",
       "<table border=\"1\" class=\"dataframe\">\n",
       "  <thead>\n",
       "    <tr style=\"text-align: right;\">\n",
       "      <th></th>\n",
       "      <th>col</th>\n",
       "      <th>nunique</th>\n",
       "      <th>jacard_sim1</th>\n",
       "      <th>jacard_sim2</th>\n",
       "      <th>test_only</th>\n",
       "    </tr>\n",
       "  </thead>\n",
       "  <tbody>\n",
       "    <tr>\n",
       "      <th>12</th>\n",
       "      <td>col_20</td>\n",
       "      <td>3</td>\n",
       "      <td>0.500000</td>\n",
       "      <td>1.000000</td>\n",
       "      <td>0</td>\n",
       "    </tr>\n",
       "    <tr>\n",
       "      <th>72</th>\n",
       "      <td>col_107</td>\n",
       "      <td>3</td>\n",
       "      <td>1.000000</td>\n",
       "      <td>0.500000</td>\n",
       "      <td>0</td>\n",
       "    </tr>\n",
       "    <tr>\n",
       "      <th>84</th>\n",
       "      <td>col_121</td>\n",
       "      <td>3</td>\n",
       "      <td>1.000000</td>\n",
       "      <td>0.500000</td>\n",
       "      <td>0</td>\n",
       "    </tr>\n",
       "    <tr>\n",
       "      <th>82</th>\n",
       "      <td>col_119</td>\n",
       "      <td>4</td>\n",
       "      <td>1.000000</td>\n",
       "      <td>0.600000</td>\n",
       "      <td>0</td>\n",
       "    </tr>\n",
       "    <tr>\n",
       "      <th>66</th>\n",
       "      <td>col_100</td>\n",
       "      <td>5</td>\n",
       "      <td>1.000000</td>\n",
       "      <td>0.666667</td>\n",
       "      <td>0</td>\n",
       "    </tr>\n",
       "    <tr>\n",
       "      <th>81</th>\n",
       "      <td>col_118</td>\n",
       "      <td>5</td>\n",
       "      <td>1.000000</td>\n",
       "      <td>0.666667</td>\n",
       "      <td>0</td>\n",
       "    </tr>\n",
       "    <tr>\n",
       "      <th>75</th>\n",
       "      <td>col_112</td>\n",
       "      <td>5</td>\n",
       "      <td>1.000000</td>\n",
       "      <td>0.666667</td>\n",
       "      <td>0</td>\n",
       "    </tr>\n",
       "    <tr>\n",
       "      <th>77</th>\n",
       "      <td>col_114</td>\n",
       "      <td>6</td>\n",
       "      <td>1.000000</td>\n",
       "      <td>0.714286</td>\n",
       "      <td>0</td>\n",
       "    </tr>\n",
       "    <tr>\n",
       "      <th>76</th>\n",
       "      <td>col_113</td>\n",
       "      <td>6</td>\n",
       "      <td>1.000000</td>\n",
       "      <td>0.714286</td>\n",
       "      <td>0</td>\n",
       "    </tr>\n",
       "    <tr>\n",
       "      <th>79</th>\n",
       "      <td>col_116</td>\n",
       "      <td>7</td>\n",
       "      <td>1.000000</td>\n",
       "      <td>0.750000</td>\n",
       "      <td>0</td>\n",
       "    </tr>\n",
       "    <tr>\n",
       "      <th>74</th>\n",
       "      <td>col_111</td>\n",
       "      <td>8</td>\n",
       "      <td>1.000000</td>\n",
       "      <td>0.777778</td>\n",
       "      <td>0</td>\n",
       "    </tr>\n",
       "    <tr>\n",
       "      <th>73</th>\n",
       "      <td>col_110</td>\n",
       "      <td>8</td>\n",
       "      <td>1.000000</td>\n",
       "      <td>0.777778</td>\n",
       "      <td>0</td>\n",
       "    </tr>\n",
       "    <tr>\n",
       "      <th>83</th>\n",
       "      <td>col_120</td>\n",
       "      <td>8</td>\n",
       "      <td>1.000000</td>\n",
       "      <td>0.777778</td>\n",
       "      <td>0</td>\n",
       "    </tr>\n",
       "    <tr>\n",
       "      <th>68</th>\n",
       "      <td>col_102</td>\n",
       "      <td>9</td>\n",
       "      <td>1.000000</td>\n",
       "      <td>0.800000</td>\n",
       "      <td>0</td>\n",
       "    </tr>\n",
       "    <tr>\n",
       "      <th>67</th>\n",
       "      <td>col_101</td>\n",
       "      <td>9</td>\n",
       "      <td>0.800000</td>\n",
       "      <td>0.800000</td>\n",
       "      <td>0</td>\n",
       "    </tr>\n",
       "    <tr>\n",
       "      <th>64</th>\n",
       "      <td>col_78</td>\n",
       "      <td>9</td>\n",
       "      <td>0.800000</td>\n",
       "      <td>0.636364</td>\n",
       "      <td>0</td>\n",
       "    </tr>\n",
       "    <tr>\n",
       "      <th>62</th>\n",
       "      <td>col_76</td>\n",
       "      <td>10</td>\n",
       "      <td>0.818182</td>\n",
       "      <td>0.666667</td>\n",
       "      <td>0</td>\n",
       "    </tr>\n",
       "    <tr>\n",
       "      <th>70</th>\n",
       "      <td>col_104</td>\n",
       "      <td>11</td>\n",
       "      <td>0.692308</td>\n",
       "      <td>0.571429</td>\n",
       "      <td>0</td>\n",
       "    </tr>\n",
       "    <tr>\n",
       "      <th>78</th>\n",
       "      <td>col_115</td>\n",
       "      <td>19</td>\n",
       "      <td>1.000000</td>\n",
       "      <td>0.900000</td>\n",
       "      <td>0</td>\n",
       "    </tr>\n",
       "    <tr>\n",
       "      <th>69</th>\n",
       "      <td>col_103</td>\n",
       "      <td>24</td>\n",
       "      <td>0.846154</td>\n",
       "      <td>0.846154</td>\n",
       "      <td>0</td>\n",
       "    </tr>\n",
       "    <tr>\n",
       "      <th>14</th>\n",
       "      <td>col_22</td>\n",
       "      <td>24</td>\n",
       "      <td>1.000000</td>\n",
       "      <td>0.920000</td>\n",
       "      <td>0</td>\n",
       "    </tr>\n",
       "    <tr>\n",
       "      <th>71</th>\n",
       "      <td>col_105</td>\n",
       "      <td>25</td>\n",
       "      <td>0.923077</td>\n",
       "      <td>0.923077</td>\n",
       "      <td>0</td>\n",
       "    </tr>\n",
       "  </tbody>\n",
       "</table>\n",
       "</div>"
      ],
      "text/plain": [
       "        col  nunique  jacard_sim1  jacard_sim2  test_only\n",
       "12   col_20        3     0.500000     1.000000          0\n",
       "72  col_107        3     1.000000     0.500000          0\n",
       "84  col_121        3     1.000000     0.500000          0\n",
       "82  col_119        4     1.000000     0.600000          0\n",
       "66  col_100        5     1.000000     0.666667          0\n",
       "81  col_118        5     1.000000     0.666667          0\n",
       "75  col_112        5     1.000000     0.666667          0\n",
       "77  col_114        6     1.000000     0.714286          0\n",
       "76  col_113        6     1.000000     0.714286          0\n",
       "79  col_116        7     1.000000     0.750000          0\n",
       "74  col_111        8     1.000000     0.777778          0\n",
       "73  col_110        8     1.000000     0.777778          0\n",
       "83  col_120        8     1.000000     0.777778          0\n",
       "68  col_102        9     1.000000     0.800000          0\n",
       "67  col_101        9     0.800000     0.800000          0\n",
       "64   col_78        9     0.800000     0.636364          0\n",
       "62   col_76       10     0.818182     0.666667          0\n",
       "70  col_104       11     0.692308     0.571429          0\n",
       "78  col_115       19     1.000000     0.900000          0\n",
       "69  col_103       24     0.846154     0.846154          0\n",
       "14   col_22       24     1.000000     0.920000          0\n",
       "71  col_105       25     0.923077     0.923077          0"
      ]
     },
     "execution_count": 21,
     "metadata": {},
     "output_type": "execute_result"
    }
   ],
   "source": [
    "col_cate = col_is_cate[(col_is_cate.jaccard_sim1 >= 0.5)|((col_is_cate.jaccard_sim2 >= 0.5))]\n",
    "col_cate = col_cate[col_cate['nunique'] <= 50]\n",
    "col_cate = col_cate[col_cate.test_only == 0]\n",
    "col_cate.sort_values('nunique')"
   ]
  },
  {
   "cell_type": "code",
   "execution_count": 22,
   "id": "3dcfd867",
   "metadata": {
    "scrolled": true
   },
   "outputs": [
    {
     "data": {
      "image/png": "[encoded data removed]",
      "text/plain": [
       "<Figure size 432x288 with 1 Axes>"
      ]
     },
     "metadata": {
      "needs_background": "light"
     },
     "output_type": "display_data"
    },
    {
     "data": {
      "image/png": "[encoded data removed]",
      "text/plain": [
       "<Figure size 432x288 with 1 Axes>"
      ]
     },
     "metadata": {
      "needs_background": "light"
     },
     "output_type": "display_data"
    },
    {
     "data": {
      "image/png": "[encoded data removed]",
      "text/plain": [
       "<Figure size 432x288 with 1 Axes>"
      ]
     },
     "metadata": {
      "needs_background": "light"
     },
     "output_type": "display_data"
    },
    {
     "data": {
      "image/png": "[encoded data removed]",
      "text/plain": [
       "<Figure size 432x288 with 1 Axes>"
      ]
     },
     "metadata": {
      "needs_background": "light"
     },
     "output_type": "display_data"
    },
    {
     "data": {
      "image/png": "[encoded data removed]",
      "text/plain": [
       "<Figure size 432x288 with 1 Axes>"
      ]
     },
     "metadata": {
      "needs_background": "light"
     },
     "output_type": "display_data"
    },
    {
     "data": {
      "image/png": "[encoded data removed]",
      "text/plain": [
       "<Figure size 432x288 with 1 Axes>"
      ]
     },
     "metadata": {
      "needs_background": "light"
     },
     "output_type": "display_data"
    },
    {
     "data": {
      "image/png": "[encoded data removed]",
      "text/plain": [
       "<Figure size 432x288 with 1 Axes>"
      ]
     },
     "metadata": {
      "needs_background": "light"
     },
     "output_type": "display_data"
    },
    {
     "data": {
      "image/png": "[encoded data removed]",
      "text/plain": [
       "<Figure size 432x288 with 1 Axes>"
      ]
     },
     "metadata": {
      "needs_background": "light"
     },
     "output_type": "display_data"
    },
    {
     "data": {
      "image/png": "[encoded data removed]",
      "text/plain": [
       "<Figure size 432x288 with 1 Axes>"
      ]
     },
     "metadata": {
      "needs_background": "light"
     },
     "output_type": "display_data"
    },
    {
     "data": {
      "image/png": "[encoded data removed]",
      "text/plain": [
       "<Figure size 432x288 with 1 Axes>"
      ]
     },
     "metadata": {
      "needs_background": "light"
     },
     "output_type": "display_data"
    },
    {
     "data": {
      "image/png": "[encoded data removed]",
      "text/plain": [
       "<Figure size 432x288 with 1 Axes>"
      ]
     },
     "metadata": {
      "needs_background": "light"
     },
     "output_type": "display_data"
    },
    {
     "data": {
      "image/png": "[encoded data removed]",
      "text/plain": [
       "<Figure size 432x288 with 1 Axes>"
      ]
     },
     "metadata": {
      "needs_background": "light"
     },
     "output_type": "display_data"
    },
    {
     "data": {
      "image/png": "[encoded data removed]",
      "text/plain": [
       "<Figure size 432x288 with 1 Axes>"
      ]
     },
     "metadata": {
      "needs_background": "light"
     },
     "output_type": "display_data"
    },
    {
     "data": {
      "image/png": "[encoded data removed]",
      "text/plain": [
       "<Figure size 432x288 with 1 Axes>"
      ]
     },
     "metadata": {
      "needs_background": "light"
     },
     "output_type": "display_data"
    },
    {
     "data": {
      "image/png": "[encoded data removed]",
      "text/plain": [
       "<Figure size 432x288 with 1 Axes>"
      ]
     },
     "metadata": {
      "needs_background": "light"
     },
     "output_type": "display_data"
    },
    {
     "data": {
      "image/png": "[encoded data removed]",
      "text/plain": [
       "<Figure size 432x288 with 1 Axes>"
      ]
     },
     "metadata": {
      "needs_background": "light"
     },
     "output_type": "display_data"
    },
    {
     "data": {
      "image/png": "[encoded data removed]",
      "text/plain": [
       "<Figure size 432x288 with 1 Axes>"
      ]
     },
     "metadata": {
      "needs_background": "light"
     },
     "output_type": "display_data"
    },
    {
     "data": {
      "image/png": "[encoded data removed]",
      "text/plain": [
       "<Figure size 432x288 with 1 Axes>"
      ]
     },
     "metadata": {
      "needs_background": "light"
     },
     "output_type": "display_data"
    },
    {
     "data": {
      "image/png": "[encoded data removed]",
      "text/plain": [
       "<Figure size 432x288 with 1 Axes>"
      ]
     },
     "metadata": {
      "needs_background": "light"
     },
     "output_type": "display_data"
    },
    {
     "data": {
      "image/png": "[encoded data removed]",
      "text/plain": [
       "<Figure size 432x288 with 1 Axes>"
      ]
     },
     "metadata": {
      "needs_background": "light"
     },
     "output_type": "display_data"
    },
    {
     "data": {
      "image/png": "[encoded data removed]",
      "text/plain": [
       "<Figure size 432x288 with 1 Axes>"
      ]
     },
     "metadata": {
      "needs_background": "light"
     },
     "output_type": "display_data"
    },
    {
     "data": {
      "image/png": "[encoded data removed]",
      "text/plain": [
       "<Figure size 432x288 with 1 Axes>"
      ]
     },
     "metadata": {
      "needs_background": "light"
     },
     "output_type": "display_data"
    }
   ],
   "source": [
    "## 일반적으로 선형적이지 않음을 확인 -> 원핫 인코딩 필요 \n",
    "for col in col_cate.col:\n",
    "    res = []\n",
    "    for col_value, group in df.groupby(col):\n",
    "        res.append([col_value, group.target.mean()])\n",
    "\n",
    "    col_value_target_mean = pd.DataFrame(res, columns=['col_value', 'target_mean'])\n",
    "    missng_ratio = df[col].isna().mean()\n",
    "\n",
    "    plt.bar(col_value_target_mean.col_value, col_value_target_mean.target_mean)\n",
    "    plt.title(f\"{col}(missing {missng_ratio*100:.2f}%)\")\n",
    "    plt.show()"
   ]
  },
  {
   "cell_type": "code",
   "execution_count": 42,
   "id": "f84094dc",
   "metadata": {},
   "outputs": [
    {
     "name": "stdout",
     "output_type": "stream",
     "text": [
      "3가지 카테고리 제거 -> 3개의 관측치를 예외 케이스로 변경\n",
      "3가지 카테고리 제거 -> 5개의 관측치를 예외 케이스로 변경\n",
      "2가지 카테고리 제거 -> 10개의 관측치를 예외 케이스로 변경\n",
      "4가지 카테고리 제거 -> 20개의 관측치를 예외 케이스로 변경\n",
      "3가지 카테고리 제거 -> 17개의 관측치를 예외 케이스로 변경\n",
      "6가지 카테고리 제거 -> 13개의 관측치를 예외 케이스로 변경\n",
      "4가지 카테고리 제거 -> 16개의 관측치를 예외 케이스로 변경\n",
      "11가지 카테고리 제거 -> 39개의 관측치를 예외 케이스로 변경\n",
      "2가지 카테고리 제거 -> 15개의 관측치를 예외 케이스로 변경\n"
     ]
    }
   ],
   "source": [
    "for col in col_cate.col:\n",
    "    col_val_cnt = df[col].value_counts()\n",
    "\n",
    "    minor_values = col_val_cnt[col_val_cnt<=10].index\n",
    "    \n",
    "    val_etc = df[col].min() - 1\n",
    "    for minor_value in minor_values:\n",
    "        df[col].replace({minor_value:val_etc})\n",
    "    if len(minor_values) > 1:\n",
    "        print(f\"{len(minor_values)}가지 카테고리 제거 -> {col_val_cnt[col_val_cnt<=10].sum()}개의 관측치를 예외 케이스로 변경\")\n",
    "    \n",
    "    dummy_na = df[col].isna().sum() > 0\n",
    "    temp_dummy = pd.get_dummies(df[col], drop_first=True, prefix=col, dummy_na=dummy_na)\n",
    "    temp_dummy = temp_dummy.astype(np.int8)\n",
    "    \n",
    "    df = df.drop(col, axis=1)\n",
    "    df = pd.concat([df, temp_dummy], axis=1)"
   ]
  },
  {
   "cell_type": "code",
   "execution_count": 43,
   "id": "41bfd720",
   "metadata": {},
   "outputs": [
    {
     "name": "stdout",
     "output_type": "stream",
     "text": [
      "현재 피쳐 수: 284\n"
     ]
    }
   ],
   "source": [
    "feature_cols = [col for col in df.columns if col.startswith(\"col\")]\n",
    "\n",
    "print(f\"현재 피쳐 수: {len(feature_cols)}\")"
   ]
  },
  {
   "cell_type": "markdown",
   "id": "f145a92f",
   "metadata": {},
   "source": [
    "**케이스가 너무 적은 것은 룰 베이스로 제외**"
   ]
  },
  {
   "cell_type": "code",
   "execution_count": 107,
   "id": "de231c8c",
   "metadata": {},
   "outputs": [
    {
     "ename": "KeyError",
     "evalue": "'col_20_2'",
     "output_type": "error",
     "traceback": [
      "\u001b[0;31m---------------------------------------------------------------------------\u001b[0m",
      "\u001b[0;31mKeyError\u001b[0m                                  Traceback (most recent call last)",
      "\u001b[0;32m~/anaconda3/lib/python3.8/site-packages/pandas/core/indexes/base.py\u001b[0m in \u001b[0;36mget_loc\u001b[0;34m(self, key, method, tolerance)\u001b[0m\n\u001b[1;32m   3079\u001b[0m             \u001b[0;32mtry\u001b[0m\u001b[0;34m:\u001b[0m\u001b[0;34m\u001b[0m\u001b[0;34m\u001b[0m\u001b[0m\n\u001b[0;32m-> 3080\u001b[0;31m                 \u001b[0;32mreturn\u001b[0m \u001b[0mself\u001b[0m\u001b[0;34m.\u001b[0m\u001b[0m_engine\u001b[0m\u001b[0;34m.\u001b[0m\u001b[0mget_loc\u001b[0m\u001b[0;34m(\u001b[0m\u001b[0mcasted_key\u001b[0m\u001b[0;34m)\u001b[0m\u001b[0;34m\u001b[0m\u001b[0;34m\u001b[0m\u001b[0m\n\u001b[0m\u001b[1;32m   3081\u001b[0m             \u001b[0;32mexcept\u001b[0m \u001b[0mKeyError\u001b[0m \u001b[0;32mas\u001b[0m \u001b[0merr\u001b[0m\u001b[0;34m:\u001b[0m\u001b[0;34m\u001b[0m\u001b[0;34m\u001b[0m\u001b[0m\n",
      "\u001b[0;32mpandas/_libs/index.pyx\u001b[0m in \u001b[0;36mpandas._libs.index.IndexEngine.get_loc\u001b[0;34m()\u001b[0m\n",
      "\u001b[0;32mpandas/_libs/index.pyx\u001b[0m in \u001b[0;36mpandas._libs.index.IndexEngine.get_loc\u001b[0;34m()\u001b[0m\n",
      "\u001b[0;32mpandas/_libs/hashtable_class_helper.pxi\u001b[0m in \u001b[0;36mpandas._libs.hashtable.PyObjectHashTable.get_item\u001b[0;34m()\u001b[0m\n",
      "\u001b[0;32mpandas/_libs/hashtable_class_helper.pxi\u001b[0m in \u001b[0;36mpandas._libs.hashtable.PyObjectHashTable.get_item\u001b[0;34m()\u001b[0m\n",
      "\u001b[0;31mKeyError\u001b[0m: 'col_20_2'",
      "\nThe above exception was the direct cause of the following exception:\n",
      "\u001b[0;31mKeyError\u001b[0m                                  Traceback (most recent call last)",
      "\u001b[0;32m<ipython-input-107-e30389052668>\u001b[0m in \u001b[0;36m<module>\u001b[0;34m\u001b[0m\n\u001b[0;32m----> 1\u001b[0;31m \u001b[0munique_value_count_test\u001b[0m \u001b[0;34m=\u001b[0m \u001b[0mpd\u001b[0m\u001b[0;34m.\u001b[0m\u001b[0mSeries\u001b[0m\u001b[0;34m(\u001b[0m\u001b[0;34m{\u001b[0m\u001b[0mcol\u001b[0m\u001b[0;34m:\u001b[0m\u001b[0mdf_test\u001b[0m\u001b[0;34m[\u001b[0m\u001b[0mcol\u001b[0m\u001b[0;34m]\u001b[0m\u001b[0;34m.\u001b[0m\u001b[0mnunique\u001b[0m\u001b[0;34m(\u001b[0m\u001b[0;34m)\u001b[0m \u001b[0;32mfor\u001b[0m \u001b[0mcol\u001b[0m \u001b[0;32min\u001b[0m \u001b[0mfeature_cols\u001b[0m\u001b[0;34m}\u001b[0m\u001b[0;34m)\u001b[0m\u001b[0;34m.\u001b[0m\u001b[0msort_values\u001b[0m\u001b[0;34m(\u001b[0m\u001b[0;34m)\u001b[0m\u001b[0;34m\u001b[0m\u001b[0;34m\u001b[0m\u001b[0m\n\u001b[0m",
      "\u001b[0;32m<ipython-input-107-e30389052668>\u001b[0m in \u001b[0;36m<dictcomp>\u001b[0;34m(.0)\u001b[0m\n\u001b[0;32m----> 1\u001b[0;31m \u001b[0munique_value_count_test\u001b[0m \u001b[0;34m=\u001b[0m \u001b[0mpd\u001b[0m\u001b[0;34m.\u001b[0m\u001b[0mSeries\u001b[0m\u001b[0;34m(\u001b[0m\u001b[0;34m{\u001b[0m\u001b[0mcol\u001b[0m\u001b[0;34m:\u001b[0m\u001b[0mdf_test\u001b[0m\u001b[0;34m[\u001b[0m\u001b[0mcol\u001b[0m\u001b[0;34m]\u001b[0m\u001b[0;34m.\u001b[0m\u001b[0mnunique\u001b[0m\u001b[0;34m(\u001b[0m\u001b[0;34m)\u001b[0m \u001b[0;32mfor\u001b[0m \u001b[0mcol\u001b[0m \u001b[0;32min\u001b[0m \u001b[0mfeature_cols\u001b[0m\u001b[0;34m}\u001b[0m\u001b[0;34m)\u001b[0m\u001b[0;34m.\u001b[0m\u001b[0msort_values\u001b[0m\u001b[0;34m(\u001b[0m\u001b[0;34m)\u001b[0m\u001b[0;34m\u001b[0m\u001b[0;34m\u001b[0m\u001b[0m\n\u001b[0m",
      "\u001b[0;32m~/anaconda3/lib/python3.8/site-packages/pandas/core/frame.py\u001b[0m in \u001b[0;36m__getitem__\u001b[0;34m(self, key)\u001b[0m\n\u001b[1;32m   3022\u001b[0m             \u001b[0;32mif\u001b[0m \u001b[0mself\u001b[0m\u001b[0;34m.\u001b[0m\u001b[0mcolumns\u001b[0m\u001b[0;34m.\u001b[0m\u001b[0mnlevels\u001b[0m \u001b[0;34m>\u001b[0m \u001b[0;36m1\u001b[0m\u001b[0;34m:\u001b[0m\u001b[0;34m\u001b[0m\u001b[0;34m\u001b[0m\u001b[0m\n\u001b[1;32m   3023\u001b[0m                 \u001b[0;32mreturn\u001b[0m \u001b[0mself\u001b[0m\u001b[0;34m.\u001b[0m\u001b[0m_getitem_multilevel\u001b[0m\u001b[0;34m(\u001b[0m\u001b[0mkey\u001b[0m\u001b[0;34m)\u001b[0m\u001b[0;34m\u001b[0m\u001b[0;34m\u001b[0m\u001b[0m\n\u001b[0;32m-> 3024\u001b[0;31m             \u001b[0mindexer\u001b[0m \u001b[0;34m=\u001b[0m \u001b[0mself\u001b[0m\u001b[0;34m.\u001b[0m\u001b[0mcolumns\u001b[0m\u001b[0;34m.\u001b[0m\u001b[0mget_loc\u001b[0m\u001b[0;34m(\u001b[0m\u001b[0mkey\u001b[0m\u001b[0;34m)\u001b[0m\u001b[0;34m\u001b[0m\u001b[0;34m\u001b[0m\u001b[0m\n\u001b[0m\u001b[1;32m   3025\u001b[0m             \u001b[0;32mif\u001b[0m \u001b[0mis_integer\u001b[0m\u001b[0;34m(\u001b[0m\u001b[0mindexer\u001b[0m\u001b[0;34m)\u001b[0m\u001b[0;34m:\u001b[0m\u001b[0;34m\u001b[0m\u001b[0;34m\u001b[0m\u001b[0m\n\u001b[1;32m   3026\u001b[0m                 \u001b[0mindexer\u001b[0m \u001b[0;34m=\u001b[0m \u001b[0;34m[\u001b[0m\u001b[0mindexer\u001b[0m\u001b[0;34m]\u001b[0m\u001b[0;34m\u001b[0m\u001b[0;34m\u001b[0m\u001b[0m\n",
      "\u001b[0;32m~/anaconda3/lib/python3.8/site-packages/pandas/core/indexes/base.py\u001b[0m in \u001b[0;36mget_loc\u001b[0;34m(self, key, method, tolerance)\u001b[0m\n\u001b[1;32m   3080\u001b[0m                 \u001b[0;32mreturn\u001b[0m \u001b[0mself\u001b[0m\u001b[0;34m.\u001b[0m\u001b[0m_engine\u001b[0m\u001b[0;34m.\u001b[0m\u001b[0mget_loc\u001b[0m\u001b[0;34m(\u001b[0m\u001b[0mcasted_key\u001b[0m\u001b[0;34m)\u001b[0m\u001b[0;34m\u001b[0m\u001b[0;34m\u001b[0m\u001b[0m\n\u001b[1;32m   3081\u001b[0m             \u001b[0;32mexcept\u001b[0m \u001b[0mKeyError\u001b[0m \u001b[0;32mas\u001b[0m \u001b[0merr\u001b[0m\u001b[0;34m:\u001b[0m\u001b[0;34m\u001b[0m\u001b[0;34m\u001b[0m\u001b[0m\n\u001b[0;32m-> 3082\u001b[0;31m                 \u001b[0;32mraise\u001b[0m \u001b[0mKeyError\u001b[0m\u001b[0;34m(\u001b[0m\u001b[0mkey\u001b[0m\u001b[0;34m)\u001b[0m \u001b[0;32mfrom\u001b[0m \u001b[0merr\u001b[0m\u001b[0;34m\u001b[0m\u001b[0;34m\u001b[0m\u001b[0m\n\u001b[0m\u001b[1;32m   3083\u001b[0m \u001b[0;34m\u001b[0m\u001b[0m\n\u001b[1;32m   3084\u001b[0m         \u001b[0;32mif\u001b[0m \u001b[0mtolerance\u001b[0m \u001b[0;32mis\u001b[0m \u001b[0;32mnot\u001b[0m \u001b[0;32mNone\u001b[0m\u001b[0;34m:\u001b[0m\u001b[0;34m\u001b[0m\u001b[0;34m\u001b[0m\u001b[0m\n",
      "\u001b[0;31mKeyError\u001b[0m: 'col_20_2'"
     ]
    }
   ],
   "source": [
    "unique_value_count_test = pd.Series({col:df_test[col].nunique() for col in feature_cols}).sort_values()"
   ]
  },
  {
   "cell_type": "code",
   "execution_count": 47,
   "id": "36624221",
   "metadata": {},
   "outputs": [
    {
     "name": "stdout",
     "output_type": "stream",
     "text": [
      "col_13\n"
     ]
    },
    {
     "data": {
      "text/html": [
       "<div>\n",
       "<style scoped>\n",
       "    .dataframe tbody tr th:only-of-type {\n",
       "        vertical-align: middle;\n",
       "    }\n",
       "\n",
       "    .dataframe tbody tr th {\n",
       "        vertical-align: top;\n",
       "    }\n",
       "\n",
       "    .dataframe thead th {\n",
       "        text-align: right;\n",
       "    }\n",
       "</style>\n",
       "<table border=\"1\" class=\"dataframe\">\n",
       "  <thead>\n",
       "    <tr style=\"text-align: right;\">\n",
       "      <th></th>\n",
       "      <th>train</th>\n",
       "      <th>test</th>\n",
       "    </tr>\n",
       "  </thead>\n",
       "  <tbody>\n",
       "    <tr>\n",
       "      <th>0</th>\n",
       "      <td>1</td>\n",
       "      <td>1</td>\n",
       "    </tr>\n",
       "    <tr>\n",
       "      <th>1</th>\n",
       "      <td>307510</td>\n",
       "      <td>48743</td>\n",
       "    </tr>\n",
       "  </tbody>\n",
       "</table>\n",
       "</div>"
      ],
      "text/plain": [
       "    train   test\n",
       "0       1      1\n",
       "1  307510  48743"
      ]
     },
     "metadata": {},
     "output_type": "display_data"
    },
    {
     "data": {
      "text/html": [
       "<div>\n",
       "<style scoped>\n",
       "    .dataframe tbody tr th:only-of-type {\n",
       "        vertical-align: middle;\n",
       "    }\n",
       "\n",
       "    .dataframe tbody tr th {\n",
       "        vertical-align: top;\n",
       "    }\n",
       "\n",
       "    .dataframe thead th {\n",
       "        text-align: right;\n",
       "    }\n",
       "</style>\n",
       "<table border=\"1\" class=\"dataframe\">\n",
       "  <thead>\n",
       "    <tr style=\"text-align: right;\">\n",
       "      <th></th>\n",
       "      <th>target</th>\n",
       "      <th>count</th>\n",
       "      <th>ratio</th>\n",
       "    </tr>\n",
       "  </thead>\n",
       "  <tbody>\n",
       "    <tr>\n",
       "      <th>0</th>\n",
       "      <td>0.0</td>\n",
       "      <td>1</td>\n",
       "      <td>1.0</td>\n",
       "    </tr>\n",
       "  </tbody>\n",
       "</table>\n",
       "</div>"
      ],
      "text/plain": [
       "   target  count  ratio\n",
       "0     0.0      1    1.0"
      ]
     },
     "metadata": {},
     "output_type": "display_data"
    },
    {
     "name": "stdout",
     "output_type": "stream",
     "text": [
      "col_85\n"
     ]
    },
    {
     "data": {
      "text/html": [
       "<div>\n",
       "<style scoped>\n",
       "    .dataframe tbody tr th:only-of-type {\n",
       "        vertical-align: middle;\n",
       "    }\n",
       "\n",
       "    .dataframe tbody tr th {\n",
       "        vertical-align: top;\n",
       "    }\n",
       "\n",
       "    .dataframe thead th {\n",
       "        text-align: right;\n",
       "    }\n",
       "</style>\n",
       "<table border=\"1\" class=\"dataframe\">\n",
       "  <thead>\n",
       "    <tr style=\"text-align: right;\">\n",
       "      <th></th>\n",
       "      <th>train</th>\n",
       "      <th>test</th>\n",
       "    </tr>\n",
       "  </thead>\n",
       "  <tbody>\n",
       "    <tr>\n",
       "      <th>0</th>\n",
       "      <td>307452</td>\n",
       "      <td>48742</td>\n",
       "    </tr>\n",
       "    <tr>\n",
       "      <th>1</th>\n",
       "      <td>59</td>\n",
       "      <td>2</td>\n",
       "    </tr>\n",
       "  </tbody>\n",
       "</table>\n",
       "</div>"
      ],
      "text/plain": [
       "    train   test\n",
       "0  307452  48742\n",
       "1      59      2"
      ]
     },
     "metadata": {},
     "output_type": "display_data"
    },
    {
     "data": {
      "text/html": [
       "<div>\n",
       "<style scoped>\n",
       "    .dataframe tbody tr th:only-of-type {\n",
       "        vertical-align: middle;\n",
       "    }\n",
       "\n",
       "    .dataframe tbody tr th {\n",
       "        vertical-align: top;\n",
       "    }\n",
       "\n",
       "    .dataframe thead th {\n",
       "        text-align: right;\n",
       "    }\n",
       "</style>\n",
       "<table border=\"1\" class=\"dataframe\">\n",
       "  <thead>\n",
       "    <tr style=\"text-align: right;\">\n",
       "      <th></th>\n",
       "      <th>target</th>\n",
       "      <th>count</th>\n",
       "      <th>ratio</th>\n",
       "    </tr>\n",
       "  </thead>\n",
       "  <tbody>\n",
       "    <tr>\n",
       "      <th>0</th>\n",
       "      <td>0.0</td>\n",
       "      <td>56</td>\n",
       "      <td>0.949153</td>\n",
       "    </tr>\n",
       "    <tr>\n",
       "      <th>1</th>\n",
       "      <td>1.0</td>\n",
       "      <td>3</td>\n",
       "      <td>0.050847</td>\n",
       "    </tr>\n",
       "  </tbody>\n",
       "</table>\n",
       "</div>"
      ],
      "text/plain": [
       "   target  count     ratio\n",
       "0     0.0     56  0.949153\n",
       "1     1.0      3  0.050847"
      ]
     },
     "metadata": {},
     "output_type": "display_data"
    },
    {
     "name": "stdout",
     "output_type": "stream",
     "text": [
      "col_82\n"
     ]
    },
    {
     "data": {
      "text/html": [
       "<div>\n",
       "<style scoped>\n",
       "    .dataframe tbody tr th:only-of-type {\n",
       "        vertical-align: middle;\n",
       "    }\n",
       "\n",
       "    .dataframe tbody tr th {\n",
       "        vertical-align: top;\n",
       "    }\n",
       "\n",
       "    .dataframe thead th {\n",
       "        text-align: right;\n",
       "    }\n",
       "</style>\n",
       "<table border=\"1\" class=\"dataframe\">\n",
       "  <thead>\n",
       "    <tr style=\"text-align: right;\">\n",
       "      <th></th>\n",
       "      <th>train</th>\n",
       "      <th>test</th>\n",
       "    </tr>\n",
       "  </thead>\n",
       "  <tbody>\n",
       "    <tr>\n",
       "      <th>0</th>\n",
       "      <td>307486</td>\n",
       "      <td>48739</td>\n",
       "    </tr>\n",
       "    <tr>\n",
       "      <th>1</th>\n",
       "      <td>25</td>\n",
       "      <td>5</td>\n",
       "    </tr>\n",
       "  </tbody>\n",
       "</table>\n",
       "</div>"
      ],
      "text/plain": [
       "    train   test\n",
       "0  307486  48739\n",
       "1      25      5"
      ]
     },
     "metadata": {},
     "output_type": "display_data"
    },
    {
     "data": {
      "text/html": [
       "<div>\n",
       "<style scoped>\n",
       "    .dataframe tbody tr th:only-of-type {\n",
       "        vertical-align: middle;\n",
       "    }\n",
       "\n",
       "    .dataframe tbody tr th {\n",
       "        vertical-align: top;\n",
       "    }\n",
       "\n",
       "    .dataframe thead th {\n",
       "        text-align: right;\n",
       "    }\n",
       "</style>\n",
       "<table border=\"1\" class=\"dataframe\">\n",
       "  <thead>\n",
       "    <tr style=\"text-align: right;\">\n",
       "      <th></th>\n",
       "      <th>target</th>\n",
       "      <th>count</th>\n",
       "      <th>ratio</th>\n",
       "    </tr>\n",
       "  </thead>\n",
       "  <tbody>\n",
       "    <tr>\n",
       "      <th>0</th>\n",
       "      <td>0.0</td>\n",
       "      <td>25</td>\n",
       "      <td>1.0</td>\n",
       "    </tr>\n",
       "  </tbody>\n",
       "</table>\n",
       "</div>"
      ],
      "text/plain": [
       "   target  count  ratio\n",
       "0     0.0     25    1.0"
      ]
     },
     "metadata": {},
     "output_type": "display_data"
    }
   ],
   "source": [
    "## test에서 값이 너무 희소하고 (0.1%미만)\n",
    "## 희소한 경우 train에서 target 값이 unique한 관측치들은 룰베이스로 제외\n",
    "## missing도 캐치\n",
    "test_n = len(df_test)\n",
    "for col in unique_value_count_test[unique_value_count_test == 2].index:\n",
    "    small_value_count = df_test[col].value_counts().min()\n",
    "    small_value_ratio = small_value_count/test_n\n",
    "\n",
    "    if small_value_ratio < 0.001:\n",
    "        print(col)\n",
    "        count_df = pd.concat([\n",
    "            df[col].fillna(\"null\").value_counts(), \n",
    "            df_test[col].value_counts()\n",
    "        ], axis=1).sort_index()\n",
    "\n",
    "        count_df.columns = ['train', 'test']\n",
    "        display(count_df)\n",
    "        \n",
    "        small_target_dist = (\n",
    "            df.loc[df[col]==count_df.test.idxmin(), 'target']\n",
    "            .value_counts().reset_index()\n",
    "        )\n",
    "        small_target_dist.columns = ['target', 'count']\n",
    "        small_target_dist = small_target_dist.assign(ratio=small_target_dist['count'] / small_target_dist['count'].sum())\n",
    "        \n",
    "        \n",
    "        display(small_target_dist)"
   ]
  },
  {
   "cell_type": "code",
   "execution_count": 48,
   "id": "a8d5d4b5",
   "metadata": {},
   "outputs": [
    {
     "name": "stdout",
     "output_type": "stream",
     "text": [
      "현재 피쳐 수: 282\n"
     ]
    }
   ],
   "source": [
    "## test에서 값이 너무 희소하고 (0.1%미만)\n",
    "## 희소한 경우 train에서 target 값이 unique한 관측치들은 룰베이스로 제외\n",
    "## rule_predict의 key는 rule base로 제외할 칼럼\n",
    "## value는 다시 dict로, minor_value를 가진 경우 target으로 예측\n",
    "## 해당 칼럼은 처리한 뒤 지우자\n",
    "rule_predict = {}\n",
    "for col in unique_value_count_test[unique_value_count_test == 2].index:\n",
    "    \n",
    "    small_value_ratio = df_test[col].value_counts(normalize=True).min()\n",
    "    if small_value_ratio < 0.001:\n",
    "    \n",
    "        col_minor_value = df_test[col].value_counts().idxmin()\n",
    "        col_minor_target_dist = df.loc[df[col]==col_minor_value, 'target'].value_counts()\n",
    "        if len(col_minor_target_dist) == 1:\n",
    "            \n",
    "            rule_predict[col] = {\n",
    "                \"minor_value\":col_minor_value,\n",
    "                \"target\":col_minor_target_dist.index[0]\n",
    "            }\n",
    "\n",
    "rule_predict\n",
    "\n",
    "feature_cols = [col for col in feature_cols if col not in rule_predict]\n",
    "df = df.drop(rule_predict.keys(), axis=1)\n",
    "\n",
    "print(f\"현재 피쳐 수: {len(feature_cols)}\")"
   ]
  },
  {
   "cell_type": "markdown",
   "id": "9280fd8f",
   "metadata": {},
   "source": [
    "### Missing"
   ]
  },
  {
   "cell_type": "code",
   "execution_count": 52,
   "id": "564c1ea2",
   "metadata": {},
   "outputs": [
    {
     "data": {
      "text/plain": [
       "col_36    0.698723\n",
       "col_50    0.698723\n",
       "col_64    0.698723\n",
       "col_44    0.694330\n",
       "col_58    0.694330\n",
       "col_72    0.694330\n",
       "col_42    0.683550\n",
       "col_56    0.683550\n",
       "col_70    0.683550\n",
       "col_40    0.678486\n",
       "dtype: float64"
      ]
     },
     "execution_count": 52,
     "metadata": {},
     "output_type": "execute_result"
    }
   ],
   "source": [
    "df.isna().mean().nlargest(10)"
   ]
  },
  {
   "cell_type": "code",
   "execution_count": 58,
   "id": "3a3bdab1",
   "metadata": {},
   "outputs": [
    {
     "data": {
      "text/plain": [
       "col_76_nan     0.003320\n",
       "col_78_nan     0.003320\n",
       "col_100_nan    0.135016\n",
       "col_101_nan    0.135016\n",
       "col_102_nan    0.135016\n",
       "col_103_nan    0.135016\n",
       "col_104_nan    0.135016\n",
       "col_105_nan    0.135016\n",
       "dtype: float64"
      ]
     },
     "execution_count": 58,
     "metadata": {},
     "output_type": "execute_result"
    }
   ],
   "source": [
    "missing_columns = [col for col in df.columns if 'nan' in col]\n",
    "pd.Series({col:(df[col]==1).mean() for col in missing_columns}).sort_values()"
   ]
  },
  {
   "cell_type": "code",
   "execution_count": 53,
   "id": "4756c383",
   "metadata": {},
   "outputs": [
    {
     "data": {
      "text/plain": [
       "col_36    0.687161\n",
       "col_50    0.687161\n",
       "col_64    0.687161\n",
       "col_44    0.684125\n",
       "col_58    0.684125\n",
       "col_72    0.684125\n",
       "col_42    0.672493\n",
       "col_56    0.672493\n",
       "col_70    0.672493\n",
       "col_40    0.666051\n",
       "dtype: float64"
      ]
     },
     "execution_count": 53,
     "metadata": {},
     "output_type": "execute_result"
    }
   ],
   "source": [
    "df_test.isna().mean().nlargest(10)"
   ]
  },
  {
   "cell_type": "markdown",
   "id": "3103f4ac",
   "metadata": {},
   "source": [
    "### 변수 선택\n",
    "- Kolmogofov를 이용해 target이 0일 때와 1일 때 x의 분포 사이에 차이가 있는지 검토"
   ]
  },
  {
   "cell_type": "code",
   "execution_count": 59,
   "id": "7da96c73",
   "metadata": {},
   "outputs": [],
   "source": [
    "from scipy import stats"
   ]
  },
  {
   "cell_type": "code",
   "execution_count": 60,
   "id": "3578da20",
   "metadata": {},
   "outputs": [],
   "source": [
    "df_true = df.loc[df.target==1]\n",
    "df_false = df.loc[df.target==0]"
   ]
  },
  {
   "cell_type": "code",
   "execution_count": 61,
   "id": "a2fd6d5f",
   "metadata": {},
   "outputs": [],
   "source": [
    "feature_cols = [col for col in df.columns if col.startswith(\"col\")]"
   ]
  },
  {
   "cell_type": "code",
   "execution_count": 62,
   "id": "b4cca748",
   "metadata": {},
   "outputs": [],
   "source": [
    "from tqdm import tqdm"
   ]
  },
  {
   "cell_type": "code",
   "execution_count": 63,
   "id": "1358737e",
   "metadata": {},
   "outputs": [
    {
     "name": "stderr",
     "output_type": "stream",
     "text": [
      "100%|██████████| 282/282 [00:10<00:00, 26.25it/s]\n"
     ]
    }
   ],
   "source": [
    "ps = []\n",
    "for col in tqdm(feature_cols):\n",
    "    statistics, p = stats.ks_2samp(df_true[col], df_false[col])\n",
    "    ps.append([col, p])"
   ]
  },
  {
   "cell_type": "code",
   "execution_count": 64,
   "id": "c795d874",
   "metadata": {},
   "outputs": [],
   "source": [
    "p_df = pd.DataFrame(ps, columns=['col_name', 'p_value'])"
   ]
  },
  {
   "cell_type": "code",
   "execution_count": 65,
   "id": "c5da7b5a",
   "metadata": {},
   "outputs": [
    {
     "data": {
      "text/plain": [
       "<AxesSubplot:>"
      ]
     },
     "execution_count": 65,
     "metadata": {},
     "output_type": "execute_result"
    },
    {
     "data": {
      "image/png": "[encoded data removed]",
      "text/plain": [
       "<Figure size 432x288 with 1 Axes>"
      ]
     },
     "metadata": {
      "needs_background": "light"
     },
     "output_type": "display_data"
    }
   ],
   "source": [
    "p_df.p_value.hist()"
   ]
  },
  {
   "cell_type": "code",
   "execution_count": 66,
   "id": "84aed844",
   "metadata": {},
   "outputs": [
    {
     "data": {
      "text/plain": [
       "25        col_30\n",
       "26        col_31\n",
       "6          col_8\n",
       "227    col_111_7\n",
       "72        col_79\n",
       "212    col_107_1\n",
       "4          col_6\n",
       "228    col_112_1\n",
       "24        col_29\n",
       "7          col_9\n",
       "Name: col_name, dtype: object"
      ]
     },
     "execution_count": 66,
     "metadata": {},
     "output_type": "execute_result"
    }
   ],
   "source": [
    "p_df.nsmallest(10, 'p_value').col_name"
   ]
  },
  {
   "cell_type": "code",
   "execution_count": 67,
   "id": "bd7f4e58",
   "metadata": {},
   "outputs": [],
   "source": [
    "selected_cols = p_df.nsmallest(10, 'p_value').col_name.tolist()"
   ]
  },
  {
   "cell_type": "code",
   "execution_count": 68,
   "id": "40c5878c",
   "metadata": {
    "scrolled": false
   },
   "outputs": [
    {
     "data": {
      "image/png": "[encoded data removed]",
      "text/plain": [
       "<Figure size 432x288 with 1 Axes>"
      ]
     },
     "metadata": {
      "needs_background": "light"
     },
     "output_type": "display_data"
    },
    {
     "data": {
      "image/png": "[encoded data removed]",
      "text/plain": [
       "<Figure size 432x288 with 1 Axes>"
      ]
     },
     "metadata": {
      "needs_background": "light"
     },
     "output_type": "display_data"
    },
    {
     "data": {
      "image/png": "[encoded data removed]",
      "text/plain": [
       "<Figure size 432x288 with 1 Axes>"
      ]
     },
     "metadata": {
      "needs_background": "light"
     },
     "output_type": "display_data"
    },
    {
     "data": {
      "image/png": "[encoded data removed]",
      "text/plain": [
       "<Figure size 432x288 with 1 Axes>"
      ]
     },
     "metadata": {
      "needs_background": "light"
     },
     "output_type": "display_data"
    },
    {
     "data": {
      "image/png": "[encoded data removed]",
      "text/plain": [
       "<Figure size 432x288 with 1 Axes>"
      ]
     },
     "metadata": {
      "needs_background": "light"
     },
     "output_type": "display_data"
    },
    {
     "data": {
      "image/png": "[encoded data removed]",
      "text/plain": [
       "<Figure size 432x288 with 1 Axes>"
      ]
     },
     "metadata": {
      "needs_background": "light"
     },
     "output_type": "display_data"
    },
    {
     "data": {
      "image/png": "[encoded data removed]",
      "text/plain": [
       "<Figure size 432x288 with 1 Axes>"
      ]
     },
     "metadata": {
      "needs_background": "light"
     },
     "output_type": "display_data"
    },
    {
     "data": {
      "image/png": "[encoded data removed]",
      "text/plain": [
       "<Figure size 432x288 with 1 Axes>"
      ]
     },
     "metadata": {
      "needs_background": "light"
     },
     "output_type": "display_data"
    },
    {
     "data": {
      "image/png": "[encoded data removed]",
      "text/plain": [
       "<Figure size 432x288 with 1 Axes>"
      ]
     },
     "metadata": {
      "needs_background": "light"
     },
     "output_type": "display_data"
    },
    {
     "data": {
      "image/png": "[encoded data removed]",
      "text/plain": [
       "<Figure size 432x288 with 1 Axes>"
      ]
     },
     "metadata": {
      "needs_background": "light"
     },
     "output_type": "display_data"
    }
   ],
   "source": [
    "leg = []\n",
    "for col in selected_cols:\n",
    "    df_true[col].hist(alpha=0.5, density=True, bins=20)\n",
    "    df_false[col].hist(alpha=0.5, density=True, bins=20)\n",
    "    plt.legend([True, False])\n",
    "    plt.show()"
   ]
  },
  {
   "cell_type": "code",
   "execution_count": 69,
   "id": "df949d24",
   "metadata": {},
   "outputs": [],
   "source": [
    "not_selected_cols = p_df.nlargest(10, 'p_value').col_name.tolist()"
   ]
  },
  {
   "cell_type": "code",
   "execution_count": 72,
   "id": "ca2bf915",
   "metadata": {
    "scrolled": false
   },
   "outputs": [
    {
     "data": {
      "image/png": "[encoded data removed]",
      "text/plain": [
       "<Figure size 432x288 with 1 Axes>"
      ]
     },
     "metadata": {
      "needs_background": "light"
     },
     "output_type": "display_data"
    },
    {
     "data": {
      "image/png": "[encoded data removed]",
      "text/plain": [
       "<Figure size 432x288 with 1 Axes>"
      ]
     },
     "metadata": {
      "needs_background": "light"
     },
     "output_type": "display_data"
    },
    {
     "data": {
      "image/png": "[encoded data removed]",
      "text/plain": [
       "<Figure size 432x288 with 1 Axes>"
      ]
     },
     "metadata": {
      "needs_background": "light"
     },
     "output_type": "display_data"
    },
    {
     "data": {
      "image/png": "[encoded data removed]",
      "text/plain": [
       "<Figure size 432x288 with 1 Axes>"
      ]
     },
     "metadata": {
      "needs_background": "light"
     },
     "output_type": "display_data"
    },
    {
     "data": {
      "image/png": "[encoded data removed]",
      "text/plain": [
       "<Figure size 432x288 with 1 Axes>"
      ]
     },
     "metadata": {
      "needs_background": "light"
     },
     "output_type": "display_data"
    },
    {
     "data": {
      "image/png": "[encoded data removed]",
      "text/plain": [
       "<Figure size 432x288 with 1 Axes>"
      ]
     },
     "metadata": {
      "needs_background": "light"
     },
     "output_type": "display_data"
    },
    {
     "data": {
      "image/png": "[encoded data removed]",
      "text/plain": [
       "<Figure size 432x288 with 1 Axes>"
      ]
     },
     "metadata": {
      "needs_background": "light"
     },
     "output_type": "display_data"
    },
    {
     "data": {
      "image/png": "[encoded data removed]",
      "text/plain": [
       "<Figure size 432x288 with 1 Axes>"
      ]
     },
     "metadata": {
      "needs_background": "light"
     },
     "output_type": "display_data"
    },
    {
     "data": {
      "image/png": "[encoded data removed]",
      "text/plain": [
       "<Figure size 432x288 with 1 Axes>"
      ]
     },
     "metadata": {
      "needs_background": "light"
     },
     "output_type": "display_data"
    },
    {
     "data": {
      "image/png": "[encoded data removed]",
      "text/plain": [
       "<Figure size 432x288 with 1 Axes>"
      ]
     },
     "metadata": {
      "needs_background": "light"
     },
     "output_type": "display_data"
    }
   ],
   "source": [
    "for col in not_selected_cols:\n",
    "    df_true[col].hist(alpha=0.5, density=True, bins=20)\n",
    "    df_false[col].hist(alpha=0.5, density=True, bins=20)\n",
    "    plt.legend(['true', 'false'])\n",
    "    plt.show()"
   ]
  },
  {
   "cell_type": "markdown",
   "id": "19bf91ad",
   "metadata": {},
   "source": [
    "### Modeling"
   ]
  },
  {
   "cell_type": "code",
   "execution_count": 73,
   "id": "8c03cf5a",
   "metadata": {},
   "outputs": [],
   "source": [
    "from sklearn.metrics import roc_curve, auc\n",
    "\n",
    "def get_auc(model, X, y):\n",
    "    \"\"\"\n",
    "    AUC 구하는 함수\n",
    "    \"\"\"\n",
    "    probs = model.predict_proba(X)\n",
    "\n",
    "    fpr, tpr, thresholds = roc_curve(y, probs[:, 1], pos_label=1)\n",
    "\n",
    "    roc_auc = auc(fpr, tpr)\n",
    "    return roc_auc"
   ]
  },
  {
   "cell_type": "code",
   "execution_count": 74,
   "id": "3efbc529",
   "metadata": {},
   "outputs": [],
   "source": [
    "from sklearn.ensemble import RandomForestClassifier"
   ]
  },
  {
   "cell_type": "code",
   "execution_count": 75,
   "id": "95be544c",
   "metadata": {},
   "outputs": [],
   "source": [
    "train_index = df.application_id_current % 7 < 2\n",
    "train_df = df[train_index]\n",
    "test_df = df[~train_index]"
   ]
  },
  {
   "cell_type": "code",
   "execution_count": 76,
   "id": "a2957879",
   "metadata": {},
   "outputs": [],
   "source": [
    "missing_count = df.isna().sum()\n",
    "no_missing_columns = missing_count[missing_count == 0].index\n",
    "train_df_no_missing = train_df[no_missing_columns]\n",
    "test_df_no_missing = test_df[no_missing_columns]"
   ]
  },
  {
   "cell_type": "code",
   "execution_count": 77,
   "id": "b6577a8d",
   "metadata": {},
   "outputs": [],
   "source": [
    "X_train = train_df_no_missing.drop(['application_id_current', 'target', 'type'], axis=1)\n",
    "X_test = test_df_no_missing.drop(['application_id_current', 'target', 'type'], axis=1)\n",
    "\n",
    "y_train = train_df_no_missing['target']\n",
    "y_test = test_df_no_missing['target']"
   ]
  },
  {
   "cell_type": "code",
   "execution_count": 78,
   "id": "d9603cf1",
   "metadata": {},
   "outputs": [],
   "source": [
    "df_true = X_train[y_train==1]\n",
    "df_false = X_train[y_train==0]"
   ]
  },
  {
   "cell_type": "code",
   "execution_count": 79,
   "id": "50bc4615",
   "metadata": {},
   "outputs": [],
   "source": [
    "feature_cols = [col for col in X_train.columns if col.startswith(\"col\")]"
   ]
  },
  {
   "cell_type": "code",
   "execution_count": 80,
   "id": "6ca1d5f0",
   "metadata": {},
   "outputs": [
    {
     "name": "stderr",
     "output_type": "stream",
     "text": [
      "100%|██████████| 229/229 [00:02<00:00, 111.11it/s]\n"
     ]
    }
   ],
   "source": [
    "ps = []\n",
    "for col in tqdm(feature_cols):\n",
    "    statistics, p = stats.ks_2samp(df_true[col], df_false[col])\n",
    "    ps.append([col, p])"
   ]
  },
  {
   "cell_type": "code",
   "execution_count": 81,
   "id": "3005963f",
   "metadata": {},
   "outputs": [],
   "source": [
    "p_df = pd.DataFrame(ps, columns=['col_name', 'p_value'])"
   ]
  },
  {
   "cell_type": "code",
   "execution_count": 82,
   "id": "a1a3a19a",
   "metadata": {},
   "outputs": [],
   "source": [
    "selected_cols = p_df.nsmallest(10, 'p_value').col_name.tolist()"
   ]
  },
  {
   "cell_type": "code",
   "execution_count": 83,
   "id": "ef8e1bc0",
   "metadata": {},
   "outputs": [
    {
     "data": {
      "text/plain": [
       "RandomForestClassifier()"
      ]
     },
     "execution_count": 83,
     "metadata": {},
     "output_type": "execute_result"
    }
   ],
   "source": [
    "clf = RandomForestClassifier()\n",
    "clf.fit(X_train[selected_cols], y_train)"
   ]
  },
  {
   "cell_type": "code",
   "execution_count": 84,
   "id": "98dd0331",
   "metadata": {},
   "outputs": [],
   "source": [
    "from sklearn.metrics import confusion_matrix"
   ]
  },
  {
   "cell_type": "code",
   "execution_count": 85,
   "id": "7e8b718d",
   "metadata": {},
   "outputs": [
    {
     "data": {
      "text/plain": [
       "array([[80946,     0],\n",
       "       [    8,  6957]])"
      ]
     },
     "execution_count": 85,
     "metadata": {},
     "output_type": "execute_result"
    }
   ],
   "source": [
    "y_pred_train = clf.predict(X_train[selected_cols])\n",
    "confusion_matrix(y_train, y_pred_train)"
   ]
  },
  {
   "cell_type": "code",
   "execution_count": 86,
   "id": "0956b118",
   "metadata": {},
   "outputs": [
    {
     "data": {
      "text/plain": [
       "array([[201219,    521],\n",
       "       [ 17752,    108]])"
      ]
     },
     "execution_count": 86,
     "metadata": {},
     "output_type": "execute_result"
    }
   ],
   "source": [
    "y_pred_test = clf.predict(X_test[selected_cols])\n",
    "confusion_matrix(y_test, y_pred_test)"
   ]
  },
  {
   "cell_type": "code",
   "execution_count": 87,
   "id": "e35459e1",
   "metadata": {},
   "outputs": [
    {
     "name": "stdout",
     "output_type": "stream",
     "text": [
      "0.588674916246572\n"
     ]
    }
   ],
   "source": [
    "auc_value = get_auc(clf, X_test[selected_cols], y_test)\n",
    "print(auc_value)"
   ]
  },
  {
   "cell_type": "markdown",
   "id": "76db2401",
   "metadata": {},
   "source": [
    "### SMOTE"
   ]
  },
  {
   "cell_type": "code",
   "execution_count": 88,
   "id": "f84d8888",
   "metadata": {},
   "outputs": [],
   "source": [
    "import imblearn"
   ]
  },
  {
   "cell_type": "code",
   "execution_count": 89,
   "id": "6d877256",
   "metadata": {},
   "outputs": [],
   "source": [
    "from imblearn.over_sampling import SMOTE \n",
    "\n",
    "sm = SMOTE(random_state=42)\n",
    "\n",
    "X_sm, y_sm = sm.fit_resample(X_train, y_train)"
   ]
  },
  {
   "cell_type": "code",
   "execution_count": 90,
   "id": "73080e9f",
   "metadata": {},
   "outputs": [
    {
     "data": {
      "text/plain": [
       "((87911, 229), (161892, 229))"
      ]
     },
     "execution_count": 90,
     "metadata": {},
     "output_type": "execute_result"
    }
   ],
   "source": [
    "X_train.shape, X_sm.shape"
   ]
  },
  {
   "cell_type": "code",
   "execution_count": 91,
   "id": "7fb930bb",
   "metadata": {},
   "outputs": [
    {
     "data": {
      "text/plain": [
       "RandomForestClassifier(max_depth=25)"
      ]
     },
     "execution_count": 91,
     "metadata": {},
     "output_type": "execute_result"
    }
   ],
   "source": [
    "clf = RandomForestClassifier(max_depth=25)\n",
    "clf.fit(X_sm[selected_cols], y_sm)"
   ]
  },
  {
   "cell_type": "code",
   "execution_count": 92,
   "id": "fc82caa8",
   "metadata": {},
   "outputs": [
    {
     "data": {
      "text/plain": [
       "array([[76586,  4360],\n",
       "       [ 1212, 79734]])"
      ]
     },
     "execution_count": 92,
     "metadata": {},
     "output_type": "execute_result"
    }
   ],
   "source": [
    "y_pred_train = clf.predict(X_sm[selected_cols])\n",
    "confusion_matrix(y_sm, y_pred_train)"
   ]
  },
  {
   "cell_type": "code",
   "execution_count": 93,
   "id": "b11de5ff",
   "metadata": {},
   "outputs": [
    {
     "data": {
      "text/plain": [
       "array([[157400,  44340],\n",
       "       [ 12995,   4865]])"
      ]
     },
     "execution_count": 93,
     "metadata": {},
     "output_type": "execute_result"
    }
   ],
   "source": [
    "y_pred_test = clf.predict(X_test[selected_cols])\n",
    "confusion_matrix(y_test, y_pred_test)"
   ]
  },
  {
   "cell_type": "code",
   "execution_count": 94,
   "id": "0d9c0dcb",
   "metadata": {},
   "outputs": [
    {
     "name": "stdout",
     "output_type": "stream",
     "text": [
      "0.5555058213586589\n"
     ]
    }
   ],
   "source": [
    "## 0.5617677383971097\n",
    "auc_value = get_auc(clf, X_test[selected_cols], y_test)\n",
    "print(auc_value)"
   ]
  },
  {
   "cell_type": "code",
   "execution_count": 95,
   "id": "6fe1eec9",
   "metadata": {},
   "outputs": [],
   "source": [
    "first_10_columns = X_sm.columns[:5]\n",
    "\n",
    "X_train_col_10 = X_sm[first_10_columns]\n",
    "X_test_col_10 = X_test[first_10_columns]"
   ]
  },
  {
   "cell_type": "code",
   "execution_count": 96,
   "id": "b0b05504",
   "metadata": {},
   "outputs": [
    {
     "name": "stdout",
     "output_type": "stream",
     "text": [
      "CPU times: user 21.5 s, sys: 74.9 ms, total: 21.6 s\n",
      "Wall time: 21.6 s\n"
     ]
    },
    {
     "data": {
      "text/plain": [
       "RandomForestClassifier(max_depth=25)"
      ]
     },
     "execution_count": 96,
     "metadata": {},
     "output_type": "execute_result"
    }
   ],
   "source": [
    "%%time\n",
    "clf = RandomForestClassifier(max_depth=25)\n",
    "clf.fit(X_train_col_10, y_sm)"
   ]
  },
  {
   "cell_type": "code",
   "execution_count": 97,
   "id": "f22dcf22",
   "metadata": {},
   "outputs": [
    {
     "data": {
      "text/plain": [
       "array([[79424,  1522],\n",
       "       [  403, 80543]])"
      ]
     },
     "execution_count": 97,
     "metadata": {},
     "output_type": "execute_result"
    }
   ],
   "source": [
    "y_pred_train = clf.predict(X_train_col_10)\n",
    "confusion_matrix(y_sm, y_pred_train)"
   ]
  },
  {
   "cell_type": "code",
   "execution_count": 98,
   "id": "5f89096d",
   "metadata": {},
   "outputs": [
    {
     "data": {
      "text/plain": [
       "array([[186452,  15288],\n",
       "       [ 15801,   2059]])"
      ]
     },
     "execution_count": 98,
     "metadata": {},
     "output_type": "execute_result"
    }
   ],
   "source": [
    "y_pred_test = clf.predict(X_test_col_10)\n",
    "confusion_matrix(y_test, y_pred_test)"
   ]
  },
  {
   "cell_type": "code",
   "execution_count": 99,
   "id": "cc1207a0",
   "metadata": {},
   "outputs": [
    {
     "name": "stdout",
     "output_type": "stream",
     "text": [
      "0.5666969450051073\n"
     ]
    }
   ],
   "source": [
    "auc_value = get_auc(clf, X_test_col_10, y_test)\n",
    "print(auc_value)"
   ]
  },
  {
   "cell_type": "markdown",
   "id": "b683b59d",
   "metadata": {},
   "source": [
    "### param 적용"
   ]
  },
  {
   "cell_type": "code",
   "execution_count": 100,
   "id": "eb9e46fe",
   "metadata": {},
   "outputs": [],
   "source": [
    "best_params = {'n_estimators': 2000,\n",
    " 'min_samples_split': 10,\n",
    " 'min_samples_leaf': 2,\n",
    " 'max_features': 'sqrt',\n",
    " 'max_depth': 10,\n",
    " 'bootstrap': True}"
   ]
  },
  {
   "cell_type": "code",
   "execution_count": 101,
   "id": "0483263f",
   "metadata": {},
   "outputs": [
    {
     "data": {
      "text/plain": [
       "RandomForestClassifier(max_depth=10, max_features='sqrt', min_samples_leaf=2,\n",
       "                       min_samples_split=10, n_estimators=2000, n_jobs=-1)"
      ]
     },
     "execution_count": 101,
     "metadata": {},
     "output_type": "execute_result"
    }
   ],
   "source": [
    "clf = RandomForestClassifier(**best_params, n_jobs=-1)\n",
    "clf.fit(X_sm[selected_cols], y_sm)"
   ]
  },
  {
   "cell_type": "code",
   "execution_count": 102,
   "id": "db50465c",
   "metadata": {},
   "outputs": [
    {
     "name": "stdout",
     "output_type": "stream",
     "text": [
      "[[61405 19541]\n",
      " [19607 61339]]\n",
      "[[152585  49155]\n",
      " [ 12405   5455]]\n",
      "0.5636690755433329\n"
     ]
    }
   ],
   "source": [
    "y_pred_train = clf.predict(X_sm[selected_cols])\n",
    "print(confusion_matrix(y_sm, y_pred_train))\n",
    "\n",
    "y_pred_test = clf.predict(X_test[selected_cols])\n",
    "print(confusion_matrix(y_test, y_pred_test))\n",
    "\n",
    "auc_value = get_auc(clf, X_test[selected_cols], y_test)\n",
    "print(auc_value)"
   ]
  },
  {
   "cell_type": "code",
   "execution_count": 103,
   "id": "b54581f2",
   "metadata": {},
   "outputs": [
    {
     "name": "stdout",
     "output_type": "stream",
     "text": [
      "[[58438 22508]\n",
      " [19590 61356]]\n",
      "[[144591  57149]\n",
      " [ 11175   6685]]\n",
      "0.5680132855356606\n"
     ]
    }
   ],
   "source": [
    "clf = RandomForestClassifier(**best_params, n_jobs=-1)\n",
    "clf.fit(X_train_col_10, y_sm)\n",
    "\n",
    "y_pred_train = clf.predict(X_train_col_10)\n",
    "print(confusion_matrix(y_sm, y_pred_train))\n",
    "\n",
    "y_pred_test = clf.predict(X_test_col_10)\n",
    "print(confusion_matrix(y_test, y_pred_test))\n",
    "\n",
    "auc_value = get_auc(clf, X_test_col_10, y_test)\n",
    "print(auc_value)"
   ]
  },
  {
   "cell_type": "code",
   "execution_count": 104,
   "id": "6046f163",
   "metadata": {},
   "outputs": [],
   "source": [
    "feature_importance = pd.Series(clf.feature_importances_, index=X_test_col_10.columns)\n",
    "importance_top_5_features = feature_importance.nlargest(5).index"
   ]
  },
  {
   "cell_type": "code",
   "execution_count": 105,
   "id": "90c2eeb1",
   "metadata": {},
   "outputs": [
    {
     "data": {
      "text/plain": [
       "Index(['col_7', 'col_8', 'col_2', 'col_4', 'col_3'], dtype='object')"
      ]
     },
     "execution_count": 105,
     "metadata": {},
     "output_type": "execute_result"
    }
   ],
   "source": [
    "importance_top_5_features"
   ]
  },
  {
   "cell_type": "code",
   "execution_count": null,
   "id": "2dd6901b",
   "metadata": {},
   "outputs": [],
   "source": []
  },
  {
   "cell_type": "code",
   "execution_count": null,
   "id": "913f61a7",
   "metadata": {},
   "outputs": [],
   "source": []
  }
 ],
 "metadata": {
  "kernelspec": {
   "display_name": "Python 3",
   "language": "python",
   "name": "python3"
  },
  "language_info": {
   "codemirror_mode": {
    "name": "ipython",
    "version": 3
   },
   "file_extension": ".py",
   "mimetype": "text/x-python",
   "name": "python",
   "nbconvert_exporter": "python",
   "pygments_lexer": "ipython3",
   "version": "3.8.8"
  }
 },
 "nbformat": 4,
 "nbformat_minor": 5
}
