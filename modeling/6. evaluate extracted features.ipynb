{
 "cells": [
  {
   "cell_type": "markdown",
   "id": "208bd570",
   "metadata": {},
   "source": [
    "- 5에서 찍어낸 수치들로 예측"
   ]
  },
  {
   "cell_type": "code",
   "execution_count": 1,
   "id": "6e87243a",
   "metadata": {},
   "outputs": [],
   "source": [
    "from glob import glob\n",
    "import re\n",
    "\n",
    "import pandas as pd\n",
    "import numpy as np\n",
    "import matplotlib.pyplot as plt"
   ]
  },
  {
   "cell_type": "code",
   "execution_count": 2,
   "id": "2d610bc4",
   "metadata": {},
   "outputs": [],
   "source": [
    "data_path = \"../take-home-interview/\""
   ]
  },
  {
   "cell_type": "code",
   "execution_count": 3,
   "id": "ebf14502",
   "metadata": {},
   "outputs": [],
   "source": [
    "app = pd.read_csv(data_path + \"loan_application.csv\")\n",
    "\n",
    "credit_feature = pd.read_pickle(data_path+\"credit_feature.pkl\")\n",
    "balance_feature = pd.read_pickle(data_path+\"balance_feature.pkl\")\n",
    "payment_feature = pd.read_pickle(data_path+\"payment_feature.pkl\")\n",
    "app_prev_feature = pd.read_pickle(data_path+\"app_prev_feature.pkl\")"
   ]
  },
  {
   "cell_type": "markdown",
   "id": "43364a21",
   "metadata": {},
   "source": [
    "### Evaluate"
   ]
  },
  {
   "cell_type": "code",
   "execution_count": 4,
   "id": "f218b6d3",
   "metadata": {},
   "outputs": [],
   "source": [
    "from sklearn.model_selection import train_test_split\n",
    "\n",
    "import evaluate_with_lightgbm\n",
    "\n",
    "auc_dic = {}"
   ]
  },
  {
   "cell_type": "code",
   "execution_count": 5,
   "id": "87e9f4d4",
   "metadata": {},
   "outputs": [
    {
     "name": "stderr",
     "output_type": "stream",
     "text": [
      "/Users/dane.ahn/anaconda3/lib/python3.8/site-packages/lightgbm/engine.py:181: UserWarning: 'early_stopping_rounds' argument is deprecated and will be removed in a future release of LightGBM. Pass 'early_stopping()' callback via 'callbacks' argument instead.\n",
      "  _log_warning(\"'early_stopping_rounds' argument is deprecated and will be removed in a future release of LightGBM. \"\n",
      "/Users/dane.ahn/anaconda3/lib/python3.8/site-packages/lightgbm/engine.py:239: UserWarning: 'verbose_eval' argument is deprecated and will be removed in a future release of LightGBM. Pass 'log_evaluation()' callback via 'callbacks' argument instead.\n",
      "  _log_warning(\"'verbose_eval' argument is deprecated and will be removed in a future release of LightGBM. \"\n"
     ]
    },
    {
     "name": "stdout",
     "output_type": "stream",
     "text": [
      "[LightGBM] [Warning] objective is set=binary, application=binary will be ignored. Current value: objective=binary\n",
      "[LightGBM] [Warning] objective is set=binary, application=binary will be ignored. Current value: objective=binary\n",
      "[LightGBM] [Info] Number of positive: 15822, number of negative: 180984\n",
      "[LightGBM] [Warning] Auto-choosing row-wise multi-threading, the overhead of testing was 0.032285 seconds.\n",
      "You can set `force_row_wise=true` to remove the overhead.\n",
      "And if memory is not enough, you can set `force_col_wise=true`.\n",
      "[LightGBM] [Info] Total Bins 11288\n",
      "[LightGBM] [Info] Number of data points in the train set: 196806, number of used features: 115\n",
      "[LightGBM] [Warning] objective is set=binary, application=binary will be ignored. Current value: objective=binary\n",
      "[LightGBM] [Info] [binary:BoostFromScore]: pavg=0.080394 -> initscore=-2.437007\n",
      "[LightGBM] [Info] Start training from score -2.437007\n",
      "Training until validation scores don't improve for 100 rounds\n",
      "[20]\tvalid_0's auc: 0.741059\n",
      "[40]\tvalid_0's auc: 0.745593\n",
      "[60]\tvalid_0's auc: 0.75095\n",
      "[80]\tvalid_0's auc: 0.753093\n",
      "[100]\tvalid_0's auc: 0.754959\n",
      "[120]\tvalid_0's auc: 0.755631\n",
      "[140]\tvalid_0's auc: 0.756164\n",
      "[160]\tvalid_0's auc: 0.756693\n",
      "[180]\tvalid_0's auc: 0.756629\n",
      "[200]\tvalid_0's auc: 0.756927\n",
      "[220]\tvalid_0's auc: 0.756827\n",
      "[240]\tvalid_0's auc: 0.756746\n",
      "[260]\tvalid_0's auc: 0.757038\n",
      "[LightGBM] [Warning] No further splits with positive gain, best gain: -inf\n",
      "[280]\tvalid_0's auc: 0.757147\n",
      "[300]\tvalid_0's auc: 0.75714\n",
      "[320]\tvalid_0's auc: 0.756978\n",
      "[340]\tvalid_0's auc: 0.756979\n",
      "[LightGBM] [Warning] No further splits with positive gain, best gain: -inf\n",
      "[360]\tvalid_0's auc: 0.757084\n",
      "[380]\tvalid_0's auc: 0.757025\n",
      "Early stopping, best iteration is:\n",
      "[289]\tvalid_0's auc: 0.757298\n",
      "Train Confusion Matrix\n",
      "[[165773  60328]\n",
      " [  4941  14966]] \n",
      "\n",
      "Test Confusion Matrix\n",
      "[[41021 15564]\n",
      " [ 1736  3182]] \n",
      "\n"
     ]
    },
    {
     "data": {
      "image/png": "[encoded data removed]",
      "text/plain": [
       "<Figure size 432x288 with 1 Axes>"
      ]
     },
     "metadata": {
      "needs_background": "light"
     },
     "output_type": "display_data"
    },
    {
     "name": "stdout",
     "output_type": "stream",
     "text": [
      "AUC on train: 0.8228\n",
      "AUC on test: 0.7555\n",
      "f1_score on train: 0.3144\n",
      "f1_score on test: 0.2689\n"
     ]
    }
   ],
   "source": [
    "df = app.loc[app['type'] == 'train'].drop('type', axis=1).reset_index(drop=True)\n",
    "X_train, X_test, y_train, y_test = train_test_split(\n",
    "    df.drop(['application_id_current', 'target'], axis=1), df['target'], test_size=0.2\n",
    ")\n",
    "auc_dic['app_only'] = evaluate_with_lightgbm.run(X_train, X_test, y_train, y_test)"
   ]
  },
  {
   "cell_type": "code",
   "execution_count": 6,
   "id": "0d3abffd",
   "metadata": {},
   "outputs": [
    {
     "name": "stderr",
     "output_type": "stream",
     "text": [
      "/Users/dane.ahn/anaconda3/lib/python3.8/site-packages/lightgbm/engine.py:181: UserWarning: 'early_stopping_rounds' argument is deprecated and will be removed in a future release of LightGBM. Pass 'early_stopping()' callback via 'callbacks' argument instead.\n",
      "  _log_warning(\"'early_stopping_rounds' argument is deprecated and will be removed in a future release of LightGBM. \"\n",
      "/Users/dane.ahn/anaconda3/lib/python3.8/site-packages/lightgbm/engine.py:239: UserWarning: 'verbose_eval' argument is deprecated and will be removed in a future release of LightGBM. Pass 'log_evaluation()' callback via 'callbacks' argument instead.\n",
      "  _log_warning(\"'verbose_eval' argument is deprecated and will be removed in a future release of LightGBM. \"\n"
     ]
    },
    {
     "name": "stdout",
     "output_type": "stream",
     "text": [
      "[LightGBM] [Warning] objective is set=binary, application=binary will be ignored. Current value: objective=binary\n",
      "[LightGBM] [Warning] objective is set=binary, application=binary will be ignored. Current value: objective=binary\n",
      "[LightGBM] [Info] Number of positive: 15783, number of negative: 181023\n",
      "[LightGBM] [Warning] Auto-choosing row-wise multi-threading, the overhead of testing was 0.054832 seconds.\n",
      "You can set `force_row_wise=true` to remove the overhead.\n",
      "And if memory is not enough, you can set `force_col_wise=true`.\n",
      "[LightGBM] [Info] Total Bins 22302\n",
      "[LightGBM] [Info] Number of data points in the train set: 196806, number of used features: 169\n",
      "[LightGBM] [Warning] objective is set=binary, application=binary will be ignored. Current value: objective=binary\n",
      "[LightGBM] [Info] [binary:BoostFromScore]: pavg=0.080196 -> initscore=-2.439691\n",
      "[LightGBM] [Info] Start training from score -2.439691\n",
      "Training until validation scores don't improve for 100 rounds\n",
      "[20]\tvalid_0's auc: 0.739603\n",
      "[40]\tvalid_0's auc: 0.744781\n",
      "[60]\tvalid_0's auc: 0.749546\n",
      "[80]\tvalid_0's auc: 0.752831\n",
      "[100]\tvalid_0's auc: 0.754457\n",
      "[120]\tvalid_0's auc: 0.755785\n",
      "[140]\tvalid_0's auc: 0.756281\n",
      "[160]\tvalid_0's auc: 0.756737\n",
      "[180]\tvalid_0's auc: 0.756814\n",
      "[200]\tvalid_0's auc: 0.756923\n",
      "[220]\tvalid_0's auc: 0.757112\n",
      "[LightGBM] [Warning] No further splits with positive gain, best gain: -inf\n",
      "[240]\tvalid_0's auc: 0.756975\n",
      "[LightGBM] [Warning] No further splits with positive gain, best gain: -inf\n",
      "[260]\tvalid_0's auc: 0.75679\n",
      "[280]\tvalid_0's auc: 0.75685\n",
      "[LightGBM] [Warning] No further splits with positive gain, best gain: -inf\n",
      "[300]\tvalid_0's auc: 0.75698\n",
      "[320]\tvalid_0's auc: 0.756573\n",
      "Early stopping, best iteration is:\n",
      "[221]\tvalid_0's auc: 0.757141\n",
      "Train Confusion Matrix\n",
      "[[165190  61002]\n",
      " [  5067  14749]] \n",
      "\n",
      "Test Confusion Matrix\n",
      "[[41035 15459]\n",
      " [ 1653  3356]] \n",
      "\n"
     ]
    },
    {
     "data": {
      "image/png": "[encoded data removed]",
      "text/plain": [
       "<Figure size 432x288 with 1 Axes>"
      ]
     },
     "metadata": {
      "needs_background": "light"
     },
     "output_type": "display_data"
    },
    {
     "name": "stdout",
     "output_type": "stream",
     "text": [
      "AUC on train: 0.8154\n",
      "AUC on test: 0.7647\n",
      "f1_score on train: 0.3087\n",
      "f1_score on test: 0.2817\n"
     ]
    }
   ],
   "source": [
    "## ADD BALANCE\n",
    "df = app.loc[app['type'] == 'train'].drop(\"type\", axis=1).reset_index(drop=True)\n",
    "df = df.merge(balance_feature, on=\"application_id_current\", how='left')\n",
    "\n",
    "df = df.rename(columns = lambda x:re.sub('[^A-Za-z0-9_]+', '', x))\n",
    "\n",
    "X_train, X_test, y_train, y_test = train_test_split(\n",
    "    df.drop(['application_id_current', 'target'], axis=1), df['target'], test_size=0.2\n",
    ")\n",
    "auc_dic['app_balance'] = evaluate_with_lightgbm.run(X_train, X_test, y_train, y_test)"
   ]
  },
  {
   "cell_type": "code",
   "execution_count": 7,
   "id": "2e9b7011",
   "metadata": {},
   "outputs": [
    {
     "name": "stderr",
     "output_type": "stream",
     "text": [
      "/Users/dane.ahn/anaconda3/lib/python3.8/site-packages/lightgbm/engine.py:181: UserWarning: 'early_stopping_rounds' argument is deprecated and will be removed in a future release of LightGBM. Pass 'early_stopping()' callback via 'callbacks' argument instead.\n",
      "  _log_warning(\"'early_stopping_rounds' argument is deprecated and will be removed in a future release of LightGBM. \"\n",
      "/Users/dane.ahn/anaconda3/lib/python3.8/site-packages/lightgbm/engine.py:239: UserWarning: 'verbose_eval' argument is deprecated and will be removed in a future release of LightGBM. Pass 'log_evaluation()' callback via 'callbacks' argument instead.\n",
      "  _log_warning(\"'verbose_eval' argument is deprecated and will be removed in a future release of LightGBM. \"\n"
     ]
    },
    {
     "name": "stdout",
     "output_type": "stream",
     "text": [
      "[LightGBM] [Warning] objective is set=binary, application=binary will be ignored. Current value: objective=binary\n",
      "[LightGBM] [Warning] objective is set=binary, application=binary will be ignored. Current value: objective=binary\n",
      "[LightGBM] [Info] Number of positive: 15786, number of negative: 181020\n",
      "[LightGBM] [Warning] Auto-choosing row-wise multi-threading, the overhead of testing was 0.054428 seconds.\n",
      "You can set `force_row_wise=true` to remove the overhead.\n",
      "And if memory is not enough, you can set `force_col_wise=true`.\n",
      "[LightGBM] [Info] Total Bins 28607\n",
      "[LightGBM] [Info] Number of data points in the train set: 196806, number of used features: 210\n",
      "[LightGBM] [Warning] objective is set=binary, application=binary will be ignored. Current value: objective=binary\n",
      "[LightGBM] [Info] [binary:BoostFromScore]: pavg=0.080211 -> initscore=-2.439484\n",
      "[LightGBM] [Info] Start training from score -2.439484\n",
      "Training until validation scores don't improve for 100 rounds\n",
      "[20]\tvalid_0's auc: 0.745676\n",
      "[40]\tvalid_0's auc: 0.753217\n",
      "[60]\tvalid_0's auc: 0.758556\n",
      "[80]\tvalid_0's auc: 0.761702\n",
      "[100]\tvalid_0's auc: 0.763995\n",
      "[120]\tvalid_0's auc: 0.765632\n",
      "[140]\tvalid_0's auc: 0.766815\n",
      "[160]\tvalid_0's auc: 0.76745\n",
      "[LightGBM] [Warning] No further splits with positive gain, best gain: -inf\n",
      "[LightGBM] [Warning] No further splits with positive gain, best gain: -inf\n",
      "[180]\tvalid_0's auc: 0.767861\n",
      "[200]\tvalid_0's auc: 0.767875\n",
      "[220]\tvalid_0's auc: 0.767944\n",
      "[240]\tvalid_0's auc: 0.767833\n",
      "[260]\tvalid_0's auc: 0.767835\n",
      "[280]\tvalid_0's auc: 0.767796\n",
      "[LightGBM] [Warning] No further splits with positive gain, best gain: -inf\n",
      "[300]\tvalid_0's auc: 0.767967\n",
      "[320]\tvalid_0's auc: 0.768057\n",
      "[LightGBM] [Warning] No further splits with positive gain, best gain: -inf\n",
      "[LightGBM] [Warning] No further splits with positive gain, best gain: -inf\n",
      "[LightGBM] [Warning] No further splits with positive gain, best gain: -inf\n",
      "[LightGBM] [Warning] No further splits with positive gain, best gain: -inf\n",
      "[340]\tvalid_0's auc: 0.767763\n",
      "[360]\tvalid_0's auc: 0.767638\n",
      "[380]\tvalid_0's auc: 0.767783\n",
      "[400]\tvalid_0's auc: 0.767636\n",
      "Early stopping, best iteration is:\n",
      "[319]\tvalid_0's auc: 0.768063\n",
      "Train Confusion Matrix\n",
      "[[170141  56038]\n",
      " [  4531  15298]] \n",
      "\n",
      "Test Confusion Matrix\n",
      "[[41933 14574]\n",
      " [ 1724  3272]] \n",
      "\n"
     ]
    },
    {
     "data": {
      "image/png": "[encoded data removed]",
      "text/plain": [
       "<Figure size 432x288 with 1 Axes>"
      ]
     },
     "metadata": {
      "needs_background": "light"
     },
     "output_type": "display_data"
    },
    {
     "name": "stdout",
     "output_type": "stream",
     "text": [
      "AUC on train: 0.8419\n",
      "AUC on test: 0.7674\n",
      "f1_score on train: 0.3356\n",
      "f1_score on test: 0.2865\n"
     ]
    }
   ],
   "source": [
    "## ADD CREDIT\n",
    "df = df.merge(credit_feature, on=\"application_id_current\", how='left')\n",
    "\n",
    "df = df.rename(columns = lambda x:re.sub('[^A-Za-z0-9_]+', '', x))\n",
    "\n",
    "X_train, X_test, y_train, y_test = train_test_split(\n",
    "    df.drop(['application_id_current', 'target'], axis=1), df['target'], test_size=0.2\n",
    ")\n",
    "auc_dic['app_balance_credit'] = evaluate_with_lightgbm.run(X_train, X_test, y_train, y_test)"
   ]
  },
  {
   "cell_type": "code",
   "execution_count": 8,
   "id": "54f55830",
   "metadata": {},
   "outputs": [
    {
     "name": "stderr",
     "output_type": "stream",
     "text": [
      "/Users/dane.ahn/anaconda3/lib/python3.8/site-packages/lightgbm/engine.py:181: UserWarning: 'early_stopping_rounds' argument is deprecated and will be removed in a future release of LightGBM. Pass 'early_stopping()' callback via 'callbacks' argument instead.\n",
      "  _log_warning(\"'early_stopping_rounds' argument is deprecated and will be removed in a future release of LightGBM. \"\n",
      "/Users/dane.ahn/anaconda3/lib/python3.8/site-packages/lightgbm/engine.py:239: UserWarning: 'verbose_eval' argument is deprecated and will be removed in a future release of LightGBM. Pass 'log_evaluation()' callback via 'callbacks' argument instead.\n",
      "  _log_warning(\"'verbose_eval' argument is deprecated and will be removed in a future release of LightGBM. \"\n"
     ]
    },
    {
     "name": "stdout",
     "output_type": "stream",
     "text": [
      "[LightGBM] [Warning] objective is set=binary, application=binary will be ignored. Current value: objective=binary\n",
      "[LightGBM] [Warning] objective is set=binary, application=binary will be ignored. Current value: objective=binary\n",
      "[LightGBM] [Info] Number of positive: 15937, number of negative: 180869\n",
      "[LightGBM] [Warning] Auto-choosing col-wise multi-threading, the overhead of testing was 0.125480 seconds.\n",
      "You can set `force_col_wise=true` to remove the overhead.\n",
      "[LightGBM] [Info] Total Bins 31788\n",
      "[LightGBM] [Info] Number of data points in the train set: 196806, number of used features: 221\n",
      "[LightGBM] [Warning] objective is set=binary, application=binary will be ignored. Current value: objective=binary\n",
      "[LightGBM] [Info] [binary:BoostFromScore]: pavg=0.080978 -> initscore=-2.429130\n",
      "[LightGBM] [Info] Start training from score -2.429130\n",
      "Training until validation scores don't improve for 100 rounds\n",
      "[20]\tvalid_0's auc: 0.748452\n",
      "[40]\tvalid_0's auc: 0.755752\n",
      "[60]\tvalid_0's auc: 0.761316\n",
      "[80]\tvalid_0's auc: 0.76539\n",
      "[100]\tvalid_0's auc: 0.768136\n",
      "[120]\tvalid_0's auc: 0.769975\n",
      "[140]\tvalid_0's auc: 0.771183\n",
      "[160]\tvalid_0's auc: 0.772018\n",
      "[180]\tvalid_0's auc: 0.772666\n",
      "[200]\tvalid_0's auc: 0.773117\n",
      "[220]\tvalid_0's auc: 0.773478\n",
      "[240]\tvalid_0's auc: 0.773442\n",
      "[LightGBM] [Warning] No further splits with positive gain, best gain: -inf\n",
      "[260]\tvalid_0's auc: 0.773578\n",
      "[LightGBM] [Warning] No further splits with positive gain, best gain: -inf\n",
      "[280]\tvalid_0's auc: 0.77343\n",
      "[300]\tvalid_0's auc: 0.773299\n",
      "[320]\tvalid_0's auc: 0.773469\n",
      "[340]\tvalid_0's auc: 0.773366\n",
      "[360]\tvalid_0's auc: 0.773547\n",
      "Early stopping, best iteration is:\n",
      "[263]\tvalid_0's auc: 0.773627\n",
      "Train Confusion Matrix\n",
      "[[168693  57419]\n",
      " [  4541  15355]] \n",
      "\n",
      "Test Confusion Matrix\n",
      "[[41698 14876]\n",
      " [ 1660  3269]] \n",
      "\n"
     ]
    },
    {
     "data": {
      "image/png": "[encoded data removed]",
      "text/plain": [
       "<Figure size 432x288 with 1 Axes>"
      ]
     },
     "metadata": {
      "needs_background": "light"
     },
     "output_type": "display_data"
    },
    {
     "name": "stdout",
     "output_type": "stream",
     "text": [
      "AUC on train: 0.8392\n",
      "AUC on test: 0.7701\n",
      "f1_score on train: 0.3314\n",
      "f1_score on test: 0.2833\n"
     ]
    }
   ],
   "source": [
    "## ADD PAYMENT\n",
    "df = df.merge(payment_feature, on=\"application_id_current\", how='left')\n",
    "\n",
    "df = df.rename(columns = lambda x:re.sub('[^A-Za-z0-9_]+', '', x))\n",
    "\n",
    "X_train, X_test, y_train, y_test = train_test_split(\n",
    "    df.drop(['application_id_current', 'target'], axis=1), df['target'], test_size=0.2\n",
    ")\n",
    "auc_dic['app_balance_credit_payment'] = evaluate_with_lightgbm.run(X_train, X_test, y_train, y_test)"
   ]
  },
  {
   "cell_type": "code",
   "execution_count": 9,
   "id": "f279ad2e",
   "metadata": {},
   "outputs": [
    {
     "name": "stderr",
     "output_type": "stream",
     "text": [
      "/Users/dane.ahn/anaconda3/lib/python3.8/site-packages/lightgbm/engine.py:181: UserWarning: 'early_stopping_rounds' argument is deprecated and will be removed in a future release of LightGBM. Pass 'early_stopping()' callback via 'callbacks' argument instead.\n",
      "  _log_warning(\"'early_stopping_rounds' argument is deprecated and will be removed in a future release of LightGBM. \"\n",
      "/Users/dane.ahn/anaconda3/lib/python3.8/site-packages/lightgbm/engine.py:239: UserWarning: 'verbose_eval' argument is deprecated and will be removed in a future release of LightGBM. Pass 'log_evaluation()' callback via 'callbacks' argument instead.\n",
      "  _log_warning(\"'verbose_eval' argument is deprecated and will be removed in a future release of LightGBM. \"\n"
     ]
    },
    {
     "name": "stdout",
     "output_type": "stream",
     "text": [
      "[LightGBM] [Warning] objective is set=binary, application=binary will be ignored. Current value: objective=binary\n",
      "[LightGBM] [Warning] objective is set=binary, application=binary will be ignored. Current value: objective=binary\n",
      "[LightGBM] [Info] Number of positive: 15905, number of negative: 180901\n",
      "[LightGBM] [Warning] Auto-choosing col-wise multi-threading, the overhead of testing was 0.230203 seconds.\n",
      "You can set `force_col_wise=true` to remove the overhead.\n",
      "[LightGBM] [Info] Total Bins 50910\n",
      "[LightGBM] [Info] Number of data points in the train set: 196806, number of used features: 493\n",
      "[LightGBM] [Warning] objective is set=binary, application=binary will be ignored. Current value: objective=binary\n",
      "[LightGBM] [Info] [binary:BoostFromScore]: pavg=0.080816 -> initscore=-2.431316\n",
      "[LightGBM] [Info] Start training from score -2.431316\n",
      "Training until validation scores don't improve for 100 rounds\n",
      "[20]\tvalid_0's auc: 0.742056\n",
      "[40]\tvalid_0's auc: 0.750766\n",
      "[60]\tvalid_0's auc: 0.757536\n",
      "[80]\tvalid_0's auc: 0.761436\n",
      "[100]\tvalid_0's auc: 0.764361\n",
      "[120]\tvalid_0's auc: 0.76644\n",
      "[140]\tvalid_0's auc: 0.7678\n",
      "[160]\tvalid_0's auc: 0.768195\n",
      "[180]\tvalid_0's auc: 0.768839\n",
      "[200]\tvalid_0's auc: 0.769282\n",
      "[220]\tvalid_0's auc: 0.76952\n",
      "[240]\tvalid_0's auc: 0.769764\n",
      "[260]\tvalid_0's auc: 0.770239\n",
      "[280]\tvalid_0's auc: 0.770254\n",
      "[300]\tvalid_0's auc: 0.770108\n",
      "[320]\tvalid_0's auc: 0.769973\n",
      "[340]\tvalid_0's auc: 0.769852\n",
      "[360]\tvalid_0's auc: 0.769753\n",
      "Early stopping, best iteration is:\n",
      "[266]\tvalid_0's auc: 0.770346\n",
      "Train Confusion Matrix\n",
      "[[170978  55203]\n",
      " [  4339  15488]] \n",
      "\n",
      "Test Confusion Matrix\n",
      "[[42211 14294]\n",
      " [ 1680  3318]] \n",
      "\n"
     ]
    },
    {
     "data": {
      "image/png": "[encoded data removed]",
      "text/plain": [
       "<Figure size 432x288 with 1 Axes>"
      ]
     },
     "metadata": {
      "needs_background": "light"
     },
     "output_type": "display_data"
    },
    {
     "name": "stdout",
     "output_type": "stream",
     "text": [
      "AUC on train: 0.8475\n",
      "AUC on test: 0.7753\n",
      "f1_score on train: 0.3422\n",
      "f1_score on test: 0.2935\n"
     ]
    }
   ],
   "source": [
    "## ADD APP_PREV\n",
    "df = df.merge(app_prev_feature, on=\"application_id_current\", how='left')\n",
    "\n",
    "df = df.rename(columns = lambda x:re.sub('[^A-Za-z0-9_]+', '', x))\n",
    "\n",
    "X_train, X_test, y_train, y_test = train_test_split(\n",
    "    df.drop(['application_id_current', 'target'], axis=1), df['target'], test_size=0.2\n",
    ")\n",
    "auc_dic['all_features'] = evaluate_with_lightgbm.run(X_train, X_test, y_train, y_test)"
   ]
  },
  {
   "cell_type": "code",
   "execution_count": 10,
   "id": "b352a612",
   "metadata": {},
   "outputs": [
    {
     "name": "stderr",
     "output_type": "stream",
     "text": [
      "/Users/dane.ahn/anaconda3/lib/python3.8/site-packages/lightgbm/engine.py:181: UserWarning: 'early_stopping_rounds' argument is deprecated and will be removed in a future release of LightGBM. Pass 'early_stopping()' callback via 'callbacks' argument instead.\n",
      "  _log_warning(\"'early_stopping_rounds' argument is deprecated and will be removed in a future release of LightGBM. \"\n",
      "/Users/dane.ahn/anaconda3/lib/python3.8/site-packages/lightgbm/engine.py:239: UserWarning: 'verbose_eval' argument is deprecated and will be removed in a future release of LightGBM. Pass 'log_evaluation()' callback via 'callbacks' argument instead.\n",
      "  _log_warning(\"'verbose_eval' argument is deprecated and will be removed in a future release of LightGBM. \"\n"
     ]
    },
    {
     "name": "stdout",
     "output_type": "stream",
     "text": [
      "[LightGBM] [Warning] objective is set=binary, application=binary will be ignored. Current value: objective=binary\n",
      "[LightGBM] [Warning] objective is set=binary, application=binary will be ignored. Current value: objective=binary\n",
      "[LightGBM] [Info] Number of positive: 15856, number of negative: 180950\n",
      "[LightGBM] [Warning] Auto-choosing col-wise multi-threading, the overhead of testing was 0.371299 seconds.\n",
      "You can set `force_col_wise=true` to remove the overhead.\n",
      "[LightGBM] [Info] Total Bins 50921\n",
      "[LightGBM] [Info] Number of data points in the train set: 196806, number of used features: 493\n",
      "[LightGBM] [Warning] objective is set=binary, application=binary will be ignored. Current value: objective=binary\n",
      "[LightGBM] [Info] [binary:BoostFromScore]: pavg=0.080567 -> initscore=-2.434673\n",
      "[LightGBM] [Info] Start training from score -2.434673\n",
      "Training until validation scores don't improve for 100 rounds\n",
      "[20]\tvalid_0's auc: 0.748695\n",
      "[40]\tvalid_0's auc: 0.757672\n",
      "[60]\tvalid_0's auc: 0.763717\n",
      "[80]\tvalid_0's auc: 0.767412\n",
      "[100]\tvalid_0's auc: 0.770336\n",
      "[120]\tvalid_0's auc: 0.772404\n",
      "[140]\tvalid_0's auc: 0.773899\n",
      "[160]\tvalid_0's auc: 0.774924\n",
      "[180]\tvalid_0's auc: 0.7756\n",
      "[200]\tvalid_0's auc: 0.775951\n",
      "[220]\tvalid_0's auc: 0.776305\n",
      "[240]\tvalid_0's auc: 0.776287\n",
      "[260]\tvalid_0's auc: 0.776507\n",
      "[LightGBM] [Warning] No further splits with positive gain, best gain: -inf\n",
      "[280]\tvalid_0's auc: 0.776427\n",
      "[300]\tvalid_0's auc: 0.776587\n",
      "[LightGBM] [Warning] No further splits with positive gain, best gain: -inf\n",
      "[LightGBM] [Warning] No further splits with positive gain, best gain: -inf\n",
      "[320]\tvalid_0's auc: 0.776599\n",
      "[LightGBM] [Warning] No further splits with positive gain, best gain: -inf\n",
      "[340]\tvalid_0's auc: 0.776872\n",
      "[360]\tvalid_0's auc: 0.776603\n",
      "[380]\tvalid_0's auc: 0.776505\n",
      "[400]\tvalid_0's auc: 0.776275\n",
      "[420]\tvalid_0's auc: 0.776506\n",
      "[440]\tvalid_0's auc: 0.776426\n",
      "Early stopping, best iteration is:\n",
      "[340]\tvalid_0's auc: 0.776872\n",
      "[LightGBM] [Warning] objective is set=binary, application=binary will be ignored. Current value: objective=binary\n",
      "[LightGBM] [Warning] objective is set=binary, application=binary will be ignored. Current value: objective=binary\n",
      "[LightGBM] [Info] Number of positive: 15856, number of negative: 180950\n",
      "[LightGBM] [Warning] Auto-choosing col-wise multi-threading, the overhead of testing was 0.049601 seconds.\n",
      "You can set `force_col_wise=true` to remove the overhead.\n",
      "[LightGBM] [Info] Total Bins 21254\n",
      "[LightGBM] [Info] Number of data points in the train set: 196806, number of used features: 99\n",
      "[LightGBM] [Warning] objective is set=binary, application=binary will be ignored. Current value: objective=binary\n",
      "[LightGBM] [Info] [binary:BoostFromScore]: pavg=0.080567 -> initscore=-2.434673\n",
      "[LightGBM] [Info] Start training from score -2.434673\n",
      "Training until validation scores don't improve for 100 rounds\n",
      "[20]\tvalid_0's auc: 0.750835\n",
      "[40]\tvalid_0's auc: 0.757301\n",
      "[60]\tvalid_0's auc: 0.763357\n",
      "[80]\tvalid_0's auc: 0.766762\n",
      "[100]\tvalid_0's auc: 0.76943\n",
      "[120]\tvalid_0's auc: 0.770772\n",
      "[140]\tvalid_0's auc: 0.772165\n",
      "[160]\tvalid_0's auc: 0.772998\n",
      "[180]\tvalid_0's auc: 0.773539\n",
      "[200]\tvalid_0's auc: 0.774077\n",
      "[220]\tvalid_0's auc: 0.774612\n",
      "[240]\tvalid_0's auc: 0.774586\n",
      "[260]\tvalid_0's auc: 0.774926\n",
      "[280]\tvalid_0's auc: 0.774964\n",
      "[300]\tvalid_0's auc: 0.774989\n",
      "[320]\tvalid_0's auc: 0.775148\n",
      "[340]\tvalid_0's auc: 0.775038\n",
      "[360]\tvalid_0's auc: 0.774893\n",
      "[380]\tvalid_0's auc: 0.774625\n",
      "[400]\tvalid_0's auc: 0.774506\n",
      "Early stopping, best iteration is:\n",
      "[319]\tvalid_0's auc: 0.775163\n",
      "Train Confusion Matrix\n",
      "[[172234  53947]\n",
      " [  4240  15587]] \n",
      "\n",
      "Test Confusion Matrix\n",
      "[[42458 14047]\n",
      " [ 1733  3265]] \n",
      "\n"
     ]
    },
    {
     "data": {
      "image/png": "[encoded data removed]",
      "text/plain": [
       "<Figure size 432x288 with 1 Axes>"
      ]
     },
     "metadata": {
      "needs_background": "light"
     },
     "output_type": "display_data"
    },
    {
     "name": "stdout",
     "output_type": "stream",
     "text": [
      "AUC on train: 0.8541\n",
      "AUC on test: 0.7749\n",
      "f1_score on train: 0.3489\n",
      "f1_score on test: 0.2927\n"
     ]
    }
   ],
   "source": [
    "## ALL WITH FEATURE SELECTION\n",
    "auc_dic['feature_importance_filted'] = evaluate_with_lightgbm.run(X_train, X_test, y_train, y_test, X_train.shape[1] // 5)"
   ]
  },
  {
   "cell_type": "markdown",
   "id": "36e59fed",
   "metadata": {},
   "source": [
    "### Final result"
   ]
  },
  {
   "cell_type": "code",
   "execution_count": 11,
   "id": "b4e99ab0",
   "metadata": {},
   "outputs": [
    {
     "data": {
      "text/html": [
       "<div>\n",
       "<style scoped>\n",
       "    .dataframe tbody tr th:only-of-type {\n",
       "        vertical-align: middle;\n",
       "    }\n",
       "\n",
       "    .dataframe tbody tr th {\n",
       "        vertical-align: top;\n",
       "    }\n",
       "\n",
       "    .dataframe thead th {\n",
       "        text-align: right;\n",
       "    }\n",
       "</style>\n",
       "<table border=\"1\" class=\"dataframe\">\n",
       "  <thead>\n",
       "    <tr style=\"text-align: right;\">\n",
       "      <th></th>\n",
       "      <th>index</th>\n",
       "      <th>0</th>\n",
       "    </tr>\n",
       "  </thead>\n",
       "  <tbody>\n",
       "    <tr>\n",
       "      <th>0</th>\n",
       "      <td>app_only</td>\n",
       "      <td>0.755476</td>\n",
       "    </tr>\n",
       "    <tr>\n",
       "      <th>1</th>\n",
       "      <td>app_balance</td>\n",
       "      <td>0.764705</td>\n",
       "    </tr>\n",
       "    <tr>\n",
       "      <th>2</th>\n",
       "      <td>app_balance_credit</td>\n",
       "      <td>0.767372</td>\n",
       "    </tr>\n",
       "    <tr>\n",
       "      <th>3</th>\n",
       "      <td>app_balance_credit_payment</td>\n",
       "      <td>0.770142</td>\n",
       "    </tr>\n",
       "    <tr>\n",
       "      <th>4</th>\n",
       "      <td>feature_importance_filted</td>\n",
       "      <td>0.774883</td>\n",
       "    </tr>\n",
       "    <tr>\n",
       "      <th>5</th>\n",
       "      <td>all_features</td>\n",
       "      <td>0.775250</td>\n",
       "    </tr>\n",
       "  </tbody>\n",
       "</table>\n",
       "</div>"
      ],
      "text/plain": [
       "                        index         0\n",
       "0                    app_only  0.755476\n",
       "1                 app_balance  0.764705\n",
       "2          app_balance_credit  0.767372\n",
       "3  app_balance_credit_payment  0.770142\n",
       "4   feature_importance_filted  0.774883\n",
       "5                all_features  0.775250"
      ]
     },
     "execution_count": 11,
     "metadata": {},
     "output_type": "execute_result"
    }
   ],
   "source": [
    "pd.Series(auc_dic).sort_values().reset_index()"
   ]
  },
  {
   "cell_type": "markdown",
   "id": "300822bb",
   "metadata": {},
   "source": [
    "### BO"
   ]
  },
  {
   "cell_type": "code",
   "execution_count": 12,
   "id": "e609be77",
   "metadata": {},
   "outputs": [],
   "source": [
    "import lightgbm as lgb\n",
    "from bayes_opt import BayesianOptimization"
   ]
  },
  {
   "cell_type": "code",
   "execution_count": 13,
   "id": "793bd9da",
   "metadata": {},
   "outputs": [],
   "source": [
    "import warnings\n",
    "warnings.filterwarnings(\"ignore\")"
   ]
  },
  {
   "cell_type": "code",
   "execution_count": 14,
   "id": "d385789b",
   "metadata": {},
   "outputs": [],
   "source": [
    "categorical_feats = X_train.dtypes[X_train.dtypes == 'object'].index.tolist()"
   ]
  },
  {
   "cell_type": "code",
   "execution_count": 15,
   "id": "17fe1f18",
   "metadata": {},
   "outputs": [],
   "source": [
    "def bayes_parameter_opt_lgb(X, y, init_round=15, opt_round=25, n_folds=5, random_seed=6, n_estimators=10000, learning_rate=0.05, output_process=False):\n",
    "    # prepare data\n",
    "    train_data = lgb.Dataset(data=X, label=y, categorical_feature = categorical_feats, free_raw_data=False)\n",
    "    # parameters\n",
    "    def lgb_eval(num_leaves, feature_fraction, bagging_fraction, max_depth, lambda_l1, lambda_l2, min_split_gain, min_child_weight):\n",
    "        params = {'application':'binary','num_iterations': n_estimators, 'learning_rate':learning_rate, 'early_stopping_round':100, 'metric':'auc'}\n",
    "        params[\"num_leaves\"] = int(round(num_leaves))\n",
    "        params['feature_fraction'] = max(min(feature_fraction, 1), 0)\n",
    "        params['bagging_fraction'] = max(min(bagging_fraction, 1), 0)\n",
    "        params['max_depth'] = int(round(max_depth))\n",
    "        params['lambda_l1'] = max(lambda_l1, 0)\n",
    "        params['lambda_l2'] = max(lambda_l2, 0)\n",
    "        params['min_split_gain'] = min_split_gain\n",
    "        params['min_child_weight'] = min_child_weight\n",
    "        cv_result = lgb.cv(params, train_data, nfold=n_folds, seed=random_seed, stratified=True, verbose_eval =200, metrics=['auc'])\n",
    "        return max(cv_result['auc-mean'])\n",
    "    # range \n",
    "    lgbBO = BayesianOptimization(lgb_eval, {'num_leaves': (24, 45),\n",
    "                                            'feature_fraction': (0.1, 0.9),\n",
    "                                            'bagging_fraction': (0.8, 1),\n",
    "                                            'max_depth': (5, 8.99),\n",
    "                                            'lambda_l1': (0, 5),\n",
    "                                            'lambda_l2': (0, 3),\n",
    "                                            'min_split_gain': (0.001, 0.1),\n",
    "                                            'min_child_weight': (5, 50)}, random_state=0)\n",
    "    # optimize\n",
    "    lgbBO.maximize(init_points=init_round, n_iter=opt_round)\n",
    "    \n",
    "    # output optimization process\n",
    "    if output_process==True: lgbBO.points_to_csv(\"bayes_opt_result.csv\")\n",
    "    \n",
    "    # return best parameters\n",
    "    return lgbBO.res\n",
    "\n",
    "## 5분 내외 소요\n",
    "# opt_params = bayes_parameter_opt_lgb(X_train, y_train, init_round=5, opt_round=10, n_folds=3, random_seed=6, n_estimators=100, learning_rate=0.05)\n",
    "\n",
    "# pd.DataFrame(opt_params).nlargest(1, 'target')['params'].values[0]\n",
    "\"\"\"\n",
    "{'bagging_fraction': 0.9741567872981456,\n",
    " 'feature_fraction': 0.9,\n",
    " 'lambda_l1': 2.5291055896332906,\n",
    " 'lambda_l2': 0.0,\n",
    " 'max_depth': 8.99,\n",
    " 'min_child_weight': 36.880021622488194,\n",
    " 'min_split_gain': 0.1,\n",
    " 'num_leaves': 39.513362560906124}\n",
    " \"\"\""
   ]
  },
  {
   "cell_type": "markdown",
   "id": "78d07894",
   "metadata": {},
   "source": [
    "## Predict"
   ]
  },
  {
   "cell_type": "code",
   "execution_count": 17,
   "id": "546474cb",
   "metadata": {},
   "outputs": [],
   "source": [
    "import lightgbm"
   ]
  },
  {
   "cell_type": "code",
   "execution_count": 18,
   "id": "fd65d445",
   "metadata": {},
   "outputs": [],
   "source": [
    "submit_df = app[app['type'] == 'test'].drop('type', axis=1)\n",
    "\n",
    "submit_df = submit_df.merge(balance_feature, on=\"application_id_current\", how='left')\n",
    "submit_df = submit_df.merge(credit_feature, on=\"application_id_current\", how='left')\n",
    "submit_df = submit_df.merge(payment_feature, on=\"application_id_current\", how='left')\n",
    "submit_df = submit_df.merge(app_prev_feature, on=\"application_id_current\", how='left')\n",
    "\n",
    "submit_df = submit_df.rename(columns = lambda x:re.sub('[^A-Za-z0-9_]+', '', x))"
   ]
  },
  {
   "cell_type": "code",
   "execution_count": 19,
   "id": "6e235425",
   "metadata": {},
   "outputs": [
    {
     "name": "stdout",
     "output_type": "stream",
     "text": [
      "[LightGBM] [Warning] objective is set=binary, application=binary will be ignored. Current value: objective=binary\n",
      "[LightGBM] [Warning] objective is set=binary, application=binary will be ignored. Current value: objective=binary\n",
      "[LightGBM] [Info] Number of positive: 24825, number of negative: 282686\n",
      "[LightGBM] [Warning] Auto-choosing row-wise multi-threading, the overhead of testing was 0.220969 seconds.\n",
      "You can set `force_row_wise=true` to remove the overhead.\n",
      "And if memory is not enough, you can set `force_col_wise=true`.\n",
      "[LightGBM] [Info] Total Bins 50987\n",
      "[LightGBM] [Info] Number of data points in the train set: 307511, number of used features: 494\n",
      "[LightGBM] [Info] [binary:BoostFromScore]: pavg=0.080729 -> initscore=-2.432486\n",
      "[LightGBM] [Info] Start training from score -2.432486\n",
      "[LightGBM] [Warning] No further splits with positive gain, best gain: -inf\n",
      "[LightGBM] [Warning] No further splits with positive gain, best gain: -inf\n",
      "[LightGBM] [Warning] No further splits with positive gain, best gain: -inf\n",
      "[LightGBM] [Warning] No further splits with positive gain, best gain: -inf\n",
      "CPU times: user 6min 21s, sys: 15.4 s, total: 6min 36s\n",
      "Wall time: 33.7 s\n"
     ]
    }
   ],
   "source": [
    "%%time\n",
    "## missing은 handle하는 게 default\n",
    "train_data = lightgbm.Dataset(df.drop(['application_id_current', 'target'], axis=1), label=df['target'])\n",
    "\n",
    "parameters = evaluate_with_lightgbm._get_params()\n",
    "\n",
    "model = lightgbm.train(\n",
    "    parameters,\n",
    "    train_data,\n",
    "    num_boost_round=400,\n",
    "#     early_stopping_rounds=100,\n",
    "    verbose_eval=20\n",
    ")"
   ]
  },
  {
   "cell_type": "code",
   "execution_count": 20,
   "id": "b4e6e937",
   "metadata": {},
   "outputs": [],
   "source": [
    "submit_predict = model.predict(submit_df.drop(['application_id_current', 'target'], axis=1))\n",
    "\n",
    "submit_final = submit_df[['application_id_current']].assign(target=submit_predict)\n",
    "\n",
    "submit_final.to_csv(\"submission.csv\", index=None)"
   ]
  }
 ],
 "metadata": {
  "kernelspec": {
   "display_name": "Python 3",
   "language": "python",
   "name": "python3"
  },
  "language_info": {
   "codemirror_mode": {
    "name": "ipython",
    "version": 3
   },
   "file_extension": ".py",
   "mimetype": "text/x-python",
   "name": "python",
   "nbconvert_exporter": "python",
   "pygments_lexer": "ipython3",
   "version": "3.8.8"
  }
 },
 "nbformat": 4,
 "nbformat_minor": 5
}
