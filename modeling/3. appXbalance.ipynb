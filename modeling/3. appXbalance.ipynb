{
 "cells": [
  {
   "cell_type": "markdown",
   "id": "0d1516ed",
   "metadata": {},
   "source": [
    "- 추가적인 테이블인 balance로부터 피쳐를 뽑아봄\n",
    "- 하다보니 모든 테이블과 칼럼을 다 살펴볼 시간이 없음\n",
    "- 몇 개만 뽑아봤는데, 성능의 개선이 보이긴 함"
   ]
  },
  {
   "cell_type": "code",
   "execution_count": 1,
   "id": "c5e24a60",
   "metadata": {},
   "outputs": [],
   "source": [
    "from glob import glob\n",
    "\n",
    "import pandas as pd\n",
    "import numpy as np\n",
    "import matplotlib.pyplot as plt"
   ]
  },
  {
   "cell_type": "code",
   "execution_count": 2,
   "id": "ade8373d",
   "metadata": {},
   "outputs": [],
   "source": [
    "data_path = \"../take-home-interview/\""
   ]
  },
  {
   "cell_type": "code",
   "execution_count": 3,
   "id": "f571f079",
   "metadata": {},
   "outputs": [],
   "source": [
    "app = pd.read_csv(data_path + \"loan_application.csv\")\n",
    "balance = pd.read_csv(data_path + \"aave_loan_balance.csv\")"
   ]
  },
  {
   "cell_type": "code",
   "execution_count": 4,
   "id": "4ab0a093",
   "metadata": {},
   "outputs": [],
   "source": [
    "loan_count = balance.groupby(\"application_id_current\").size()"
   ]
  },
  {
   "cell_type": "code",
   "execution_count": 5,
   "id": "2a34b0d8",
   "metadata": {},
   "outputs": [],
   "source": [
    "app_status_count = (\n",
    "    balance.groupby(['application_id_current', 'name_contract_status']).size().reset_index(name='status_count')\n",
    "    .pivot(index='application_id_current', columns='name_contract_status', values='status_count')\n",
    "    .fillna(0).astype(int)\n",
    ")"
   ]
  },
  {
   "cell_type": "code",
   "execution_count": 6,
   "id": "5831e3d6",
   "metadata": {},
   "outputs": [
    {
     "data": {
      "text/html": [
       "<div>\n",
       "<style scoped>\n",
       "    .dataframe tbody tr th:only-of-type {\n",
       "        vertical-align: middle;\n",
       "    }\n",
       "\n",
       "    .dataframe tbody tr th {\n",
       "        vertical-align: top;\n",
       "    }\n",
       "\n",
       "    .dataframe thead th {\n",
       "        text-align: right;\n",
       "    }\n",
       "</style>\n",
       "<table border=\"1\" class=\"dataframe\">\n",
       "  <thead>\n",
       "    <tr style=\"text-align: right;\">\n",
       "      <th>name_contract_status</th>\n",
       "      <th>Active</th>\n",
       "      <th>Approved</th>\n",
       "      <th>Completed</th>\n",
       "      <th>Demand</th>\n",
       "      <th>Refused</th>\n",
       "      <th>Sent proposal</th>\n",
       "      <th>Signed</th>\n",
       "    </tr>\n",
       "    <tr>\n",
       "      <th>application_id_current</th>\n",
       "      <th></th>\n",
       "      <th></th>\n",
       "      <th></th>\n",
       "      <th></th>\n",
       "      <th></th>\n",
       "      <th></th>\n",
       "      <th></th>\n",
       "    </tr>\n",
       "  </thead>\n",
       "  <tbody>\n",
       "    <tr>\n",
       "      <th>100006</th>\n",
       "      <td>6</td>\n",
       "      <td>0</td>\n",
       "      <td>0</td>\n",
       "      <td>0</td>\n",
       "      <td>0</td>\n",
       "      <td>0</td>\n",
       "      <td>0</td>\n",
       "    </tr>\n",
       "    <tr>\n",
       "      <th>100011</th>\n",
       "      <td>74</td>\n",
       "      <td>0</td>\n",
       "      <td>0</td>\n",
       "      <td>0</td>\n",
       "      <td>0</td>\n",
       "      <td>0</td>\n",
       "      <td>0</td>\n",
       "    </tr>\n",
       "    <tr>\n",
       "      <th>100013</th>\n",
       "      <td>96</td>\n",
       "      <td>0</td>\n",
       "      <td>0</td>\n",
       "      <td>0</td>\n",
       "      <td>0</td>\n",
       "      <td>0</td>\n",
       "      <td>0</td>\n",
       "    </tr>\n",
       "    <tr>\n",
       "      <th>100021</th>\n",
       "      <td>7</td>\n",
       "      <td>0</td>\n",
       "      <td>10</td>\n",
       "      <td>0</td>\n",
       "      <td>0</td>\n",
       "      <td>0</td>\n",
       "      <td>0</td>\n",
       "    </tr>\n",
       "    <tr>\n",
       "      <th>100023</th>\n",
       "      <td>8</td>\n",
       "      <td>0</td>\n",
       "      <td>0</td>\n",
       "      <td>0</td>\n",
       "      <td>0</td>\n",
       "      <td>0</td>\n",
       "      <td>0</td>\n",
       "    </tr>\n",
       "  </tbody>\n",
       "</table>\n",
       "</div>"
      ],
      "text/plain": [
       "name_contract_status    Active  Approved  Completed  Demand  Refused  \\\n",
       "application_id_current                                                 \n",
       "100006                       6         0          0       0        0   \n",
       "100011                      74         0          0       0        0   \n",
       "100013                      96         0          0       0        0   \n",
       "100021                       7         0         10       0        0   \n",
       "100023                       8         0          0       0        0   \n",
       "\n",
       "name_contract_status    Sent proposal  Signed  \n",
       "application_id_current                         \n",
       "100006                              0       0  \n",
       "100011                              0       0  \n",
       "100013                              0       0  \n",
       "100021                              0       0  \n",
       "100023                              0       0  "
      ]
     },
     "execution_count": 6,
     "metadata": {},
     "output_type": "execute_result"
    }
   ],
   "source": [
    "app_status_count.head()"
   ]
  },
  {
   "cell_type": "code",
   "execution_count": 7,
   "id": "1085efd5",
   "metadata": {},
   "outputs": [],
   "source": [
    "app_min_month = balance.groupby(\"application_id_current\").months_balance.min()\n",
    "app_max_balance = balance.groupby(\"application_id_current\").amt_balance.max()"
   ]
  },
  {
   "cell_type": "markdown",
   "id": "1e15541f",
   "metadata": {},
   "source": [
    "### Aggregate, balance only"
   ]
  },
  {
   "cell_type": "code",
   "execution_count": 8,
   "id": "688d94dd",
   "metadata": {},
   "outputs": [],
   "source": [
    "import preprocess"
   ]
  },
  {
   "cell_type": "code",
   "execution_count": 9,
   "id": "3dd38006",
   "metadata": {},
   "outputs": [],
   "source": [
    "balance_feature_df = app_status_count"
   ]
  },
  {
   "cell_type": "code",
   "execution_count": 10,
   "id": "e8514567",
   "metadata": {},
   "outputs": [],
   "source": [
    "balance_feature_df = balance_feature_df.assign(\n",
    "    loan_count = loan_count,\n",
    "    min_month = app_min_month,\n",
    "    max_balance = app_max_balance\n",
    ")"
   ]
  },
  {
   "cell_type": "code",
   "execution_count": 11,
   "id": "be6a0033",
   "metadata": {},
   "outputs": [],
   "source": [
    "## ratio 추가\n",
    "status_cols = balance.name_contract_status.unique()\n",
    "ratio_df = pd.concat([\n",
    "    balance_feature_df[status_col] / balance_feature_df['loan_count'] for status_col in status_cols\n",
    "], axis=1)\n",
    "ratio_cols = [f\"{col}_ratio\" for col in status_cols]\n",
    "ratio_df.columns = ratio_cols"
   ]
  },
  {
   "cell_type": "code",
   "execution_count": 12,
   "id": "db4d6427",
   "metadata": {},
   "outputs": [],
   "source": [
    "balance_feature_df = pd.concat([balance_feature_df, ratio_df], axis=1)"
   ]
  },
  {
   "cell_type": "code",
   "execution_count": 13,
   "id": "4bbda929",
   "metadata": {},
   "outputs": [],
   "source": [
    "df = app.loc[app['type'] == 'train', ['application_id_current', 'target']].reset_index(drop=True)\n",
    "df = df.merge(balance_feature_df, on=\"application_id_current\", how='inner')"
   ]
  },
  {
   "cell_type": "code",
   "execution_count": 14,
   "id": "b24eab44",
   "metadata": {},
   "outputs": [],
   "source": [
    "null_to_zero_columns = ['Active', 'Approved', 'Completed', 'Demand', 'Refused', 'Sent proposal', 'Signed', 'loan_count']\n",
    "for col in null_to_zero_columns:\n",
    "    df[col] = df[col].fillna(0).astype(int)"
   ]
  },
  {
   "cell_type": "code",
   "execution_count": 15,
   "id": "99d95d61",
   "metadata": {},
   "outputs": [],
   "source": [
    "from sklearn.model_selection import train_test_split"
   ]
  },
  {
   "cell_type": "code",
   "execution_count": 16,
   "id": "c30b10b1",
   "metadata": {},
   "outputs": [],
   "source": [
    "X_train, X_test, y_train, y_test = train_test_split(\n",
    "    df.drop(['application_id_current', 'target'], axis=1), df['target'], test_size=0.2\n",
    ")"
   ]
  },
  {
   "cell_type": "markdown",
   "id": "c553bba8",
   "metadata": {},
   "source": [
    "### evaluate"
   ]
  },
  {
   "cell_type": "code",
   "execution_count": 17,
   "id": "0ee3dbd0",
   "metadata": {},
   "outputs": [],
   "source": [
    "import evaluate_with_lightgbm\n",
    "\n",
    "auc_dic = {}"
   ]
  },
  {
   "cell_type": "code",
   "execution_count": 19,
   "id": "04092ee1",
   "metadata": {},
   "outputs": [
    {
     "name": "stderr",
     "output_type": "stream",
     "text": [
      "/Users/dane.ahn/anaconda3/lib/python3.8/site-packages/lightgbm/engine.py:181: UserWarning: 'early_stopping_rounds' argument is deprecated and will be removed in a future release of LightGBM. Pass 'early_stopping()' callback via 'callbacks' argument instead.\n",
      "  _log_warning(\"'early_stopping_rounds' argument is deprecated and will be removed in a future release of LightGBM. \"\n",
      "/Users/dane.ahn/anaconda3/lib/python3.8/site-packages/lightgbm/engine.py:239: UserWarning: 'verbose_eval' argument is deprecated and will be removed in a future release of LightGBM. Pass 'log_evaluation()' callback via 'callbacks' argument instead.\n",
      "  _log_warning(\"'verbose_eval' argument is deprecated and will be removed in a future release of LightGBM. \"\n"
     ]
    },
    {
     "name": "stdout",
     "output_type": "stream",
     "text": [
      "[LightGBM] [Warning] objective is set=binary, application=binary will be ignored. Current value: objective=binary\n",
      "[LightGBM] [Warning] Found whitespace in feature_names, replace with underlines\n",
      "[LightGBM] [Warning] objective is set=binary, application=binary will be ignored. Current value: objective=binary\n",
      "[LightGBM] [Info] Number of positive: 4813, number of negative: 50806\n",
      "[LightGBM] [Warning] Auto-choosing col-wise multi-threading, the overhead of testing was 0.003612 seconds.\n",
      "You can set `force_col_wise=true` to remove the overhead.\n",
      "[LightGBM] [Info] Total Bins 1243\n",
      "[LightGBM] [Info] Number of data points in the train set: 55619, number of used features: 11\n",
      "[LightGBM] [Warning] objective is set=binary, application=binary will be ignored. Current value: objective=binary\n",
      "[LightGBM] [Warning] Found whitespace in feature_names, replace with underlines\n",
      "[LightGBM] [Info] [binary:BoostFromScore]: pavg=0.086535 -> initscore=-2.356694\n",
      "[LightGBM] [Info] Start training from score -2.356694\n",
      "Training until validation scores don't improve for 100 rounds\n",
      "[20]\tvalid_0's auc: 0.609182\n",
      "[40]\tvalid_0's auc: 0.620735\n",
      "[60]\tvalid_0's auc: 0.621705\n",
      "[80]\tvalid_0's auc: 0.624234\n",
      "[100]\tvalid_0's auc: 0.626536\n",
      "[120]\tvalid_0's auc: 0.626886\n",
      "[140]\tvalid_0's auc: 0.624686\n",
      "[160]\tvalid_0's auc: 0.623\n",
      "[180]\tvalid_0's auc: 0.623165\n",
      "[200]\tvalid_0's auc: 0.622608\n",
      "Early stopping, best iteration is:\n",
      "[117]\tvalid_0's auc: 0.627187\n",
      "Train Confusion Matrix\n",
      "[[42630 20838]\n",
      " [ 2480  3576]] \n",
      "\n",
      "Test Confusion Matrix\n",
      "[[10639  5264]\n",
      " [  690   788]] \n",
      "\n"
     ]
    },
    {
     "data": {
      "image/png": "[encoded data removed]",
      "text/plain": [
       "<Figure size 432x288 with 1 Axes>"
      ]
     },
     "metadata": {
      "needs_background": "light"
     },
     "output_type": "display_data"
    },
    {
     "name": "stdout",
     "output_type": "stream",
     "text": [
      "AUC on train: 0.6739\n",
      "AUC on test: 0.6240\n",
      "f1_score on train: 0.2347\n",
      "f1_score on test: 0.2093\n"
     ]
    }
   ],
   "source": [
    "auc_dic['balance_only'] = evaluate_with_lightgbm.run(X_train, X_test, y_train, y_test)"
   ]
  },
  {
   "cell_type": "code",
   "execution_count": 20,
   "id": "f62de45e",
   "metadata": {},
   "outputs": [
    {
     "name": "stdout",
     "output_type": "stream",
     "text": [
      "[LightGBM] [Warning] objective is set=binary, application=binary will be ignored. Current value: objective=binary\n",
      "[LightGBM] [Warning] Found whitespace in feature_names, replace with underlines\n",
      "[LightGBM] [Warning] objective is set=binary, application=binary will be ignored. Current value: objective=binary\n",
      "[LightGBM] [Info] Number of positive: 4869, number of negative: 50750\n",
      "[LightGBM] [Warning] Auto-choosing row-wise multi-threading, the overhead of testing was 0.001639 seconds.\n",
      "You can set `force_row_wise=true` to remove the overhead.\n",
      "And if memory is not enough, you can set `force_col_wise=true`.\n",
      "[LightGBM] [Info] Total Bins 1246\n",
      "[LightGBM] [Info] Number of data points in the train set: 55619, number of used features: 11\n",
      "[LightGBM] [Warning] objective is set=binary, application=binary will be ignored. Current value: objective=binary\n",
      "[LightGBM] [Warning] Found whitespace in feature_names, replace with underlines\n",
      "[LightGBM] [Info] [binary:BoostFromScore]: pavg=0.087542 -> initscore=-2.344023\n",
      "[LightGBM] [Info] Start training from score -2.344023\n",
      "Training until validation scores don't improve for 100 rounds\n",
      "[20]\tvalid_0's auc: 0.607137\n",
      "[40]\tvalid_0's auc: 0.617815\n"
     ]
    },
    {
     "name": "stderr",
     "output_type": "stream",
     "text": [
      "/Users/dane.ahn/anaconda3/lib/python3.8/site-packages/lightgbm/engine.py:181: UserWarning: 'early_stopping_rounds' argument is deprecated and will be removed in a future release of LightGBM. Pass 'early_stopping()' callback via 'callbacks' argument instead.\n",
      "  _log_warning(\"'early_stopping_rounds' argument is deprecated and will be removed in a future release of LightGBM. \"\n",
      "/Users/dane.ahn/anaconda3/lib/python3.8/site-packages/lightgbm/engine.py:239: UserWarning: 'verbose_eval' argument is deprecated and will be removed in a future release of LightGBM. Pass 'log_evaluation()' callback via 'callbacks' argument instead.\n",
      "  _log_warning(\"'verbose_eval' argument is deprecated and will be removed in a future release of LightGBM. \"\n"
     ]
    },
    {
     "name": "stdout",
     "output_type": "stream",
     "text": [
      "[60]\tvalid_0's auc: 0.619786\n",
      "[80]\tvalid_0's auc: 0.618788\n",
      "[100]\tvalid_0's auc: 0.616249\n",
      "[120]\tvalid_0's auc: 0.61455\n",
      "[140]\tvalid_0's auc: 0.614386\n",
      "Early stopping, best iteration is:\n",
      "[46]\tvalid_0's auc: 0.620064\n",
      "[LightGBM] [Warning] objective is set=binary, application=binary will be ignored. Current value: objective=binary\n",
      "[LightGBM] [Warning] objective is set=binary, application=binary will be ignored. Current value: objective=binary\n",
      "[LightGBM] [Info] Number of positive: 4869, number of negative: 50750\n",
      "[LightGBM] [Warning] Auto-choosing row-wise multi-threading, the overhead of testing was 0.000290 seconds.\n",
      "You can set `force_row_wise=true` to remove the overhead.\n",
      "And if memory is not enough, you can set `force_col_wise=true`.\n",
      "[LightGBM] [Info] Total Bins 576\n",
      "[LightGBM] [Info] Number of data points in the train set: 55619, number of used features: 3\n",
      "[LightGBM] [Warning] objective is set=binary, application=binary will be ignored. Current value: objective=binary\n",
      "[LightGBM] [Info] [binary:BoostFromScore]: pavg=0.087542 -> initscore=-2.344023\n",
      "[LightGBM] [Info] Start training from score -2.344023\n",
      "Training until validation scores don't improve for 100 rounds\n",
      "[20]\tvalid_0's auc: 0.609144\n",
      "[40]\tvalid_0's auc: 0.610598\n",
      "[60]\tvalid_0's auc: 0.617615\n",
      "[80]\tvalid_0's auc: 0.616687\n",
      "[100]\tvalid_0's auc: 0.617107\n",
      "Early stopping, best iteration is:\n",
      "[2]\tvalid_0's auc: 0.618638\n",
      "Train Confusion Matrix\n",
      "[[63468     0]\n",
      " [ 6056     0]] \n",
      "\n",
      "Test Confusion Matrix\n",
      "[[15903     0]\n",
      " [ 1478     0]] \n",
      "\n"
     ]
    },
    {
     "data": {
      "image/png": "[encoded data removed]",
      "text/plain": [
       "<Figure size 432x288 with 1 Axes>"
      ]
     },
     "metadata": {
      "needs_background": "light"
     },
     "output_type": "display_data"
    },
    {
     "name": "stdout",
     "output_type": "stream",
     "text": [
      "AUC on train: 0.6304\n",
      "AUC on test: 0.6226\n",
      "f1_score on train: 0.0000\n",
      "f1_score on test: 0.0000\n"
     ]
    }
   ],
   "source": [
    "auc_dic['balance_only_feature_select'] = evaluate_with_lightgbm.run(X_train, X_test, y_train, y_test, X_train.shape[1] // 5)"
   ]
  },
  {
   "cell_type": "markdown",
   "id": "5d31ce9f",
   "metadata": {},
   "source": [
    "### Aggregate, app X balance"
   ]
  },
  {
   "cell_type": "code",
   "execution_count": 35,
   "id": "c05258dd",
   "metadata": {},
   "outputs": [],
   "source": [
    "df = app.loc[app['type'] == 'train'].drop('type', axis=1).reset_index(drop=True)\n",
    "df = df.merge(balance_feature_df, on=\"application_id_current\", how='left')"
   ]
  },
  {
   "cell_type": "code",
   "execution_count": 36,
   "id": "d1aa2643",
   "metadata": {},
   "outputs": [],
   "source": [
    "null_to_zero_columns = [\n",
    "    *status_cols,\n",
    "    *ratio_cols,\n",
    "    'loan_count']\n",
    "for col in null_to_zero_columns:\n",
    "    df[col] = df[col].fillna(0).astype(int)"
   ]
  },
  {
   "cell_type": "code",
   "execution_count": 37,
   "id": "503c980a",
   "metadata": {},
   "outputs": [],
   "source": [
    "X_train, X_test, y_train, y_test = train_test_split(\n",
    "    df.drop(['application_id_current', 'target'], axis=1), df['target'], test_size=0.2\n",
    ")"
   ]
  },
  {
   "cell_type": "code",
   "execution_count": 39,
   "id": "df04faf4",
   "metadata": {},
   "outputs": [
    {
     "name": "stderr",
     "output_type": "stream",
     "text": [
      "/Users/dane.ahn/anaconda3/lib/python3.8/site-packages/lightgbm/engine.py:181: UserWarning: 'early_stopping_rounds' argument is deprecated and will be removed in a future release of LightGBM. Pass 'early_stopping()' callback via 'callbacks' argument instead.\n",
      "  _log_warning(\"'early_stopping_rounds' argument is deprecated and will be removed in a future release of LightGBM. \"\n",
      "/Users/dane.ahn/anaconda3/lib/python3.8/site-packages/lightgbm/engine.py:239: UserWarning: 'verbose_eval' argument is deprecated and will be removed in a future release of LightGBM. Pass 'log_evaluation()' callback via 'callbacks' argument instead.\n",
      "  _log_warning(\"'verbose_eval' argument is deprecated and will be removed in a future release of LightGBM. \"\n"
     ]
    },
    {
     "name": "stdout",
     "output_type": "stream",
     "text": [
      "[LightGBM] [Warning] objective is set=binary, application=binary will be ignored. Current value: objective=binary\n",
      "[LightGBM] [Warning] Found whitespace in feature_names, replace with underlines\n",
      "[LightGBM] [Warning] objective is set=binary, application=binary will be ignored. Current value: objective=binary\n",
      "[LightGBM] [Info] Number of positive: 15828, number of negative: 180978\n",
      "[LightGBM] [Warning] Auto-choosing row-wise multi-threading, the overhead of testing was 0.032214 seconds.\n",
      "You can set `force_row_wise=true` to remove the overhead.\n",
      "And if memory is not enough, you can set `force_col_wise=true`.\n",
      "[LightGBM] [Info] Total Bins 11990\n",
      "[LightGBM] [Info] Number of data points in the train set: 196806, number of used features: 125\n",
      "[LightGBM] [Warning] objective is set=binary, application=binary will be ignored. Current value: objective=binary\n",
      "[LightGBM] [Warning] Found whitespace in feature_names, replace with underlines\n",
      "[LightGBM] [Info] [binary:BoostFromScore]: pavg=0.080424 -> initscore=-2.436595\n",
      "[LightGBM] [Info] Start training from score -2.436595\n",
      "Training until validation scores don't improve for 100 rounds\n",
      "[20]\tvalid_0's auc: 0.746163\n",
      "[40]\tvalid_0's auc: 0.751542\n",
      "[60]\tvalid_0's auc: 0.755295\n",
      "[80]\tvalid_0's auc: 0.75721\n",
      "[100]\tvalid_0's auc: 0.75859\n",
      "[120]\tvalid_0's auc: 0.759833\n",
      "[140]\tvalid_0's auc: 0.759986\n",
      "[160]\tvalid_0's auc: 0.76022\n",
      "[180]\tvalid_0's auc: 0.760689\n",
      "[200]\tvalid_0's auc: 0.760781\n",
      "[220]\tvalid_0's auc: 0.76084\n",
      "[240]\tvalid_0's auc: 0.761029\n",
      "[260]\tvalid_0's auc: 0.760949\n",
      "[280]\tvalid_0's auc: 0.76047\n",
      "[300]\tvalid_0's auc: 0.760208\n",
      "[320]\tvalid_0's auc: 0.760099\n",
      "[340]\tvalid_0's auc: 0.760052\n",
      "Early stopping, best iteration is:\n",
      "[248]\tvalid_0's auc: 0.761217\n",
      "Train Confusion Matrix\n",
      "[[163461  62710]\n",
      " [  5371  14466]] \n",
      "\n",
      "Test Confusion Matrix\n",
      "[[40844 15671]\n",
      " [ 1642  3346]] \n",
      "\n"
     ]
    },
    {
     "data": {
      "image/png": "[encoded data removed]",
      "text/plain": [
       "<Figure size 432x288 with 1 Axes>"
      ]
     },
     "metadata": {
      "needs_background": "light"
     },
     "output_type": "display_data"
    },
    {
     "name": "stdout",
     "output_type": "stream",
     "text": [
      "AUC on train: 0.8031\n",
      "AUC on test: 0.7604\n",
      "f1_score on train: 0.2982\n",
      "f1_score on test: 0.2788\n"
     ]
    }
   ],
   "source": [
    "auc_dic['balanceXapp'] = evaluate_with_lightgbm.run(X_train, X_test, y_train, y_test)"
   ]
  },
  {
   "cell_type": "code",
   "execution_count": 40,
   "id": "6475ab85",
   "metadata": {},
   "outputs": [
    {
     "name": "stderr",
     "output_type": "stream",
     "text": [
      "/Users/dane.ahn/anaconda3/lib/python3.8/site-packages/lightgbm/engine.py:181: UserWarning: 'early_stopping_rounds' argument is deprecated and will be removed in a future release of LightGBM. Pass 'early_stopping()' callback via 'callbacks' argument instead.\n",
      "  _log_warning(\"'early_stopping_rounds' argument is deprecated and will be removed in a future release of LightGBM. \"\n",
      "/Users/dane.ahn/anaconda3/lib/python3.8/site-packages/lightgbm/engine.py:239: UserWarning: 'verbose_eval' argument is deprecated and will be removed in a future release of LightGBM. Pass 'log_evaluation()' callback via 'callbacks' argument instead.\n",
      "  _log_warning(\"'verbose_eval' argument is deprecated and will be removed in a future release of LightGBM. \"\n"
     ]
    },
    {
     "name": "stdout",
     "output_type": "stream",
     "text": [
      "[LightGBM] [Warning] objective is set=binary, application=binary will be ignored. Current value: objective=binary\n",
      "[LightGBM] [Warning] Found whitespace in feature_names, replace with underlines\n",
      "[LightGBM] [Warning] objective is set=binary, application=binary will be ignored. Current value: objective=binary\n",
      "[LightGBM] [Info] Number of positive: 15799, number of negative: 181007\n",
      "[LightGBM] [Warning] Auto-choosing row-wise multi-threading, the overhead of testing was 0.037226 seconds.\n",
      "You can set `force_row_wise=true` to remove the overhead.\n",
      "And if memory is not enough, you can set `force_col_wise=true`.\n",
      "[LightGBM] [Info] Total Bins 11994\n",
      "[LightGBM] [Info] Number of data points in the train set: 196806, number of used features: 124\n",
      "[LightGBM] [Warning] objective is set=binary, application=binary will be ignored. Current value: objective=binary\n",
      "[LightGBM] [Warning] Found whitespace in feature_names, replace with underlines\n",
      "[LightGBM] [Info] [binary:BoostFromScore]: pavg=0.080277 -> initscore=-2.438589\n",
      "[LightGBM] [Info] Start training from score -2.438589\n",
      "Training until validation scores don't improve for 100 rounds\n",
      "[20]\tvalid_0's auc: 0.74515\n",
      "[40]\tvalid_0's auc: 0.747292\n",
      "[60]\tvalid_0's auc: 0.751853\n",
      "[80]\tvalid_0's auc: 0.753844\n",
      "[100]\tvalid_0's auc: 0.755543\n",
      "[120]\tvalid_0's auc: 0.756517\n",
      "[140]\tvalid_0's auc: 0.756539\n",
      "[160]\tvalid_0's auc: 0.756596\n",
      "[180]\tvalid_0's auc: 0.756552\n",
      "[200]\tvalid_0's auc: 0.756356\n",
      "[220]\tvalid_0's auc: 0.756424\n",
      "[240]\tvalid_0's auc: 0.756403\n",
      "[260]\tvalid_0's auc: 0.756691\n",
      "Early stopping, best iteration is:\n",
      "[170]\tvalid_0's auc: 0.756886\n",
      "[LightGBM] [Warning] objective is set=binary, application=binary will be ignored. Current value: objective=binary\n",
      "[LightGBM] [Warning] objective is set=binary, application=binary will be ignored. Current value: objective=binary\n",
      "[LightGBM] [Info] Number of positive: 15799, number of negative: 181007\n",
      "[LightGBM] [Warning] Auto-choosing row-wise multi-threading, the overhead of testing was 0.001608 seconds.\n",
      "You can set `force_row_wise=true` to remove the overhead.\n",
      "And if memory is not enough, you can set `force_col_wise=true`.\n",
      "[LightGBM] [Info] Total Bins 5199\n",
      "[LightGBM] [Info] Number of data points in the train set: 196806, number of used features: 27\n",
      "[LightGBM] [Warning] objective is set=binary, application=binary will be ignored. Current value: objective=binary\n",
      "[LightGBM] [Info] [binary:BoostFromScore]: pavg=0.080277 -> initscore=-2.438589\n",
      "[LightGBM] [Info] Start training from score -2.438589\n",
      "Training until validation scores don't improve for 100 rounds\n",
      "[20]\tvalid_0's auc: 0.740758\n",
      "[40]\tvalid_0's auc: 0.74543\n",
      "[60]\tvalid_0's auc: 0.749077\n",
      "[80]\tvalid_0's auc: 0.750631\n",
      "[100]\tvalid_0's auc: 0.751456\n",
      "[120]\tvalid_0's auc: 0.751864\n",
      "[140]\tvalid_0's auc: 0.75206\n",
      "[160]\tvalid_0's auc: 0.751997\n",
      "[180]\tvalid_0's auc: 0.752332\n",
      "[200]\tvalid_0's auc: 0.752618\n",
      "[220]\tvalid_0's auc: 0.75242\n",
      "[240]\tvalid_0's auc: 0.752145\n",
      "[260]\tvalid_0's auc: 0.752147\n",
      "[280]\tvalid_0's auc: 0.75208\n",
      "[300]\tvalid_0's auc: 0.751489\n",
      "Early stopping, best iteration is:\n",
      "[210]\tvalid_0's auc: 0.752763\n",
      "Train Confusion Matrix\n",
      "[[161035  65136]\n",
      " [  5576  14261]] \n",
      "\n",
      "Test Confusion Matrix\n",
      "[[40227 16288]\n",
      " [ 1603  3385]] \n",
      "\n"
     ]
    },
    {
     "data": {
      "image/png": "[encoded data removed]",
      "text/plain": [
       "<Figure size 432x288 with 1 Axes>"
      ]
     },
     "metadata": {
      "needs_background": "light"
     },
     "output_type": "display_data"
    },
    {
     "name": "stdout",
     "output_type": "stream",
     "text": [
      "AUC on train: 0.7900\n",
      "AUC on test: 0.7578\n",
      "f1_score on train: 0.2874\n",
      "f1_score on test: 0.2745\n"
     ]
    }
   ],
   "source": [
    "auc_dic['balanceXapp_feature_selected'] = evaluate_with_lightgbm.run(X_train, X_test, y_train, y_test, X_train.shape[1] // 5)"
   ]
  },
  {
   "cell_type": "markdown",
   "id": "4973ef38",
   "metadata": {},
   "source": [
    "### App only"
   ]
  },
  {
   "cell_type": "code",
   "execution_count": 41,
   "id": "2d6ee18a",
   "metadata": {},
   "outputs": [
    {
     "name": "stderr",
     "output_type": "stream",
     "text": [
      "/Users/dane.ahn/anaconda3/lib/python3.8/site-packages/lightgbm/engine.py:181: UserWarning: 'early_stopping_rounds' argument is deprecated and will be removed in a future release of LightGBM. Pass 'early_stopping()' callback via 'callbacks' argument instead.\n",
      "  _log_warning(\"'early_stopping_rounds' argument is deprecated and will be removed in a future release of LightGBM. \"\n",
      "/Users/dane.ahn/anaconda3/lib/python3.8/site-packages/lightgbm/engine.py:239: UserWarning: 'verbose_eval' argument is deprecated and will be removed in a future release of LightGBM. Pass 'log_evaluation()' callback via 'callbacks' argument instead.\n",
      "  _log_warning(\"'verbose_eval' argument is deprecated and will be removed in a future release of LightGBM. \"\n"
     ]
    },
    {
     "name": "stdout",
     "output_type": "stream",
     "text": [
      "[LightGBM] [Warning] objective is set=binary, application=binary will be ignored. Current value: objective=binary\n",
      "[LightGBM] [Warning] objective is set=binary, application=binary will be ignored. Current value: objective=binary\n",
      "[LightGBM] [Info] Number of positive: 15762, number of negative: 181044\n",
      "[LightGBM] [Warning] Auto-choosing row-wise multi-threading, the overhead of testing was 0.024000 seconds.\n",
      "You can set `force_row_wise=true` to remove the overhead.\n",
      "And if memory is not enough, you can set `force_col_wise=true`.\n",
      "[LightGBM] [Info] Total Bins 11369\n",
      "[LightGBM] [Info] Number of data points in the train set: 196806, number of used features: 115\n",
      "[LightGBM] [Warning] objective is set=binary, application=binary will be ignored. Current value: objective=binary\n",
      "[LightGBM] [Info] [binary:BoostFromScore]: pavg=0.080089 -> initscore=-2.441138\n",
      "[LightGBM] [Info] Start training from score -2.441138\n",
      "Training until validation scores don't improve for 100 rounds\n",
      "[20]\tvalid_0's auc: 0.74331\n",
      "[40]\tvalid_0's auc: 0.748331\n",
      "[60]\tvalid_0's auc: 0.750905\n",
      "[80]\tvalid_0's auc: 0.753339\n",
      "[100]\tvalid_0's auc: 0.754974\n",
      "[120]\tvalid_0's auc: 0.756011\n",
      "[140]\tvalid_0's auc: 0.756384\n",
      "[160]\tvalid_0's auc: 0.756993\n",
      "[180]\tvalid_0's auc: 0.756933\n",
      "[200]\tvalid_0's auc: 0.757235\n",
      "[220]\tvalid_0's auc: 0.757629\n",
      "[240]\tvalid_0's auc: 0.757687\n",
      "[260]\tvalid_0's auc: 0.758043\n",
      "[280]\tvalid_0's auc: 0.757769\n",
      "[300]\tvalid_0's auc: 0.757645\n",
      "[320]\tvalid_0's auc: 0.757972\n",
      "[340]\tvalid_0's auc: 0.757369\n",
      "[360]\tvalid_0's auc: 0.757442\n",
      "Early stopping, best iteration is:\n",
      "[261]\tvalid_0's auc: 0.758095\n",
      "Train Confusion Matrix\n",
      "[[163549  62728]\n",
      " [  5376  14355]] \n",
      "\n",
      "Test Confusion Matrix\n",
      "[[40491 15918]\n",
      " [ 1712  3382]] \n",
      "\n"
     ]
    },
    {
     "data": {
      "image/png": "[encoded data removed]",
      "text/plain": [
       "<Figure size 432x288 with 1 Axes>"
      ]
     },
     "metadata": {
      "needs_background": "light"
     },
     "output_type": "display_data"
    },
    {
     "name": "stdout",
     "output_type": "stream",
     "text": [
      "AUC on train: 0.8028\n",
      "AUC on test: 0.7545\n",
      "f1_score on train: 0.2965\n",
      "f1_score on test: 0.2773\n"
     ]
    }
   ],
   "source": [
    "df = app.loc[app['type'] == 'train'].drop('type', axis=1).reset_index(drop=True)\n",
    "X_train, X_test, y_train, y_test = train_test_split(\n",
    "    df.drop(['application_id_current', 'target'], axis=1), df['target'], test_size=0.2\n",
    ")\n",
    "auc_dic['app_only'] = evaluate_with_lightgbm.run(X_train, X_test, y_train, y_test)"
   ]
  },
  {
   "cell_type": "markdown",
   "id": "2e603c65",
   "metadata": {},
   "source": [
    "### Final result"
   ]
  },
  {
   "cell_type": "code",
   "execution_count": 42,
   "id": "01249b13",
   "metadata": {},
   "outputs": [
    {
     "data": {
      "text/html": [
       "<div>\n",
       "<style scoped>\n",
       "    .dataframe tbody tr th:only-of-type {\n",
       "        vertical-align: middle;\n",
       "    }\n",
       "\n",
       "    .dataframe tbody tr th {\n",
       "        vertical-align: top;\n",
       "    }\n",
       "\n",
       "    .dataframe thead th {\n",
       "        text-align: right;\n",
       "    }\n",
       "</style>\n",
       "<table border=\"1\" class=\"dataframe\">\n",
       "  <thead>\n",
       "    <tr style=\"text-align: right;\">\n",
       "      <th></th>\n",
       "      <th>index</th>\n",
       "      <th>0</th>\n",
       "    </tr>\n",
       "  </thead>\n",
       "  <tbody>\n",
       "    <tr>\n",
       "      <th>0</th>\n",
       "      <td>balance_only_feature_select</td>\n",
       "      <td>0.622618</td>\n",
       "    </tr>\n",
       "    <tr>\n",
       "      <th>1</th>\n",
       "      <td>balance_only</td>\n",
       "      <td>0.624024</td>\n",
       "    </tr>\n",
       "    <tr>\n",
       "      <th>2</th>\n",
       "      <td>app_only</td>\n",
       "      <td>0.754547</td>\n",
       "    </tr>\n",
       "    <tr>\n",
       "      <th>3</th>\n",
       "      <td>balanceXapp_feature_selected</td>\n",
       "      <td>0.757826</td>\n",
       "    </tr>\n",
       "    <tr>\n",
       "      <th>4</th>\n",
       "      <td>balanceXapp</td>\n",
       "      <td>0.760385</td>\n",
       "    </tr>\n",
       "  </tbody>\n",
       "</table>\n",
       "</div>"
      ],
      "text/plain": [
       "                          index         0\n",
       "0   balance_only_feature_select  0.622618\n",
       "1                  balance_only  0.624024\n",
       "2                      app_only  0.754547\n",
       "3  balanceXapp_feature_selected  0.757826\n",
       "4                   balanceXapp  0.760385"
      ]
     },
     "execution_count": 42,
     "metadata": {},
     "output_type": "execute_result"
    }
   ],
   "source": [
    "pd.Series(auc_dic).sort_values().reset_index()"
   ]
  }
 ],
 "metadata": {
  "kernelspec": {
   "display_name": "Python 3",
   "language": "python",
   "name": "python3"
  },
  "language_info": {
   "codemirror_mode": {
    "name": "ipython",
    "version": 3
   },
   "file_extension": ".py",
   "mimetype": "text/x-python",
   "name": "python",
   "nbconvert_exporter": "python",
   "pygments_lexer": "ipython3",
   "version": "3.8.8"
  }
 },
 "nbformat": 4,
 "nbformat_minor": 5
}
