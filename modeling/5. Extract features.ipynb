{
 "cells": [
  {
   "cell_type": "markdown",
   "id": "2f6907f5",
   "metadata": {},
   "source": [
    "- 수치 -> 평균, 분산\n",
    "- 범주 -> 발생횟수, 비율"
   ]
  },
  {
   "cell_type": "code",
   "execution_count": 1,
   "id": "2cf62240",
   "metadata": {},
   "outputs": [],
   "source": [
    "from glob import glob\n",
    "import re\n",
    "\n",
    "import pandas as pd\n",
    "import numpy as np\n",
    "import matplotlib.pyplot as plt\n",
    "from tqdm import tqdm"
   ]
  },
  {
   "cell_type": "code",
   "execution_count": 2,
   "id": "99e95bf7",
   "metadata": {},
   "outputs": [],
   "source": [
    "data_path = \"../take-home-interview/\""
   ]
  },
  {
   "cell_type": "code",
   "execution_count": 3,
   "id": "dc35b81f",
   "metadata": {},
   "outputs": [],
   "source": [
    "credits = pd.read_csv(data_path + \"defi_credits.csv\")\n",
    "credit_balance = pd.read_csv(data_path + \"defi_credits_balance.csv\")\n",
    "balance = pd.read_csv(data_path + \"aave_loan_balance.csv\")\n",
    "payments = pd.read_csv(data_path + \"installments_payments.csv\")\n",
    "app_prev = pd.read_csv(data_path + \"application_previous.csv\")"
   ]
  },
  {
   "cell_type": "markdown",
   "id": "f191c2b4",
   "metadata": {},
   "source": [
    "### merge defi credit balance"
   ]
  },
  {
   "cell_type": "code",
   "execution_count": 4,
   "id": "3645f38d",
   "metadata": {},
   "outputs": [],
   "source": [
    "defi_status_pivot = (\n",
    "    credit_balance.groupby([\"defi_id\", \"status\"]).size()\n",
    "    .reset_index(name=\"defi_status_count\")\n",
    "    .pivot(index='defi_id', columns='status', values='defi_status_count')\n",
    ")\n",
    "\n",
    "defi_features = pd.concat([\n",
    "    credit_balance.groupby(\"defi_id\").months_balance.min(),\n",
    "    defi_status_pivot\n",
    "])\n",
    "defi_features.columns = ['defi_min_month'] + (\"defi_status_\" + defi_status_pivot.columns).tolist()"
   ]
  },
  {
   "cell_type": "code",
   "execution_count": 5,
   "id": "1d7027e4",
   "metadata": {},
   "outputs": [],
   "source": [
    "assert defi_features.max().max() < 32767\n",
    "defi_features = defi_features.fillna(0).astype(np.int16)"
   ]
  },
  {
   "cell_type": "code",
   "execution_count": 6,
   "id": "5dbfeff2",
   "metadata": {},
   "outputs": [],
   "source": [
    "credits = credits.merge(defi_features.reset_index(), on='defi_id', how='left')\n",
    "for col in defi_features.columns:\n",
    "    credits[col] = credits[col].fillna(0).astype(np.int16)"
   ]
  },
  {
   "cell_type": "markdown",
   "id": "72c78ae9",
   "metadata": {},
   "source": [
    "### Extrac simple features"
   ]
  },
  {
   "cell_type": "code",
   "execution_count": 7,
   "id": "6effa058",
   "metadata": {},
   "outputs": [],
   "source": [
    "def extract_features(df):\n",
    "    int_cols = df.dtypes[df.dtypes == int].index.tolist()\n",
    "    float_cols = df.dtypes[df.dtypes == float].index.tolist()\n",
    "    cate_cols = df.dtypes[df.dtypes == 'object'].index.tolist()\n",
    "\n",
    "    ## 칼럼 예외 처리\n",
    "    int_cols = [col for col in int_cols if 'id' not in col]\n",
    "    \n",
    "    num_cols = int_cols + float_cols\n",
    "\n",
    "    ## numeric -> 평균\n",
    "    res_mean = []\n",
    "    res_std = []\n",
    "    for col in num_cols:\n",
    "        col_mean = df.groupby(\"application_id_current\")[col].mean()\n",
    "        col_std = df.groupby(\"application_id_current\")[col].std()\n",
    "        \n",
    "        res_mean.append(col_mean)\n",
    "        res_std.append(col_std)\n",
    "    \n",
    "    numeric_mean_features = pd.concat(res_mean, axis=1)\n",
    "    numeric_std_features = pd.concat(res_std, axis=1)\n",
    "    numeric_mean_features.columns = [f\"{col}_mean\" for col in num_cols]\n",
    "    numeric_std_features.columns = [f\"{col}_std\" for col in num_cols]\n",
    "\n",
    "    ## cate -> 카운트해서 pivot\n",
    "    res = []\n",
    "    app_size_df = df.groupby(\"application_id_current\").size()\n",
    "    for col in tqdm(cate_cols):\n",
    "        count_df = df.groupby([\"application_id_current\", col]).size().reset_index(name=f\"{col}_count\")\n",
    "        count_pivot = count_df.pivot(index=\"application_id_current\", columns=col, values=f\"{col}_count\").fillna(0)\n",
    "\n",
    "        assert count_pivot.max().max() < 32767\n",
    "        count_pivot = count_pivot.astype(np.int16)\n",
    "        ratio_pivot = pd.concat([count_pivot[col]/app_size_df for col in count_pivot.columns], axis=1)\n",
    "\n",
    "        count_pivot.columns = col + \"_\" + count_pivot.columns + \"count\"\n",
    "        ratio_pivot.columns = col + \"_\" + count_pivot.columns + \"ratio\"\n",
    "        res.append(count_pivot)\n",
    "        res.append(ratio_pivot)\n",
    "        \n",
    "    if cate_cols:\n",
    "        cate_count_features = pd.concat(res, axis=1)\n",
    "    else:\n",
    "        cate_count_features = None\n",
    "        \n",
    "    features = pd.concat([numeric_mean_features, numeric_std_features, cate_count_features], axis=1)\n",
    "    print(f\"{len(features)}개 관측치에 대해 {features.shape[1]}개 피쳐 생성\")\n",
    "    \n",
    "    return features"
   ]
  },
  {
   "cell_type": "code",
   "execution_count": 8,
   "id": "eda92500",
   "metadata": {},
   "outputs": [
    {
     "name": "stderr",
     "output_type": "stream",
     "text": [
      "100%|██████████| 2/2 [00:01<00:00,  1.70it/s]\n"
     ]
    },
    {
     "name": "stdout",
     "output_type": "stream",
     "text": [
      "305811개 관측치에 대해 40개 피쳐 생성\n"
     ]
    },
    {
     "name": "stderr",
     "output_type": "stream",
     "text": [
      "100%|██████████| 1/1 [00:00<00:00,  1.96it/s]\n"
     ]
    },
    {
     "name": "stdout",
     "output_type": "stream",
     "text": [
      "103558개 관측치에 대해 54개 피쳐 생성\n"
     ]
    },
    {
     "name": "stderr",
     "output_type": "stream",
     "text": [
      "0it [00:00, ?it/s]\n"
     ]
    },
    {
     "name": "stdout",
     "output_type": "stream",
     "text": [
      "339587개 관측치에 대해 12개 피쳐 생성\n"
     ]
    },
    {
     "name": "stderr",
     "output_type": "stream",
     "text": [
      "100%|██████████| 13/13 [00:08<00:00,  1.46it/s]\n"
     ]
    },
    {
     "name": "stdout",
     "output_type": "stream",
     "text": [
      "338857개 관측치에 대해 272개 피쳐 생성\n",
      "CPU times: user 27.2 s, sys: 2.89 s, total: 30.1 s\n",
      "Wall time: 30.1 s\n"
     ]
    }
   ],
   "source": [
    "%%time\n",
    "credit_feature = extract_features(credits)\n",
    "credit_feature.to_pickle(data_path+\"credit_feature.pkl\")\n",
    "# del credits, credit_feature\n",
    "\n",
    "balance_feature = extract_features(balance)\n",
    "balance_feature.to_pickle(data_path+\"balance_feature.pkl\")\n",
    "# del balance, balance_feature\n",
    "\n",
    "payment_feature = extract_features(payments)\n",
    "payment_feature.to_pickle(data_path+\"payment_feature.pkl\")\n",
    "# del payments, payment_feature\n",
    "\n",
    "app_prev_feature = extract_features(app_prev)\n",
    "app_prev_feature.to_pickle(data_path+\"app_prev_feature.pkl\")\n",
    "# del app_prev, app_prev_feature"
   ]
  }
 ],
 "metadata": {
  "kernelspec": {
   "display_name": "Python 3",
   "language": "python",
   "name": "python3"
  },
  "language_info": {
   "codemirror_mode": {
    "name": "ipython",
    "version": 3
   },
   "file_extension": ".py",
   "mimetype": "text/x-python",
   "name": "python",
   "nbconvert_exporter": "python",
   "pygments_lexer": "ipython3",
   "version": "3.8.8"
  }
 },
 "nbformat": 4,
 "nbformat_minor": 5
}
