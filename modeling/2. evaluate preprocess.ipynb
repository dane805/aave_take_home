{
 "cells": [
  {
   "cell_type": "markdown",
   "id": "ed6cb372",
   "metadata": {},
   "source": [
    "- 간단한 수준의 preprocessing을 적용하면서 성능상의 개선을 기대했으나 잘 나오지 않음\n",
    "- 튜닝과 일반적으로 성능이 더 좋은 모델들을 도입 -> 성능 개선\n",
    "- 큰 고민은 없이 lightgbm 모델 채택\n",
    "- evaluation metric 함수화"
   ]
  },
  {
   "cell_type": "code",
   "execution_count": 1,
   "id": "15f1457d",
   "metadata": {},
   "outputs": [],
   "source": [
    "from glob import glob\n",
    "\n",
    "import pandas as pd\n",
    "import numpy as np\n",
    "import matplotlib.pyplot as plt"
   ]
  },
  {
   "cell_type": "code",
   "execution_count": 2,
   "id": "2b5246e2",
   "metadata": {},
   "outputs": [],
   "source": [
    "data_path = \"../take-home-interview/\""
   ]
  },
  {
   "cell_type": "code",
   "execution_count": 3,
   "id": "8f1afdc2",
   "metadata": {},
   "outputs": [],
   "source": [
    "app = pd.read_csv(data_path + \"loan_application.csv\")"
   ]
  },
  {
   "cell_type": "code",
   "execution_count": 4,
   "id": "e95cc7a0",
   "metadata": {},
   "outputs": [
    {
     "data": {
      "text/html": [
       "<div>\n",
       "<style scoped>\n",
       "    .dataframe tbody tr th:only-of-type {\n",
       "        vertical-align: middle;\n",
       "    }\n",
       "\n",
       "    .dataframe tbody tr th {\n",
       "        vertical-align: top;\n",
       "    }\n",
       "\n",
       "    .dataframe thead th {\n",
       "        text-align: right;\n",
       "    }\n",
       "</style>\n",
       "<table border=\"1\" class=\"dataframe\">\n",
       "  <thead>\n",
       "    <tr style=\"text-align: right;\">\n",
       "      <th></th>\n",
       "      <th>application_id_current</th>\n",
       "      <th>target</th>\n",
       "      <th>col_2</th>\n",
       "      <th>col_3</th>\n",
       "      <th>col_4</th>\n",
       "      <th>col_5</th>\n",
       "      <th>col_6</th>\n",
       "      <th>col_7</th>\n",
       "      <th>col_8</th>\n",
       "      <th>col_9</th>\n",
       "      <th>...</th>\n",
       "      <th>col_113</th>\n",
       "      <th>col_114</th>\n",
       "      <th>col_115</th>\n",
       "      <th>col_116</th>\n",
       "      <th>col_117</th>\n",
       "      <th>col_118</th>\n",
       "      <th>col_119</th>\n",
       "      <th>col_120</th>\n",
       "      <th>col_121</th>\n",
       "      <th>type</th>\n",
       "    </tr>\n",
       "  </thead>\n",
       "  <tbody>\n",
       "    <tr>\n",
       "      <th>0</th>\n",
       "      <td>100002</td>\n",
       "      <td>1.0</td>\n",
       "      <td>0</td>\n",
       "      <td>202500.0</td>\n",
       "      <td>406597.5</td>\n",
       "      <td>24700.5</td>\n",
       "      <td>351000.0</td>\n",
       "      <td>0.018801</td>\n",
       "      <td>-9461</td>\n",
       "      <td>-637</td>\n",
       "      <td>...</td>\n",
       "      <td>3</td>\n",
       "      <td>1</td>\n",
       "      <td>8</td>\n",
       "      <td>6</td>\n",
       "      <td>5</td>\n",
       "      <td>2</td>\n",
       "      <td>0</td>\n",
       "      <td>5</td>\n",
       "      <td>0</td>\n",
       "      <td>train</td>\n",
       "    </tr>\n",
       "    <tr>\n",
       "      <th>1</th>\n",
       "      <td>100003</td>\n",
       "      <td>0.0</td>\n",
       "      <td>0</td>\n",
       "      <td>270000.0</td>\n",
       "      <td>1293502.5</td>\n",
       "      <td>35698.5</td>\n",
       "      <td>1129500.0</td>\n",
       "      <td>0.003541</td>\n",
       "      <td>-16765</td>\n",
       "      <td>-1188</td>\n",
       "      <td>...</td>\n",
       "      <td>1</td>\n",
       "      <td>1</td>\n",
       "      <td>3</td>\n",
       "      <td>1</td>\n",
       "      <td>39</td>\n",
       "      <td>2</td>\n",
       "      <td>0</td>\n",
       "      <td>0</td>\n",
       "      <td>0</td>\n",
       "      <td>train</td>\n",
       "    </tr>\n",
       "    <tr>\n",
       "      <th>2</th>\n",
       "      <td>100004</td>\n",
       "      <td>0.0</td>\n",
       "      <td>0</td>\n",
       "      <td>67500.0</td>\n",
       "      <td>135000.0</td>\n",
       "      <td>6750.0</td>\n",
       "      <td>135000.0</td>\n",
       "      <td>0.010032</td>\n",
       "      <td>-19046</td>\n",
       "      <td>-225</td>\n",
       "      <td>...</td>\n",
       "      <td>3</td>\n",
       "      <td>1</td>\n",
       "      <td>8</td>\n",
       "      <td>1</td>\n",
       "      <td>11</td>\n",
       "      <td>4</td>\n",
       "      <td>3</td>\n",
       "      <td>7</td>\n",
       "      <td>2</td>\n",
       "      <td>train</td>\n",
       "    </tr>\n",
       "    <tr>\n",
       "      <th>3</th>\n",
       "      <td>100006</td>\n",
       "      <td>0.0</td>\n",
       "      <td>0</td>\n",
       "      <td>135000.0</td>\n",
       "      <td>312682.5</td>\n",
       "      <td>29686.5</td>\n",
       "      <td>297000.0</td>\n",
       "      <td>0.008019</td>\n",
       "      <td>-19005</td>\n",
       "      <td>-3039</td>\n",
       "      <td>...</td>\n",
       "      <td>0</td>\n",
       "      <td>1</td>\n",
       "      <td>8</td>\n",
       "      <td>6</td>\n",
       "      <td>5</td>\n",
       "      <td>4</td>\n",
       "      <td>3</td>\n",
       "      <td>7</td>\n",
       "      <td>2</td>\n",
       "      <td>train</td>\n",
       "    </tr>\n",
       "    <tr>\n",
       "      <th>4</th>\n",
       "      <td>100007</td>\n",
       "      <td>0.0</td>\n",
       "      <td>0</td>\n",
       "      <td>121500.0</td>\n",
       "      <td>513000.0</td>\n",
       "      <td>21865.5</td>\n",
       "      <td>513000.0</td>\n",
       "      <td>0.028663</td>\n",
       "      <td>-19932</td>\n",
       "      <td>-3038</td>\n",
       "      <td>...</td>\n",
       "      <td>3</td>\n",
       "      <td>1</td>\n",
       "      <td>3</td>\n",
       "      <td>4</td>\n",
       "      <td>37</td>\n",
       "      <td>4</td>\n",
       "      <td>3</td>\n",
       "      <td>7</td>\n",
       "      <td>2</td>\n",
       "      <td>train</td>\n",
       "    </tr>\n",
       "    <tr>\n",
       "      <th>...</th>\n",
       "      <td>...</td>\n",
       "      <td>...</td>\n",
       "      <td>...</td>\n",
       "      <td>...</td>\n",
       "      <td>...</td>\n",
       "      <td>...</td>\n",
       "      <td>...</td>\n",
       "      <td>...</td>\n",
       "      <td>...</td>\n",
       "      <td>...</td>\n",
       "      <td>...</td>\n",
       "      <td>...</td>\n",
       "      <td>...</td>\n",
       "      <td>...</td>\n",
       "      <td>...</td>\n",
       "      <td>...</td>\n",
       "      <td>...</td>\n",
       "      <td>...</td>\n",
       "      <td>...</td>\n",
       "      <td>...</td>\n",
       "      <td>...</td>\n",
       "    </tr>\n",
       "    <tr>\n",
       "      <th>48739</th>\n",
       "      <td>456221</td>\n",
       "      <td>NaN</td>\n",
       "      <td>0</td>\n",
       "      <td>121500.0</td>\n",
       "      <td>412560.0</td>\n",
       "      <td>17473.5</td>\n",
       "      <td>270000.0</td>\n",
       "      <td>0.002042</td>\n",
       "      <td>-19970</td>\n",
       "      <td>-5169</td>\n",
       "      <td>...</td>\n",
       "      <td>5</td>\n",
       "      <td>1</td>\n",
       "      <td>18</td>\n",
       "      <td>6</td>\n",
       "      <td>33</td>\n",
       "      <td>4</td>\n",
       "      <td>3</td>\n",
       "      <td>7</td>\n",
       "      <td>2</td>\n",
       "      <td>test</td>\n",
       "    </tr>\n",
       "    <tr>\n",
       "      <th>48740</th>\n",
       "      <td>456222</td>\n",
       "      <td>NaN</td>\n",
       "      <td>2</td>\n",
       "      <td>157500.0</td>\n",
       "      <td>622413.0</td>\n",
       "      <td>31909.5</td>\n",
       "      <td>495000.0</td>\n",
       "      <td>0.035792</td>\n",
       "      <td>-11186</td>\n",
       "      <td>-1149</td>\n",
       "      <td>...</td>\n",
       "      <td>1</td>\n",
       "      <td>1</td>\n",
       "      <td>14</td>\n",
       "      <td>1</td>\n",
       "      <td>51</td>\n",
       "      <td>4</td>\n",
       "      <td>3</td>\n",
       "      <td>7</td>\n",
       "      <td>2</td>\n",
       "      <td>test</td>\n",
       "    </tr>\n",
       "    <tr>\n",
       "      <th>48741</th>\n",
       "      <td>456223</td>\n",
       "      <td>NaN</td>\n",
       "      <td>1</td>\n",
       "      <td>202500.0</td>\n",
       "      <td>315000.0</td>\n",
       "      <td>33205.5</td>\n",
       "      <td>315000.0</td>\n",
       "      <td>0.026392</td>\n",
       "      <td>-15922</td>\n",
       "      <td>-3037</td>\n",
       "      <td>...</td>\n",
       "      <td>1</td>\n",
       "      <td>1</td>\n",
       "      <td>18</td>\n",
       "      <td>6</td>\n",
       "      <td>5</td>\n",
       "      <td>4</td>\n",
       "      <td>0</td>\n",
       "      <td>5</td>\n",
       "      <td>0</td>\n",
       "      <td>test</td>\n",
       "    </tr>\n",
       "    <tr>\n",
       "      <th>48742</th>\n",
       "      <td>456224</td>\n",
       "      <td>NaN</td>\n",
       "      <td>0</td>\n",
       "      <td>225000.0</td>\n",
       "      <td>450000.0</td>\n",
       "      <td>25128.0</td>\n",
       "      <td>450000.0</td>\n",
       "      <td>0.018850</td>\n",
       "      <td>-13968</td>\n",
       "      <td>-2731</td>\n",
       "      <td>...</td>\n",
       "      <td>1</td>\n",
       "      <td>1</td>\n",
       "      <td>10</td>\n",
       "      <td>1</td>\n",
       "      <td>42</td>\n",
       "      <td>4</td>\n",
       "      <td>0</td>\n",
       "      <td>4</td>\n",
       "      <td>0</td>\n",
       "      <td>test</td>\n",
       "    </tr>\n",
       "    <tr>\n",
       "      <th>48743</th>\n",
       "      <td>456250</td>\n",
       "      <td>NaN</td>\n",
       "      <td>0</td>\n",
       "      <td>135000.0</td>\n",
       "      <td>312768.0</td>\n",
       "      <td>24709.5</td>\n",
       "      <td>270000.0</td>\n",
       "      <td>0.006629</td>\n",
       "      <td>-13962</td>\n",
       "      <td>-633</td>\n",
       "      <td>...</td>\n",
       "      <td>1</td>\n",
       "      <td>1</td>\n",
       "      <td>3</td>\n",
       "      <td>5</td>\n",
       "      <td>11</td>\n",
       "      <td>4</td>\n",
       "      <td>3</td>\n",
       "      <td>7</td>\n",
       "      <td>2</td>\n",
       "      <td>test</td>\n",
       "    </tr>\n",
       "  </tbody>\n",
       "</table>\n",
       "<p>356255 rows × 123 columns</p>\n",
       "</div>"
      ],
      "text/plain": [
       "       application_id_current  target  col_2     col_3      col_4    col_5  \\\n",
       "0                      100002     1.0      0  202500.0   406597.5  24700.5   \n",
       "1                      100003     0.0      0  270000.0  1293502.5  35698.5   \n",
       "2                      100004     0.0      0   67500.0   135000.0   6750.0   \n",
       "3                      100006     0.0      0  135000.0   312682.5  29686.5   \n",
       "4                      100007     0.0      0  121500.0   513000.0  21865.5   \n",
       "...                       ...     ...    ...       ...        ...      ...   \n",
       "48739                  456221     NaN      0  121500.0   412560.0  17473.5   \n",
       "48740                  456222     NaN      2  157500.0   622413.0  31909.5   \n",
       "48741                  456223     NaN      1  202500.0   315000.0  33205.5   \n",
       "48742                  456224     NaN      0  225000.0   450000.0  25128.0   \n",
       "48743                  456250     NaN      0  135000.0   312768.0  24709.5   \n",
       "\n",
       "           col_6     col_7  col_8  col_9  ...  col_113  col_114  col_115  \\\n",
       "0       351000.0  0.018801  -9461   -637  ...        3        1        8   \n",
       "1      1129500.0  0.003541 -16765  -1188  ...        1        1        3   \n",
       "2       135000.0  0.010032 -19046   -225  ...        3        1        8   \n",
       "3       297000.0  0.008019 -19005  -3039  ...        0        1        8   \n",
       "4       513000.0  0.028663 -19932  -3038  ...        3        1        3   \n",
       "...          ...       ...    ...    ...  ...      ...      ...      ...   \n",
       "48739   270000.0  0.002042 -19970  -5169  ...        5        1       18   \n",
       "48740   495000.0  0.035792 -11186  -1149  ...        1        1       14   \n",
       "48741   315000.0  0.026392 -15922  -3037  ...        1        1       18   \n",
       "48742   450000.0  0.018850 -13968  -2731  ...        1        1       10   \n",
       "48743   270000.0  0.006629 -13962   -633  ...        1        1        3   \n",
       "\n",
       "       col_116  col_117  col_118  col_119  col_120  col_121   type  \n",
       "0            6        5        2        0        5        0  train  \n",
       "1            1       39        2        0        0        0  train  \n",
       "2            1       11        4        3        7        2  train  \n",
       "3            6        5        4        3        7        2  train  \n",
       "4            4       37        4        3        7        2  train  \n",
       "...        ...      ...      ...      ...      ...      ...    ...  \n",
       "48739        6       33        4        3        7        2   test  \n",
       "48740        1       51        4        3        7        2   test  \n",
       "48741        6        5        4        0        5        0   test  \n",
       "48742        1       42        4        0        4        0   test  \n",
       "48743        5       11        4        3        7        2   test  \n",
       "\n",
       "[356255 rows x 123 columns]"
      ]
     },
     "execution_count": 4,
     "metadata": {},
     "output_type": "execute_result"
    }
   ],
   "source": [
    "app"
   ]
  },
  {
   "cell_type": "code",
   "execution_count": 5,
   "id": "be727f95",
   "metadata": {},
   "outputs": [],
   "source": [
    "df = app[app['type'] == 'train'].drop('type', axis=1)"
   ]
  },
  {
   "cell_type": "markdown",
   "id": "78a9a97a",
   "metadata": {},
   "source": [
    "### train test split"
   ]
  },
  {
   "cell_type": "code",
   "execution_count": 6,
   "id": "032f56cc",
   "metadata": {},
   "outputs": [],
   "source": [
    "from sklearn.model_selection import train_test_split\n",
    "X_train, X_test, y_train, y_test = train_test_split(\n",
    "    df.drop(['application_id_current', 'target'], axis=1), df['target'], test_size=0.2\n",
    ")"
   ]
  },
  {
   "cell_type": "markdown",
   "id": "f07eac85",
   "metadata": {},
   "source": [
    "## Evaluation"
   ]
  },
  {
   "cell_type": "code",
   "execution_count": 7,
   "id": "b1d4e948",
   "metadata": {},
   "outputs": [],
   "source": [
    "import evaluate_with_lightgbm"
   ]
  },
  {
   "cell_type": "code",
   "execution_count": 8,
   "id": "1311f491",
   "metadata": {},
   "outputs": [],
   "source": [
    "auc_dic = {}"
   ]
  },
  {
   "cell_type": "markdown",
   "id": "e2d5f04e",
   "metadata": {},
   "source": [
    "### evaluate without any preprocess"
   ]
  },
  {
   "cell_type": "code",
   "execution_count": 9,
   "id": "e56c33cd",
   "metadata": {},
   "outputs": [
    {
     "name": "stderr",
     "output_type": "stream",
     "text": [
      "/Users/dane.ahn/anaconda3/lib/python3.8/site-packages/lightgbm/engine.py:181: UserWarning: 'early_stopping_rounds' argument is deprecated and will be removed in a future release of LightGBM. Pass 'early_stopping()' callback via 'callbacks' argument instead.\n",
      "  _log_warning(\"'early_stopping_rounds' argument is deprecated and will be removed in a future release of LightGBM. \"\n",
      "/Users/dane.ahn/anaconda3/lib/python3.8/site-packages/lightgbm/engine.py:239: UserWarning: 'verbose_eval' argument is deprecated and will be removed in a future release of LightGBM. Pass 'log_evaluation()' callback via 'callbacks' argument instead.\n",
      "  _log_warning(\"'verbose_eval' argument is deprecated and will be removed in a future release of LightGBM. \"\n"
     ]
    },
    {
     "name": "stdout",
     "output_type": "stream",
     "text": [
      "[LightGBM] [Warning] objective is set=binary, application=binary will be ignored. Current value: objective=binary\n",
      "[LightGBM] [Warning] objective is set=binary, application=binary will be ignored. Current value: objective=binary\n",
      "[LightGBM] [Info] Number of positive: 15927, number of negative: 180879\n",
      "[LightGBM] [Warning] Auto-choosing row-wise multi-threading, the overhead of testing was 0.018631 seconds.\n",
      "You can set `force_row_wise=true` to remove the overhead.\n",
      "And if memory is not enough, you can set `force_col_wise=true`.\n",
      "[LightGBM] [Info] Total Bins 11297\n",
      "[LightGBM] [Info] Number of data points in the train set: 196806, number of used features: 115\n",
      "[LightGBM] [Warning] objective is set=binary, application=binary will be ignored. Current value: objective=binary\n",
      "[LightGBM] [Info] [binary:BoostFromScore]: pavg=0.080927 -> initscore=-2.429813\n",
      "[LightGBM] [Info] Start training from score -2.429813\n",
      "Training until validation scores don't improve for 100 rounds\n",
      "[20]\tvalid_0's auc: 0.735546\n",
      "[40]\tvalid_0's auc: 0.74128\n",
      "[60]\tvalid_0's auc: 0.74445\n",
      "[80]\tvalid_0's auc: 0.746244\n",
      "[100]\tvalid_0's auc: 0.747315\n",
      "[120]\tvalid_0's auc: 0.747807\n",
      "[140]\tvalid_0's auc: 0.748547\n",
      "[160]\tvalid_0's auc: 0.749053\n",
      "[180]\tvalid_0's auc: 0.748694\n",
      "[200]\tvalid_0's auc: 0.748829\n",
      "[220]\tvalid_0's auc: 0.749266\n",
      "[240]\tvalid_0's auc: 0.74928\n",
      "[260]\tvalid_0's auc: 0.748853\n",
      "[280]\tvalid_0's auc: 0.748792\n",
      "[300]\tvalid_0's auc: 0.74849\n",
      "[320]\tvalid_0's auc: 0.748385\n",
      "Early stopping, best iteration is:\n",
      "[232]\tvalid_0's auc: 0.749419\n",
      "Train Confusion Matrix\n",
      "[[162483  63641]\n",
      " [  5496  14388]] \n",
      "\n",
      "Test Confusion Matrix\n",
      "[[40489 16073]\n",
      " [ 1690  3251]] \n",
      "\n"
     ]
    },
    {
     "data": {
      "image/png": "[encoded data removed]",
      "text/plain": [
       "<Figure size 432x288 with 1 Axes>"
      ]
     },
     "metadata": {
      "needs_background": "light"
     },
     "output_type": "display_data"
    },
    {
     "name": "stdout",
     "output_type": "stream",
     "text": [
      "AUC on test: 0.7522\n",
      "f1_score on test: 0.2680\n"
     ]
    }
   ],
   "source": [
    "auc_dic['no_preprocess'] = evaluate_with_lightgbm.run(X_train, X_test, y_train, y_test)"
   ]
  },
  {
   "cell_type": "code",
   "execution_count": 10,
   "id": "74255331",
   "metadata": {},
   "outputs": [
    {
     "name": "stderr",
     "output_type": "stream",
     "text": [
      "/Users/dane.ahn/anaconda3/lib/python3.8/site-packages/lightgbm/engine.py:181: UserWarning: 'early_stopping_rounds' argument is deprecated and will be removed in a future release of LightGBM. Pass 'early_stopping()' callback via 'callbacks' argument instead.\n",
      "  _log_warning(\"'early_stopping_rounds' argument is deprecated and will be removed in a future release of LightGBM. \"\n",
      "/Users/dane.ahn/anaconda3/lib/python3.8/site-packages/lightgbm/engine.py:239: UserWarning: 'verbose_eval' argument is deprecated and will be removed in a future release of LightGBM. Pass 'log_evaluation()' callback via 'callbacks' argument instead.\n",
      "  _log_warning(\"'verbose_eval' argument is deprecated and will be removed in a future release of LightGBM. \"\n"
     ]
    },
    {
     "name": "stdout",
     "output_type": "stream",
     "text": [
      "[LightGBM] [Warning] objective is set=binary, application=binary will be ignored. Current value: objective=binary\n",
      "[LightGBM] [Warning] objective is set=binary, application=binary will be ignored. Current value: objective=binary\n",
      "[LightGBM] [Info] Number of positive: 15975, number of negative: 180831\n",
      "[LightGBM] [Warning] Auto-choosing row-wise multi-threading, the overhead of testing was 0.027983 seconds.\n",
      "You can set `force_row_wise=true` to remove the overhead.\n",
      "And if memory is not enough, you can set `force_col_wise=true`.\n",
      "[LightGBM] [Info] Total Bins 11362\n",
      "[LightGBM] [Info] Number of data points in the train set: 196806, number of used features: 115\n",
      "[LightGBM] [Warning] objective is set=binary, application=binary will be ignored. Current value: objective=binary\n",
      "[LightGBM] [Info] [binary:BoostFromScore]: pavg=0.081171 -> initscore=-2.426538\n",
      "[LightGBM] [Info] Start training from score -2.426538\n",
      "Training until validation scores don't improve for 100 rounds\n",
      "[20]\tvalid_0's auc: 0.742925\n",
      "[40]\tvalid_0's auc: 0.747802\n",
      "[60]\tvalid_0's auc: 0.750618\n",
      "[80]\tvalid_0's auc: 0.752997\n",
      "[100]\tvalid_0's auc: 0.753874\n",
      "[120]\tvalid_0's auc: 0.754899\n",
      "[140]\tvalid_0's auc: 0.75596\n",
      "[160]\tvalid_0's auc: 0.755795\n",
      "[180]\tvalid_0's auc: 0.7557\n",
      "[200]\tvalid_0's auc: 0.756077\n",
      "[220]\tvalid_0's auc: 0.756195\n",
      "[240]\tvalid_0's auc: 0.756072\n",
      "[260]\tvalid_0's auc: 0.755921\n",
      "[280]\tvalid_0's auc: 0.755234\n",
      "[300]\tvalid_0's auc: 0.755\n",
      "Early stopping, best iteration is:\n",
      "[215]\tvalid_0's auc: 0.75623\n",
      "[LightGBM] [Warning] objective is set=binary, application=binary will be ignored. Current value: objective=binary\n",
      "[LightGBM] [Warning] objective is set=binary, application=binary will be ignored. Current value: objective=binary\n",
      "[LightGBM] [Info] Number of positive: 15975, number of negative: 180831\n",
      "[LightGBM] [Warning] Auto-choosing row-wise multi-threading, the overhead of testing was 0.001233 seconds.\n",
      "You can set `force_row_wise=true` to remove the overhead.\n",
      "And if memory is not enough, you can set `force_col_wise=true`.\n",
      "[LightGBM] [Info] Total Bins 4682\n",
      "[LightGBM] [Info] Number of data points in the train set: 196806, number of used features: 24\n",
      "[LightGBM] [Warning] objective is set=binary, application=binary will be ignored. Current value: objective=binary\n",
      "[LightGBM] [Info] [binary:BoostFromScore]: pavg=0.081171 -> initscore=-2.426538\n",
      "[LightGBM] [Info] Start training from score -2.426538\n",
      "Training until validation scores don't improve for 100 rounds\n",
      "[20]\tvalid_0's auc: 0.740111\n",
      "[40]\tvalid_0's auc: 0.743944\n",
      "[60]\tvalid_0's auc: 0.746444\n",
      "[80]\tvalid_0's auc: 0.74792\n",
      "[100]\tvalid_0's auc: 0.749229\n",
      "[120]\tvalid_0's auc: 0.749208\n",
      "[140]\tvalid_0's auc: 0.749949\n",
      "[160]\tvalid_0's auc: 0.749934\n",
      "[180]\tvalid_0's auc: 0.749698\n",
      "[200]\tvalid_0's auc: 0.750207\n",
      "[220]\tvalid_0's auc: 0.749971\n",
      "[240]\tvalid_0's auc: 0.749915\n",
      "[260]\tvalid_0's auc: 0.749709\n",
      "[280]\tvalid_0's auc: 0.749454\n",
      "Early stopping, best iteration is:\n",
      "[195]\tvalid_0's auc: 0.750251\n",
      "Train Confusion Matrix\n",
      "[[159580  66544]\n",
      " [  5658  14226]] \n",
      "\n",
      "Test Confusion Matrix\n",
      "[[39780 16782]\n",
      " [ 1676  3265]] \n",
      "\n"
     ]
    },
    {
     "data": {
      "image/png": "[encoded data removed]",
      "text/plain": [
       "<Figure size 432x288 with 1 Axes>"
      ]
     },
     "metadata": {
      "needs_background": "light"
     },
     "output_type": "display_data"
    },
    {
     "name": "stdout",
     "output_type": "stream",
     "text": [
      "AUC on test: 0.7452\n",
      "f1_score on test: 0.2613\n"
     ]
    }
   ],
   "source": [
    "auc_dic['no_preprocess_feature_select'] = evaluate_with_lightgbm.run(X_train, X_test, y_train, y_test, X_train.shape[1] // 5)"
   ]
  },
  {
   "cell_type": "markdown",
   "id": "4b076250",
   "metadata": {},
   "source": [
    "## Preprocess"
   ]
  },
  {
   "cell_type": "code",
   "execution_count": 11,
   "id": "c8f71e25",
   "metadata": {},
   "outputs": [],
   "source": [
    "import preprocess"
   ]
  },
  {
   "cell_type": "markdown",
   "id": "f8790cf4",
   "metadata": {},
   "source": [
    "### remove meaningless features"
   ]
  },
  {
   "cell_type": "code",
   "execution_count": 12,
   "id": "7f48fa2f",
   "metadata": {},
   "outputs": [
    {
     "data": {
      "text/plain": [
       "((246008, 120), (61503, 120))"
      ]
     },
     "execution_count": 12,
     "metadata": {},
     "output_type": "execute_result"
    }
   ],
   "source": [
    "X_train.shape, X_test.shape"
   ]
  },
  {
   "cell_type": "code",
   "execution_count": 13,
   "id": "f4dabb72",
   "metadata": {},
   "outputs": [],
   "source": [
    "X_train, X_test = preprocess.remove_single_test_features(X_train, X_test)"
   ]
  },
  {
   "cell_type": "code",
   "execution_count": 14,
   "id": "42ab27cc",
   "metadata": {},
   "outputs": [
    {
     "data": {
      "text/plain": [
       "((246008, 119), (61503, 119))"
      ]
     },
     "execution_count": 14,
     "metadata": {},
     "output_type": "execute_result"
    }
   ],
   "source": [
    "X_train.shape, X_test.shape"
   ]
  },
  {
   "cell_type": "code",
   "execution_count": 15,
   "id": "64c411a7",
   "metadata": {
    "scrolled": true
   },
   "outputs": [
    {
     "name": "stderr",
     "output_type": "stream",
     "text": [
      "/Users/dane.ahn/anaconda3/lib/python3.8/site-packages/lightgbm/engine.py:181: UserWarning: 'early_stopping_rounds' argument is deprecated and will be removed in a future release of LightGBM. Pass 'early_stopping()' callback via 'callbacks' argument instead.\n",
      "  _log_warning(\"'early_stopping_rounds' argument is deprecated and will be removed in a future release of LightGBM. \"\n",
      "/Users/dane.ahn/anaconda3/lib/python3.8/site-packages/lightgbm/engine.py:239: UserWarning: 'verbose_eval' argument is deprecated and will be removed in a future release of LightGBM. Pass 'log_evaluation()' callback via 'callbacks' argument instead.\n",
      "  _log_warning(\"'verbose_eval' argument is deprecated and will be removed in a future release of LightGBM. \"\n"
     ]
    },
    {
     "name": "stdout",
     "output_type": "stream",
     "text": [
      "[LightGBM] [Warning] objective is set=binary, application=binary will be ignored. Current value: objective=binary\n",
      "[LightGBM] [Warning] objective is set=binary, application=binary will be ignored. Current value: objective=binary\n",
      "[LightGBM] [Info] Number of positive: 15975, number of negative: 180831\n",
      "[LightGBM] [Warning] Auto-choosing row-wise multi-threading, the overhead of testing was 0.013519 seconds.\n",
      "You can set `force_row_wise=true` to remove the overhead.\n",
      "And if memory is not enough, you can set `force_col_wise=true`.\n",
      "[LightGBM] [Info] Total Bins 11283\n",
      "[LightGBM] [Info] Number of data points in the train set: 196806, number of used features: 115\n",
      "[LightGBM] [Warning] objective is set=binary, application=binary will be ignored. Current value: objective=binary\n",
      "[LightGBM] [Info] [binary:BoostFromScore]: pavg=0.081171 -> initscore=-2.426538\n",
      "[LightGBM] [Info] Start training from score -2.426538\n",
      "Training until validation scores don't improve for 100 rounds\n",
      "[20]\tvalid_0's auc: 0.737593\n",
      "[40]\tvalid_0's auc: 0.742916\n",
      "[60]\tvalid_0's auc: 0.744905\n",
      "[80]\tvalid_0's auc: 0.746365\n",
      "[100]\tvalid_0's auc: 0.747349\n",
      "[120]\tvalid_0's auc: 0.748563\n",
      "[140]\tvalid_0's auc: 0.749767\n",
      "[160]\tvalid_0's auc: 0.750221\n",
      "[180]\tvalid_0's auc: 0.750691\n",
      "[200]\tvalid_0's auc: 0.750862\n",
      "[220]\tvalid_0's auc: 0.751074\n",
      "[240]\tvalid_0's auc: 0.751072\n",
      "[260]\tvalid_0's auc: 0.750784\n",
      "[280]\tvalid_0's auc: 0.750691\n",
      "[300]\tvalid_0's auc: 0.75016\n",
      "[320]\tvalid_0's auc: 0.750022\n",
      "Early stopping, best iteration is:\n",
      "[230]\tvalid_0's auc: 0.751241\n",
      "Train Confusion Matrix\n",
      "[[162674  63450]\n",
      " [  5475  14409]] \n",
      "\n",
      "Test Confusion Matrix\n",
      "[[40522 16040]\n",
      " [ 1694  3247]] \n",
      "\n"
     ]
    },
    {
     "data": {
      "image/png": "[encoded data removed]",
      "text/plain": [
       "<Figure size 432x288 with 1 Axes>"
      ]
     },
     "metadata": {
      "needs_background": "light"
     },
     "output_type": "display_data"
    },
    {
     "name": "stdout",
     "output_type": "stream",
     "text": [
      "AUC on test: 0.7513\n",
      "f1_score on test: 0.2680\n"
     ]
    }
   ],
   "source": [
    "auc_dic['remove_meaningless_features'] = evaluate_with_lightgbm.run(X_train, X_test, y_train, y_test)"
   ]
  },
  {
   "cell_type": "markdown",
   "id": "87e82310",
   "metadata": {},
   "source": [
    "### one hot encode"
   ]
  },
  {
   "cell_type": "code",
   "execution_count": 16,
   "id": "7cf4104c",
   "metadata": {},
   "outputs": [],
   "source": [
    "col_cate = preprocess.detect_cate_features(X_train, X_test)"
   ]
  },
  {
   "cell_type": "code",
   "execution_count": 17,
   "id": "1a2d4c04",
   "metadata": {},
   "outputs": [
    {
     "name": "stdout",
     "output_type": "stream",
     "text": [
      "8가지 카테고리 제거 -> 15개의 관측치를 예외 케이스로 변경\n",
      "10가지 카테고리 제거 -> 35개의 관측치를 예외 케이스로 변경\n",
      "3가지 카테고리 제거 -> 3개의 관측치를 예외 케이스로 변경\n",
      "10가지 카테고리 제거 -> 33개의 관측치를 예외 케이스로 변경\n",
      "3가지 카테고리 제거 -> 5개의 관측치를 예외 케이스로 변경\n",
      "2가지 카테고리 제거 -> 9개의 관측치를 예외 케이스로 변경\n",
      "3가지 카테고리 제거 -> 15개의 관측치를 예외 케이스로 변경\n",
      "4가지 카테고리 제거 -> 13개의 관측치를 예외 케이스로 변경\n",
      "2가지 카테고리 제거 -> 11개의 관측치를 예외 케이스로 변경\n"
     ]
    }
   ],
   "source": [
    "X_train_dummy, X_test_dummy = preprocess.one_hot_encode_cate_features(\n",
    "    X_train, X_test, col_cate)"
   ]
  },
  {
   "cell_type": "code",
   "execution_count": 20,
   "id": "58b88329",
   "metadata": {},
   "outputs": [
    {
     "name": "stderr",
     "output_type": "stream",
     "text": [
      "/Users/dane.ahn/anaconda3/lib/python3.8/site-packages/lightgbm/engine.py:181: UserWarning: 'early_stopping_rounds' argument is deprecated and will be removed in a future release of LightGBM. Pass 'early_stopping()' callback via 'callbacks' argument instead.\n",
      "  _log_warning(\"'early_stopping_rounds' argument is deprecated and will be removed in a future release of LightGBM. \"\n",
      "/Users/dane.ahn/anaconda3/lib/python3.8/site-packages/lightgbm/engine.py:239: UserWarning: 'verbose_eval' argument is deprecated and will be removed in a future release of LightGBM. Pass 'log_evaluation()' callback via 'callbacks' argument instead.\n",
      "  _log_warning(\"'verbose_eval' argument is deprecated and will be removed in a future release of LightGBM. \"\n"
     ]
    },
    {
     "name": "stdout",
     "output_type": "stream",
     "text": [
      "[LightGBM] [Warning] objective is set=binary, application=binary will be ignored. Current value: objective=binary\n",
      "[LightGBM] [Warning] objective is set=binary, application=binary will be ignored. Current value: objective=binary\n",
      "[LightGBM] [Info] Number of positive: 16011, number of negative: 180795\n",
      "[LightGBM] [Warning] Auto-choosing row-wise multi-threading, the overhead of testing was 0.028455 seconds.\n",
      "You can set `force_row_wise=true` to remove the overhead.\n",
      "And if memory is not enough, you can set `force_col_wise=true`.\n",
      "[LightGBM] [Info] Total Bins 11483\n",
      "[LightGBM] [Info] Number of data points in the train set: 196806, number of used features: 260\n",
      "[LightGBM] [Warning] objective is set=binary, application=binary will be ignored. Current value: objective=binary\n",
      "[LightGBM] [Info] [binary:BoostFromScore]: pavg=0.081354 -> initscore=-2.424088\n",
      "[LightGBM] [Info] Start training from score -2.424088\n",
      "Training until validation scores don't improve for 100 rounds\n",
      "[20]\tvalid_0's auc: 0.740166\n",
      "[40]\tvalid_0's auc: 0.745135\n",
      "[60]\tvalid_0's auc: 0.746906\n",
      "[80]\tvalid_0's auc: 0.749481\n",
      "[100]\tvalid_0's auc: 0.75112\n",
      "[120]\tvalid_0's auc: 0.752262\n",
      "[140]\tvalid_0's auc: 0.75285\n",
      "[160]\tvalid_0's auc: 0.75344\n",
      "[180]\tvalid_0's auc: 0.754208\n",
      "[200]\tvalid_0's auc: 0.753736\n",
      "[220]\tvalid_0's auc: 0.75345\n",
      "[240]\tvalid_0's auc: 0.753091\n",
      "[260]\tvalid_0's auc: 0.752796\n",
      "[280]\tvalid_0's auc: 0.752217\n",
      "Early stopping, best iteration is:\n",
      "[180]\tvalid_0's auc: 0.754208\n",
      "Train Confusion Matrix\n",
      "[[160388  65736]\n",
      " [  5525  14359]] \n",
      "\n",
      "Test Confusion Matrix\n",
      "[[39933 16629]\n",
      " [ 1652  3289]] \n",
      "\n"
     ]
    },
    {
     "data": {
      "image/png": "[encoded data removed]",
      "text/plain": [
       "<Figure size 432x288 with 1 Axes>"
      ]
     },
     "metadata": {
      "needs_background": "light"
     },
     "output_type": "display_data"
    },
    {
     "name": "stdout",
     "output_type": "stream",
     "text": [
      "AUC on test: 0.7502\n",
      "f1_score on test: 0.2646\n"
     ]
    }
   ],
   "source": [
    "auc_dic['one_hot_encoded'] = evaluate_with_lightgbm.run(X_train_dummy, X_test_dummy, y_train, y_test)"
   ]
  },
  {
   "cell_type": "markdown",
   "id": "a06fd5af",
   "metadata": {},
   "source": [
    "### remove edge cates"
   ]
  },
  {
   "cell_type": "code",
   "execution_count": 21,
   "id": "d14284eb",
   "metadata": {},
   "outputs": [
    {
     "name": "stdout",
     "output_type": "stream",
     "text": [
      "제거할 칼럼 수: 7\n"
     ]
    }
   ],
   "source": [
    "X_train_edge_removed, X_test_edge_removed = preprocess.remove_edge_cates(X_train_dummy, X_test_dummy, y_train, y_test, rare_threshold=0.001)"
   ]
  },
  {
   "cell_type": "code",
   "execution_count": 22,
   "id": "cddc50c7",
   "metadata": {},
   "outputs": [
    {
     "name": "stderr",
     "output_type": "stream",
     "text": [
      "/Users/dane.ahn/anaconda3/lib/python3.8/site-packages/lightgbm/engine.py:181: UserWarning: 'early_stopping_rounds' argument is deprecated and will be removed in a future release of LightGBM. Pass 'early_stopping()' callback via 'callbacks' argument instead.\n",
      "  _log_warning(\"'early_stopping_rounds' argument is deprecated and will be removed in a future release of LightGBM. \"\n",
      "/Users/dane.ahn/anaconda3/lib/python3.8/site-packages/lightgbm/engine.py:239: UserWarning: 'verbose_eval' argument is deprecated and will be removed in a future release of LightGBM. Pass 'log_evaluation()' callback via 'callbacks' argument instead.\n",
      "  _log_warning(\"'verbose_eval' argument is deprecated and will be removed in a future release of LightGBM. \"\n"
     ]
    },
    {
     "name": "stdout",
     "output_type": "stream",
     "text": [
      "[LightGBM] [Warning] objective is set=binary, application=binary will be ignored. Current value: objective=binary\n",
      "[LightGBM] [Warning] objective is set=binary, application=binary will be ignored. Current value: objective=binary\n",
      "[LightGBM] [Info] Number of positive: 15874, number of negative: 180932\n",
      "[LightGBM] [Warning] Auto-choosing row-wise multi-threading, the overhead of testing was 0.041921 seconds.\n",
      "You can set `force_row_wise=true` to remove the overhead.\n",
      "And if memory is not enough, you can set `force_col_wise=true`.\n",
      "[LightGBM] [Info] Total Bins 11472\n",
      "[LightGBM] [Info] Number of data points in the train set: 196806, number of used features: 260\n",
      "[LightGBM] [Warning] objective is set=binary, application=binary will be ignored. Current value: objective=binary\n",
      "[LightGBM] [Info] [binary:BoostFromScore]: pavg=0.080658 -> initscore=-2.433439\n",
      "[LightGBM] [Info] Start training from score -2.433439\n",
      "Training until validation scores don't improve for 100 rounds\n",
      "[20]\tvalid_0's auc: 0.737464\n",
      "[40]\tvalid_0's auc: 0.74267\n",
      "[60]\tvalid_0's auc: 0.745407\n",
      "[80]\tvalid_0's auc: 0.747264\n",
      "[100]\tvalid_0's auc: 0.749\n",
      "[120]\tvalid_0's auc: 0.749413\n",
      "[140]\tvalid_0's auc: 0.749919\n",
      "[160]\tvalid_0's auc: 0.75036\n",
      "[180]\tvalid_0's auc: 0.750208\n",
      "[200]\tvalid_0's auc: 0.750435\n",
      "[220]\tvalid_0's auc: 0.750563\n",
      "[240]\tvalid_0's auc: 0.750352\n",
      "[260]\tvalid_0's auc: 0.750468\n",
      "[280]\tvalid_0's auc: 0.750433\n",
      "[300]\tvalid_0's auc: 0.750515\n",
      "[320]\tvalid_0's auc: 0.750658\n",
      "[340]\tvalid_0's auc: 0.751129\n",
      "[360]\tvalid_0's auc: 0.751065\n",
      "[380]\tvalid_0's auc: 0.751019\n",
      "[400]\tvalid_0's auc: 0.751158\n",
      "[420]\tvalid_0's auc: 0.750674\n",
      "[440]\tvalid_0's auc: 0.750451\n",
      "Early stopping, best iteration is:\n",
      "[357]\tvalid_0's auc: 0.751206\n",
      "Train Confusion Matrix\n",
      "[[165137  60987]\n",
      " [  5133  14751]] \n",
      "\n",
      "Test Confusion Matrix\n",
      "[[41120 15442]\n",
      " [ 1762  3179]] \n",
      "\n"
     ]
    },
    {
     "data": {
      "image/png": "[encoded data removed]",
      "text/plain": [
       "<Figure size 432x288 with 1 Axes>"
      ]
     },
     "metadata": {
      "needs_background": "light"
     },
     "output_type": "display_data"
    },
    {
     "name": "stdout",
     "output_type": "stream",
     "text": [
      "AUC on test: 0.7504\n",
      "f1_score on test: 0.2698\n"
     ]
    }
   ],
   "source": [
    "auc_dic['remove_edge_cates'] = evaluate_with_lightgbm.run(X_train_edge_removed, X_test_edge_removed, y_train, y_test)"
   ]
  },
  {
   "cell_type": "code",
   "execution_count": 24,
   "id": "16134acd",
   "metadata": {
    "scrolled": false
   },
   "outputs": [
    {
     "name": "stderr",
     "output_type": "stream",
     "text": [
      "/Users/dane.ahn/anaconda3/lib/python3.8/site-packages/lightgbm/engine.py:181: UserWarning: 'early_stopping_rounds' argument is deprecated and will be removed in a future release of LightGBM. Pass 'early_stopping()' callback via 'callbacks' argument instead.\n",
      "  _log_warning(\"'early_stopping_rounds' argument is deprecated and will be removed in a future release of LightGBM. \"\n",
      "/Users/dane.ahn/anaconda3/lib/python3.8/site-packages/lightgbm/engine.py:239: UserWarning: 'verbose_eval' argument is deprecated and will be removed in a future release of LightGBM. Pass 'log_evaluation()' callback via 'callbacks' argument instead.\n",
      "  _log_warning(\"'verbose_eval' argument is deprecated and will be removed in a future release of LightGBM. \"\n"
     ]
    },
    {
     "name": "stdout",
     "output_type": "stream",
     "text": [
      "[LightGBM] [Warning] objective is set=binary, application=binary will be ignored. Current value: objective=binary\n",
      "[LightGBM] [Warning] objective is set=binary, application=binary will be ignored. Current value: objective=binary\n",
      "[LightGBM] [Info] Number of positive: 15854, number of negative: 180952\n",
      "[LightGBM] [Warning] Auto-choosing row-wise multi-threading, the overhead of testing was 0.039457 seconds.\n",
      "You can set `force_row_wise=true` to remove the overhead.\n",
      "And if memory is not enough, you can set `force_col_wise=true`.\n",
      "[LightGBM] [Info] Total Bins 11409\n",
      "[LightGBM] [Info] Number of data points in the train set: 196806, number of used features: 263\n",
      "[LightGBM] [Warning] objective is set=binary, application=binary will be ignored. Current value: objective=binary\n",
      "[LightGBM] [Info] [binary:BoostFromScore]: pavg=0.080556 -> initscore=-2.434810\n",
      "[LightGBM] [Info] Start training from score -2.434810\n",
      "Training until validation scores don't improve for 100 rounds\n",
      "[20]\tvalid_0's auc: 0.7423\n",
      "[40]\tvalid_0's auc: 0.747914\n",
      "[60]\tvalid_0's auc: 0.750505\n",
      "[80]\tvalid_0's auc: 0.752189\n",
      "[100]\tvalid_0's auc: 0.75395\n",
      "[120]\tvalid_0's auc: 0.754972\n",
      "[140]\tvalid_0's auc: 0.755698\n",
      "[160]\tvalid_0's auc: 0.756514\n",
      "[180]\tvalid_0's auc: 0.756395\n",
      "[200]\tvalid_0's auc: 0.756317\n",
      "[220]\tvalid_0's auc: 0.756506\n",
      "[240]\tvalid_0's auc: 0.756292\n",
      "[260]\tvalid_0's auc: 0.756509\n",
      "[280]\tvalid_0's auc: 0.756243\n",
      "[300]\tvalid_0's auc: 0.755656\n",
      "[320]\tvalid_0's auc: 0.756028\n",
      "Early stopping, best iteration is:\n",
      "[226]\tvalid_0's auc: 0.756602\n",
      "[LightGBM] [Warning] objective is set=binary, application=binary will be ignored. Current value: objective=binary\n",
      "[LightGBM] [Warning] objective is set=binary, application=binary will be ignored. Current value: objective=binary\n",
      "[LightGBM] [Info] Number of positive: 15854, number of negative: 180952\n",
      "[LightGBM] [Warning] Auto-choosing row-wise multi-threading, the overhead of testing was 0.001700 seconds.\n",
      "You can set `force_row_wise=true` to remove the overhead.\n",
      "And if memory is not enough, you can set `force_col_wise=true`.\n",
      "[LightGBM] [Info] Total Bins 6526\n",
      "[LightGBM] [Info] Number of data points in the train set: 196806, number of used features: 30\n",
      "[LightGBM] [Warning] objective is set=binary, application=binary will be ignored. Current value: objective=binary\n",
      "[LightGBM] [Info] [binary:BoostFromScore]: pavg=0.080556 -> initscore=-2.434810\n",
      "[LightGBM] [Info] Start training from score -2.434810\n",
      "Training until validation scores don't improve for 100 rounds\n",
      "[20]\tvalid_0's auc: 0.736958\n",
      "[40]\tvalid_0's auc: 0.742064\n",
      "[60]\tvalid_0's auc: 0.744046\n",
      "[80]\tvalid_0's auc: 0.745376\n",
      "[100]\tvalid_0's auc: 0.746192\n",
      "[120]\tvalid_0's auc: 0.746838\n",
      "[140]\tvalid_0's auc: 0.747609\n",
      "[160]\tvalid_0's auc: 0.747894\n",
      "[180]\tvalid_0's auc: 0.747669\n",
      "[200]\tvalid_0's auc: 0.747586\n",
      "[220]\tvalid_0's auc: 0.747762\n",
      "[240]\tvalid_0's auc: 0.747689\n",
      "[260]\tvalid_0's auc: 0.74767\n",
      "[280]\tvalid_0's auc: 0.74785\n",
      "[300]\tvalid_0's auc: 0.747997\n",
      "[320]\tvalid_0's auc: 0.748365\n",
      "[340]\tvalid_0's auc: 0.747748\n",
      "[360]\tvalid_0's auc: 0.747619\n",
      "[380]\tvalid_0's auc: 0.747461\n",
      "[400]\tvalid_0's auc: 0.747312\n",
      "[420]\tvalid_0's auc: 0.747162\n",
      "Early stopping, best iteration is:\n",
      "[321]\tvalid_0's auc: 0.7484\n",
      "Train Confusion Matrix\n",
      "[[163052  63072]\n",
      " [  5408  14476]] \n",
      "\n",
      "Test Confusion Matrix\n",
      "[[40532 16030]\n",
      " [ 1762  3179]] \n",
      "\n"
     ]
    },
    {
     "data": {
      "image/png": "[encoded data removed]",
      "text/plain": [
       "<Figure size 432x288 with 1 Axes>"
      ]
     },
     "metadata": {
      "needs_background": "light"
     },
     "output_type": "display_data"
    },
    {
     "name": "stdout",
     "output_type": "stream",
     "text": [
      "AUC on test: 0.7429\n",
      "f1_score on test: 0.2633\n"
     ]
    }
   ],
   "source": [
    "auc_dic['remove_edge_cates_feature_selected'] = evaluate_with_lightgbm.run(X_train_dummy, X_test_dummy, y_train, y_test, X_train_dummy.shape[1] // 5)"
   ]
  },
  {
   "cell_type": "markdown",
   "id": "02a7fd58",
   "metadata": {},
   "source": [
    "### Final result"
   ]
  },
  {
   "cell_type": "code",
   "execution_count": 25,
   "id": "694ff789",
   "metadata": {},
   "outputs": [
    {
     "data": {
      "text/html": [
       "<div>\n",
       "<style scoped>\n",
       "    .dataframe tbody tr th:only-of-type {\n",
       "        vertical-align: middle;\n",
       "    }\n",
       "\n",
       "    .dataframe tbody tr th {\n",
       "        vertical-align: top;\n",
       "    }\n",
       "\n",
       "    .dataframe thead th {\n",
       "        text-align: right;\n",
       "    }\n",
       "</style>\n",
       "<table border=\"1\" class=\"dataframe\">\n",
       "  <thead>\n",
       "    <tr style=\"text-align: right;\">\n",
       "      <th></th>\n",
       "      <th>index</th>\n",
       "      <th>0</th>\n",
       "    </tr>\n",
       "  </thead>\n",
       "  <tbody>\n",
       "    <tr>\n",
       "      <th>0</th>\n",
       "      <td>remove_edge_cates_feature_selected</td>\n",
       "      <td>0.742907</td>\n",
       "    </tr>\n",
       "    <tr>\n",
       "      <th>1</th>\n",
       "      <td>no_preprocess_feature_select</td>\n",
       "      <td>0.745168</td>\n",
       "    </tr>\n",
       "    <tr>\n",
       "      <th>2</th>\n",
       "      <td>one_hot_encoded</td>\n",
       "      <td>0.750181</td>\n",
       "    </tr>\n",
       "    <tr>\n",
       "      <th>3</th>\n",
       "      <td>remove_edge_cates</td>\n",
       "      <td>0.750431</td>\n",
       "    </tr>\n",
       "    <tr>\n",
       "      <th>4</th>\n",
       "      <td>remove_meaningless_features</td>\n",
       "      <td>0.751304</td>\n",
       "    </tr>\n",
       "    <tr>\n",
       "      <th>5</th>\n",
       "      <td>no_preprocess</td>\n",
       "      <td>0.752189</td>\n",
       "    </tr>\n",
       "  </tbody>\n",
       "</table>\n",
       "</div>"
      ],
      "text/plain": [
       "                                index         0\n",
       "0  remove_edge_cates_feature_selected  0.742907\n",
       "1        no_preprocess_feature_select  0.745168\n",
       "2                     one_hot_encoded  0.750181\n",
       "3                   remove_edge_cates  0.750431\n",
       "4         remove_meaningless_features  0.751304\n",
       "5                       no_preprocess  0.752189"
      ]
     },
     "execution_count": 25,
     "metadata": {},
     "output_type": "execute_result"
    }
   ],
   "source": [
    "pd.Series(auc_dic).sort_values().reset_index()"
   ]
  }
 ],
 "metadata": {
  "kernelspec": {
   "display_name": "Python 3",
   "language": "python",
   "name": "python3"
  },
  "language_info": {
   "codemirror_mode": {
    "name": "ipython",
    "version": 3
   },
   "file_extension": ".py",
   "mimetype": "text/x-python",
   "name": "python",
   "nbconvert_exporter": "python",
   "pygments_lexer": "ipython3",
   "version": "3.8.8"
  }
 },
 "nbformat": 4,
 "nbformat_minor": 5
}
